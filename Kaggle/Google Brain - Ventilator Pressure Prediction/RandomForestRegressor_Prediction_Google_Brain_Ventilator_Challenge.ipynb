{
  "nbformat": 4,
  "nbformat_minor": 0,
  "metadata": {
    "colab": {
      "name": "RqandomForestRegressor Prediction : Google Brain Ventilator Challenge",
      "provenance": [],
      "collapsed_sections": []
    },
    "kernelspec": {
      "name": "python3",
      "display_name": "Python 3"
    },
    "language_info": {
      "name": "python"
    }
  },
  "cells": [
    {
      "cell_type": "code",
      "metadata": {
        "id": "bI_GPvsJUQzw"
      },
      "source": [
        "!pip install -q kaggle\n",
        "!mkdir -p ~/.kaggle                             \n",
        "!cp kaggle.json ~/.kaggle/   \n",
        "!chmod 600 ~/.kaggle/kaggle.json"
      ],
      "execution_count": null,
      "outputs": []
    },
    {
      "cell_type": "code",
      "metadata": {
        "colab": {
          "base_uri": "https://localhost:8080/"
        },
        "id": "JCb2IibWUed1",
        "outputId": "08e8caef-f4c8-47c4-b2e5-ba2004fd19c5"
      },
      "source": [
        "!kaggle competitions download -c ventilator-pressure-prediction"
      ],
      "execution_count": null,
      "outputs": [
        {
          "output_type": "stream",
          "name": "stdout",
          "text": [
            "Warning: Looks like you're using an outdated API Version, please consider updating (server 1.5.12 / client 1.5.4)\n",
            "sample_submission.csv.zip: Skipping, found more recently modified local copy (use --force to force download)\n",
            "test.csv.zip: Skipping, found more recently modified local copy (use --force to force download)\n",
            "train.csv.zip: Skipping, found more recently modified local copy (use --force to force download)\n"
          ]
        }
      ]
    },
    {
      "cell_type": "code",
      "metadata": {
        "colab": {
          "base_uri": "https://localhost:8080/"
        },
        "id": "1DOtLkvSUvqE",
        "outputId": "bcf5aa1d-1921-455a-d92d-ab70553a0ed6"
      },
      "source": [
        "!unzip '/content/*.zip'"
      ],
      "execution_count": null,
      "outputs": [
        {
          "output_type": "stream",
          "name": "stdout",
          "text": [
            "Archive:  /content/train.csv.zip\n",
            "replace train.csv? [y]es, [n]o, [A]ll, [N]one, [r]ename: N\n",
            "\n",
            "Archive:  /content/sample_submission.csv.zip\n",
            "\n",
            "Archive:  /content/test.csv.zip\n",
            "\n",
            "3 archives were successfully processed.\n"
          ]
        }
      ]
    },
    {
      "cell_type": "code",
      "metadata": {
        "id": "yjF7IZdmU1Ds"
      },
      "source": [
        "import pandas as pd\n",
        "import numpy as np\n",
        "import matplotlib.pyplot as plt\n",
        "import seaborn as sns\n",
        "import warnings\n",
        "warnings.filterwarnings('ignore')"
      ],
      "execution_count": null,
      "outputs": []
    },
    {
      "cell_type": "code",
      "metadata": {
        "colab": {
          "base_uri": "https://localhost:8080/",
          "height": 202
        },
        "id": "Rg8kc1D2VxcL",
        "outputId": "dee1f3d9-e6f9-4d25-a0da-5d998ed34e8c"
      },
      "source": [
        "train_df = pd.read_csv('train.csv')\n",
        "train_df.head()"
      ],
      "execution_count": null,
      "outputs": [
        {
          "output_type": "execute_result",
          "data": {
            "text/html": [
              "<div>\n",
              "<style scoped>\n",
              "    .dataframe tbody tr th:only-of-type {\n",
              "        vertical-align: middle;\n",
              "    }\n",
              "\n",
              "    .dataframe tbody tr th {\n",
              "        vertical-align: top;\n",
              "    }\n",
              "\n",
              "    .dataframe thead th {\n",
              "        text-align: right;\n",
              "    }\n",
              "</style>\n",
              "<table border=\"1\" class=\"dataframe\">\n",
              "  <thead>\n",
              "    <tr style=\"text-align: right;\">\n",
              "      <th></th>\n",
              "      <th>id</th>\n",
              "      <th>breath_id</th>\n",
              "      <th>R</th>\n",
              "      <th>C</th>\n",
              "      <th>time_step</th>\n",
              "      <th>u_in</th>\n",
              "      <th>u_out</th>\n",
              "      <th>pressure</th>\n",
              "    </tr>\n",
              "  </thead>\n",
              "  <tbody>\n",
              "    <tr>\n",
              "      <th>0</th>\n",
              "      <td>1</td>\n",
              "      <td>1</td>\n",
              "      <td>20</td>\n",
              "      <td>50</td>\n",
              "      <td>0.000000</td>\n",
              "      <td>0.083334</td>\n",
              "      <td>0</td>\n",
              "      <td>5.837492</td>\n",
              "    </tr>\n",
              "    <tr>\n",
              "      <th>1</th>\n",
              "      <td>2</td>\n",
              "      <td>1</td>\n",
              "      <td>20</td>\n",
              "      <td>50</td>\n",
              "      <td>0.033652</td>\n",
              "      <td>18.383041</td>\n",
              "      <td>0</td>\n",
              "      <td>5.907794</td>\n",
              "    </tr>\n",
              "    <tr>\n",
              "      <th>2</th>\n",
              "      <td>3</td>\n",
              "      <td>1</td>\n",
              "      <td>20</td>\n",
              "      <td>50</td>\n",
              "      <td>0.067514</td>\n",
              "      <td>22.509278</td>\n",
              "      <td>0</td>\n",
              "      <td>7.876254</td>\n",
              "    </tr>\n",
              "    <tr>\n",
              "      <th>3</th>\n",
              "      <td>4</td>\n",
              "      <td>1</td>\n",
              "      <td>20</td>\n",
              "      <td>50</td>\n",
              "      <td>0.101542</td>\n",
              "      <td>22.808822</td>\n",
              "      <td>0</td>\n",
              "      <td>11.742872</td>\n",
              "    </tr>\n",
              "    <tr>\n",
              "      <th>4</th>\n",
              "      <td>5</td>\n",
              "      <td>1</td>\n",
              "      <td>20</td>\n",
              "      <td>50</td>\n",
              "      <td>0.135756</td>\n",
              "      <td>25.355850</td>\n",
              "      <td>0</td>\n",
              "      <td>12.234987</td>\n",
              "    </tr>\n",
              "  </tbody>\n",
              "</table>\n",
              "</div>"
            ],
            "text/plain": [
              "   id  breath_id   R   C  time_step       u_in  u_out   pressure\n",
              "0   1          1  20  50   0.000000   0.083334      0   5.837492\n",
              "1   2          1  20  50   0.033652  18.383041      0   5.907794\n",
              "2   3          1  20  50   0.067514  22.509278      0   7.876254\n",
              "3   4          1  20  50   0.101542  22.808822      0  11.742872\n",
              "4   5          1  20  50   0.135756  25.355850      0  12.234987"
            ]
          },
          "metadata": {},
          "execution_count": 92
        }
      ]
    },
    {
      "cell_type": "code",
      "metadata": {
        "colab": {
          "base_uri": "https://localhost:8080/"
        },
        "id": "cZ7FRQuIoYWd",
        "outputId": "134e5321-34c1-4bff-e405-6c29740144cd"
      },
      "source": [
        "train_df.shape"
      ],
      "execution_count": null,
      "outputs": [
        {
          "output_type": "execute_result",
          "data": {
            "text/plain": [
              "(6036000, 8)"
            ]
          },
          "metadata": {},
          "execution_count": 93
        }
      ]
    },
    {
      "cell_type": "code",
      "metadata": {
        "colab": {
          "base_uri": "https://localhost:8080/",
          "height": 294
        },
        "id": "VUhDsNZJV3kb",
        "outputId": "c693bb0f-b2cc-410c-80a2-2f37634bfe3b"
      },
      "source": [
        "train_df.describe()"
      ],
      "execution_count": null,
      "outputs": [
        {
          "output_type": "execute_result",
          "data": {
            "text/html": [
              "<div>\n",
              "<style scoped>\n",
              "    .dataframe tbody tr th:only-of-type {\n",
              "        vertical-align: middle;\n",
              "    }\n",
              "\n",
              "    .dataframe tbody tr th {\n",
              "        vertical-align: top;\n",
              "    }\n",
              "\n",
              "    .dataframe thead th {\n",
              "        text-align: right;\n",
              "    }\n",
              "</style>\n",
              "<table border=\"1\" class=\"dataframe\">\n",
              "  <thead>\n",
              "    <tr style=\"text-align: right;\">\n",
              "      <th></th>\n",
              "      <th>id</th>\n",
              "      <th>breath_id</th>\n",
              "      <th>R</th>\n",
              "      <th>C</th>\n",
              "      <th>time_step</th>\n",
              "      <th>u_in</th>\n",
              "      <th>u_out</th>\n",
              "      <th>pressure</th>\n",
              "    </tr>\n",
              "  </thead>\n",
              "  <tbody>\n",
              "    <tr>\n",
              "      <th>count</th>\n",
              "      <td>6.036000e+06</td>\n",
              "      <td>6.036000e+06</td>\n",
              "      <td>6.036000e+06</td>\n",
              "      <td>6.036000e+06</td>\n",
              "      <td>6.036000e+06</td>\n",
              "      <td>6.036000e+06</td>\n",
              "      <td>6.036000e+06</td>\n",
              "      <td>6.036000e+06</td>\n",
              "    </tr>\n",
              "    <tr>\n",
              "      <th>mean</th>\n",
              "      <td>3.018000e+06</td>\n",
              "      <td>6.283886e+04</td>\n",
              "      <td>2.703618e+01</td>\n",
              "      <td>2.608072e+01</td>\n",
              "      <td>1.307225e+00</td>\n",
              "      <td>7.321615e+00</td>\n",
              "      <td>6.204493e-01</td>\n",
              "      <td>1.122041e+01</td>\n",
              "    </tr>\n",
              "    <tr>\n",
              "      <th>std</th>\n",
              "      <td>1.742443e+06</td>\n",
              "      <td>3.633526e+04</td>\n",
              "      <td>1.959549e+01</td>\n",
              "      <td>1.715231e+01</td>\n",
              "      <td>7.659778e-01</td>\n",
              "      <td>1.343470e+01</td>\n",
              "      <td>4.852752e-01</td>\n",
              "      <td>8.109703e+00</td>\n",
              "    </tr>\n",
              "    <tr>\n",
              "      <th>min</th>\n",
              "      <td>1.000000e+00</td>\n",
              "      <td>1.000000e+00</td>\n",
              "      <td>5.000000e+00</td>\n",
              "      <td>1.000000e+01</td>\n",
              "      <td>0.000000e+00</td>\n",
              "      <td>0.000000e+00</td>\n",
              "      <td>0.000000e+00</td>\n",
              "      <td>-1.895744e+00</td>\n",
              "    </tr>\n",
              "    <tr>\n",
              "      <th>25%</th>\n",
              "      <td>1.509001e+06</td>\n",
              "      <td>3.137700e+04</td>\n",
              "      <td>5.000000e+00</td>\n",
              "      <td>1.000000e+01</td>\n",
              "      <td>6.428995e-01</td>\n",
              "      <td>3.936623e-01</td>\n",
              "      <td>0.000000e+00</td>\n",
              "      <td>6.329607e+00</td>\n",
              "    </tr>\n",
              "    <tr>\n",
              "      <th>50%</th>\n",
              "      <td>3.018000e+06</td>\n",
              "      <td>6.276550e+04</td>\n",
              "      <td>2.000000e+01</td>\n",
              "      <td>2.000000e+01</td>\n",
              "      <td>1.308123e+00</td>\n",
              "      <td>4.386146e+00</td>\n",
              "      <td>1.000000e+00</td>\n",
              "      <td>7.032628e+00</td>\n",
              "    </tr>\n",
              "    <tr>\n",
              "      <th>75%</th>\n",
              "      <td>4.527000e+06</td>\n",
              "      <td>9.430100e+04</td>\n",
              "      <td>5.000000e+01</td>\n",
              "      <td>5.000000e+01</td>\n",
              "      <td>1.965502e+00</td>\n",
              "      <td>4.983895e+00</td>\n",
              "      <td>1.000000e+00</td>\n",
              "      <td>1.364103e+01</td>\n",
              "    </tr>\n",
              "    <tr>\n",
              "      <th>max</th>\n",
              "      <td>6.036000e+06</td>\n",
              "      <td>1.257490e+05</td>\n",
              "      <td>5.000000e+01</td>\n",
              "      <td>5.000000e+01</td>\n",
              "      <td>2.937238e+00</td>\n",
              "      <td>1.000000e+02</td>\n",
              "      <td>1.000000e+00</td>\n",
              "      <td>6.482099e+01</td>\n",
              "    </tr>\n",
              "  </tbody>\n",
              "</table>\n",
              "</div>"
            ],
            "text/plain": [
              "                 id     breath_id  ...         u_out      pressure\n",
              "count  6.036000e+06  6.036000e+06  ...  6.036000e+06  6.036000e+06\n",
              "mean   3.018000e+06  6.283886e+04  ...  6.204493e-01  1.122041e+01\n",
              "std    1.742443e+06  3.633526e+04  ...  4.852752e-01  8.109703e+00\n",
              "min    1.000000e+00  1.000000e+00  ...  0.000000e+00 -1.895744e+00\n",
              "25%    1.509001e+06  3.137700e+04  ...  0.000000e+00  6.329607e+00\n",
              "50%    3.018000e+06  6.276550e+04  ...  1.000000e+00  7.032628e+00\n",
              "75%    4.527000e+06  9.430100e+04  ...  1.000000e+00  1.364103e+01\n",
              "max    6.036000e+06  1.257490e+05  ...  1.000000e+00  6.482099e+01\n",
              "\n",
              "[8 rows x 8 columns]"
            ]
          },
          "metadata": {},
          "execution_count": 94
        }
      ]
    },
    {
      "cell_type": "code",
      "metadata": {
        "colab": {
          "base_uri": "https://localhost:8080/",
          "height": 202
        },
        "id": "tMAv6flZV8A0",
        "outputId": "6746cd22-1353-4a52-ca68-b1c1940bb0fc"
      },
      "source": [
        "test_df = pd.read_csv('test.csv')\n",
        "test_df.head()"
      ],
      "execution_count": null,
      "outputs": [
        {
          "output_type": "execute_result",
          "data": {
            "text/html": [
              "<div>\n",
              "<style scoped>\n",
              "    .dataframe tbody tr th:only-of-type {\n",
              "        vertical-align: middle;\n",
              "    }\n",
              "\n",
              "    .dataframe tbody tr th {\n",
              "        vertical-align: top;\n",
              "    }\n",
              "\n",
              "    .dataframe thead th {\n",
              "        text-align: right;\n",
              "    }\n",
              "</style>\n",
              "<table border=\"1\" class=\"dataframe\">\n",
              "  <thead>\n",
              "    <tr style=\"text-align: right;\">\n",
              "      <th></th>\n",
              "      <th>id</th>\n",
              "      <th>breath_id</th>\n",
              "      <th>R</th>\n",
              "      <th>C</th>\n",
              "      <th>time_step</th>\n",
              "      <th>u_in</th>\n",
              "      <th>u_out</th>\n",
              "    </tr>\n",
              "  </thead>\n",
              "  <tbody>\n",
              "    <tr>\n",
              "      <th>0</th>\n",
              "      <td>1</td>\n",
              "      <td>0</td>\n",
              "      <td>5</td>\n",
              "      <td>20</td>\n",
              "      <td>0.000000</td>\n",
              "      <td>0.000000</td>\n",
              "      <td>0</td>\n",
              "    </tr>\n",
              "    <tr>\n",
              "      <th>1</th>\n",
              "      <td>2</td>\n",
              "      <td>0</td>\n",
              "      <td>5</td>\n",
              "      <td>20</td>\n",
              "      <td>0.031904</td>\n",
              "      <td>7.515046</td>\n",
              "      <td>0</td>\n",
              "    </tr>\n",
              "    <tr>\n",
              "      <th>2</th>\n",
              "      <td>3</td>\n",
              "      <td>0</td>\n",
              "      <td>5</td>\n",
              "      <td>20</td>\n",
              "      <td>0.063827</td>\n",
              "      <td>14.651675</td>\n",
              "      <td>0</td>\n",
              "    </tr>\n",
              "    <tr>\n",
              "      <th>3</th>\n",
              "      <td>4</td>\n",
              "      <td>0</td>\n",
              "      <td>5</td>\n",
              "      <td>20</td>\n",
              "      <td>0.095751</td>\n",
              "      <td>21.230610</td>\n",
              "      <td>0</td>\n",
              "    </tr>\n",
              "    <tr>\n",
              "      <th>4</th>\n",
              "      <td>5</td>\n",
              "      <td>0</td>\n",
              "      <td>5</td>\n",
              "      <td>20</td>\n",
              "      <td>0.127644</td>\n",
              "      <td>26.320956</td>\n",
              "      <td>0</td>\n",
              "    </tr>\n",
              "  </tbody>\n",
              "</table>\n",
              "</div>"
            ],
            "text/plain": [
              "   id  breath_id  R   C  time_step       u_in  u_out\n",
              "0   1          0  5  20   0.000000   0.000000      0\n",
              "1   2          0  5  20   0.031904   7.515046      0\n",
              "2   3          0  5  20   0.063827  14.651675      0\n",
              "3   4          0  5  20   0.095751  21.230610      0\n",
              "4   5          0  5  20   0.127644  26.320956      0"
            ]
          },
          "metadata": {},
          "execution_count": 95
        }
      ]
    },
    {
      "cell_type": "code",
      "metadata": {
        "colab": {
          "base_uri": "https://localhost:8080/"
        },
        "id": "Yysf6eKxoUbm",
        "outputId": "6f0f59d7-665b-4020-9e5e-4ee1d7f46f5d"
      },
      "source": [
        "test_df.shape"
      ],
      "execution_count": null,
      "outputs": [
        {
          "output_type": "execute_result",
          "data": {
            "text/plain": [
              "(4024000, 7)"
            ]
          },
          "metadata": {},
          "execution_count": 96
        }
      ]
    },
    {
      "cell_type": "code",
      "metadata": {
        "colab": {
          "base_uri": "https://localhost:8080/",
          "height": 294
        },
        "id": "AbGJRVIFZnGc",
        "outputId": "372d611d-748d-420f-b33d-4aca079583ba"
      },
      "source": [
        "test_df.describe()"
      ],
      "execution_count": null,
      "outputs": [
        {
          "output_type": "execute_result",
          "data": {
            "text/html": [
              "<div>\n",
              "<style scoped>\n",
              "    .dataframe tbody tr th:only-of-type {\n",
              "        vertical-align: middle;\n",
              "    }\n",
              "\n",
              "    .dataframe tbody tr th {\n",
              "        vertical-align: top;\n",
              "    }\n",
              "\n",
              "    .dataframe thead th {\n",
              "        text-align: right;\n",
              "    }\n",
              "</style>\n",
              "<table border=\"1\" class=\"dataframe\">\n",
              "  <thead>\n",
              "    <tr style=\"text-align: right;\">\n",
              "      <th></th>\n",
              "      <th>id</th>\n",
              "      <th>breath_id</th>\n",
              "      <th>R</th>\n",
              "      <th>C</th>\n",
              "      <th>time_step</th>\n",
              "      <th>u_in</th>\n",
              "      <th>u_out</th>\n",
              "    </tr>\n",
              "  </thead>\n",
              "  <tbody>\n",
              "    <tr>\n",
              "      <th>count</th>\n",
              "      <td>4.024000e+06</td>\n",
              "      <td>4.024000e+06</td>\n",
              "      <td>4.024000e+06</td>\n",
              "      <td>4.024000e+06</td>\n",
              "      <td>4.024000e+06</td>\n",
              "      <td>4.024000e+06</td>\n",
              "      <td>4.024000e+06</td>\n",
              "    </tr>\n",
              "    <tr>\n",
              "      <th>mean</th>\n",
              "      <td>2.012000e+06</td>\n",
              "      <td>6.292796e+04</td>\n",
              "      <td>2.710785e+01</td>\n",
              "      <td>2.607038e+01</td>\n",
              "      <td>1.307083e+00</td>\n",
              "      <td>7.338098e+00</td>\n",
              "      <td>6.203864e-01</td>\n",
              "    </tr>\n",
              "    <tr>\n",
              "      <th>std</th>\n",
              "      <td>1.161629e+06</td>\n",
              "      <td>3.624924e+04</td>\n",
              "      <td>1.954281e+01</td>\n",
              "      <td>1.717103e+01</td>\n",
              "      <td>7.658902e-01</td>\n",
              "      <td>1.350955e+01</td>\n",
              "      <td>4.852908e-01</td>\n",
              "    </tr>\n",
              "    <tr>\n",
              "      <th>min</th>\n",
              "      <td>1.000000e+00</td>\n",
              "      <td>0.000000e+00</td>\n",
              "      <td>5.000000e+00</td>\n",
              "      <td>1.000000e+01</td>\n",
              "      <td>0.000000e+00</td>\n",
              "      <td>0.000000e+00</td>\n",
              "      <td>0.000000e+00</td>\n",
              "    </tr>\n",
              "    <tr>\n",
              "      <th>25%</th>\n",
              "      <td>1.006001e+06</td>\n",
              "      <td>3.153050e+04</td>\n",
              "      <td>5.000000e+00</td>\n",
              "      <td>1.000000e+01</td>\n",
              "      <td>6.428454e-01</td>\n",
              "      <td>4.096735e-01</td>\n",
              "      <td>0.000000e+00</td>\n",
              "    </tr>\n",
              "    <tr>\n",
              "      <th>50%</th>\n",
              "      <td>2.012000e+06</td>\n",
              "      <td>6.305750e+04</td>\n",
              "      <td>2.000000e+01</td>\n",
              "      <td>2.000000e+01</td>\n",
              "      <td>1.308083e+00</td>\n",
              "      <td>4.377512e+00</td>\n",
              "      <td>1.000000e+00</td>\n",
              "    </tr>\n",
              "    <tr>\n",
              "      <th>75%</th>\n",
              "      <td>3.018000e+06</td>\n",
              "      <td>9.433325e+04</td>\n",
              "      <td>5.000000e+01</td>\n",
              "      <td>5.000000e+01</td>\n",
              "      <td>1.965240e+00</td>\n",
              "      <td>4.983472e+00</td>\n",
              "      <td>1.000000e+00</td>\n",
              "    </tr>\n",
              "    <tr>\n",
              "      <th>max</th>\n",
              "      <td>4.024000e+06</td>\n",
              "      <td>1.257480e+05</td>\n",
              "      <td>5.000000e+01</td>\n",
              "      <td>5.000000e+01</td>\n",
              "      <td>2.935203e+00</td>\n",
              "      <td>1.000000e+02</td>\n",
              "      <td>1.000000e+00</td>\n",
              "    </tr>\n",
              "  </tbody>\n",
              "</table>\n",
              "</div>"
            ],
            "text/plain": [
              "                 id     breath_id  ...          u_in         u_out\n",
              "count  4.024000e+06  4.024000e+06  ...  4.024000e+06  4.024000e+06\n",
              "mean   2.012000e+06  6.292796e+04  ...  7.338098e+00  6.203864e-01\n",
              "std    1.161629e+06  3.624924e+04  ...  1.350955e+01  4.852908e-01\n",
              "min    1.000000e+00  0.000000e+00  ...  0.000000e+00  0.000000e+00\n",
              "25%    1.006001e+06  3.153050e+04  ...  4.096735e-01  0.000000e+00\n",
              "50%    2.012000e+06  6.305750e+04  ...  4.377512e+00  1.000000e+00\n",
              "75%    3.018000e+06  9.433325e+04  ...  4.983472e+00  1.000000e+00\n",
              "max    4.024000e+06  1.257480e+05  ...  1.000000e+02  1.000000e+00\n",
              "\n",
              "[8 rows x 7 columns]"
            ]
          },
          "metadata": {},
          "execution_count": 97
        }
      ]
    },
    {
      "cell_type": "code",
      "metadata": {
        "colab": {
          "base_uri": "https://localhost:8080/"
        },
        "id": "cmRlqBrHZ4mS",
        "outputId": "dfd43523-2ce6-4f4f-fde0-109e4d6b9575"
      },
      "source": [
        "tr_br_id = train_df.breath_id.unique()\n",
        "ts_br_id = test_df.breath_id.unique()\n",
        "\n",
        "common_br_id = []\n",
        "\n",
        "for el in ts_br_id:\n",
        "  if el in tr_br_id:\n",
        "    common_br_id.append(el)\n",
        "print(f\"Common ids on train and test data : {len(common_br_id)}\")"
      ],
      "execution_count": null,
      "outputs": [
        {
          "output_type": "stream",
          "name": "stdout",
          "text": [
            "Common ids on train and test data : 0\n"
          ]
        }
      ]
    },
    {
      "cell_type": "code",
      "metadata": {
        "id": "hiE_mZUvtaOd"
      },
      "source": [
        "train_df.drop_duplicates(['breath_id', 'time_step'], inplace = True)"
      ],
      "execution_count": null,
      "outputs": []
    },
    {
      "cell_type": "code",
      "metadata": {
        "id": "RC3d9L91cMNh"
      },
      "source": [
        "train_df.drop('breath_id', 1, inplace = True)\n",
        "test_df.drop('breath_id', 1, inplace = True)"
      ],
      "execution_count": null,
      "outputs": []
    },
    {
      "cell_type": "code",
      "metadata": {
        "colab": {
          "base_uri": "https://localhost:8080/"
        },
        "id": "ztWArxXLaCxD",
        "outputId": "63ecd9e4-937e-48d8-cbe3-cff96e5b0ce6"
      },
      "source": [
        "train_df.isnull().sum()"
      ],
      "execution_count": null,
      "outputs": [
        {
          "output_type": "execute_result",
          "data": {
            "text/plain": [
              "id           0\n",
              "R            0\n",
              "C            0\n",
              "time_step    0\n",
              "u_in         0\n",
              "u_out        0\n",
              "pressure     0\n",
              "dtype: int64"
            ]
          },
          "metadata": {},
          "execution_count": 101
        }
      ]
    },
    {
      "cell_type": "code",
      "metadata": {
        "colab": {
          "base_uri": "https://localhost:8080/"
        },
        "id": "j8q009t2cuwS",
        "outputId": "28bd639b-6229-46c2-de8b-eea788257ffd"
      },
      "source": [
        "test_df.isnull().sum()"
      ],
      "execution_count": null,
      "outputs": [
        {
          "output_type": "execute_result",
          "data": {
            "text/plain": [
              "id           0\n",
              "R            0\n",
              "C            0\n",
              "time_step    0\n",
              "u_in         0\n",
              "u_out        0\n",
              "dtype: int64"
            ]
          },
          "metadata": {},
          "execution_count": 102
        }
      ]
    },
    {
      "cell_type": "code",
      "metadata": {
        "colab": {
          "base_uri": "https://localhost:8080/"
        },
        "id": "MXTDGhqOdbXy",
        "outputId": "87a82c4b-2ad8-4690-b9cd-1bab1fde4175"
      },
      "source": [
        "train_df.dtypes"
      ],
      "execution_count": null,
      "outputs": [
        {
          "output_type": "execute_result",
          "data": {
            "text/plain": [
              "id             int64\n",
              "R              int64\n",
              "C              int64\n",
              "time_step    float64\n",
              "u_in         float64\n",
              "u_out          int64\n",
              "pressure     float64\n",
              "dtype: object"
            ]
          },
          "metadata": {},
          "execution_count": 103
        }
      ]
    },
    {
      "cell_type": "code",
      "metadata": {
        "colab": {
          "base_uri": "https://localhost:8080/",
          "height": 202
        },
        "id": "34jN1qGsfrFy",
        "outputId": "01a663bc-dcb3-49f6-fa90-58261be45f4c"
      },
      "source": [
        "train_df.sort_values(by=['time_step'], inplace = True)\n",
        "train_df.head()"
      ],
      "execution_count": null,
      "outputs": [
        {
          "output_type": "execute_result",
          "data": {
            "text/html": [
              "<div>\n",
              "<style scoped>\n",
              "    .dataframe tbody tr th:only-of-type {\n",
              "        vertical-align: middle;\n",
              "    }\n",
              "\n",
              "    .dataframe tbody tr th {\n",
              "        vertical-align: top;\n",
              "    }\n",
              "\n",
              "    .dataframe thead th {\n",
              "        text-align: right;\n",
              "    }\n",
              "</style>\n",
              "<table border=\"1\" class=\"dataframe\">\n",
              "  <thead>\n",
              "    <tr style=\"text-align: right;\">\n",
              "      <th></th>\n",
              "      <th>id</th>\n",
              "      <th>R</th>\n",
              "      <th>C</th>\n",
              "      <th>time_step</th>\n",
              "      <th>u_in</th>\n",
              "      <th>u_out</th>\n",
              "      <th>pressure</th>\n",
              "    </tr>\n",
              "  </thead>\n",
              "  <tbody>\n",
              "    <tr>\n",
              "      <th>0</th>\n",
              "      <td>1</td>\n",
              "      <td>20</td>\n",
              "      <td>50</td>\n",
              "      <td>0.0</td>\n",
              "      <td>0.083334</td>\n",
              "      <td>0</td>\n",
              "      <td>5.837492</td>\n",
              "    </tr>\n",
              "    <tr>\n",
              "      <th>4049920</th>\n",
              "      <td>4049921</td>\n",
              "      <td>50</td>\n",
              "      <td>20</td>\n",
              "      <td>0.0</td>\n",
              "      <td>1.196597</td>\n",
              "      <td>0</td>\n",
              "      <td>6.118700</td>\n",
              "    </tr>\n",
              "    <tr>\n",
              "      <th>4050000</th>\n",
              "      <td>4050001</td>\n",
              "      <td>20</td>\n",
              "      <td>10</td>\n",
              "      <td>0.0</td>\n",
              "      <td>3.138084</td>\n",
              "      <td>0</td>\n",
              "      <td>5.415679</td>\n",
              "    </tr>\n",
              "    <tr>\n",
              "      <th>4050080</th>\n",
              "      <td>4050081</td>\n",
              "      <td>50</td>\n",
              "      <td>10</td>\n",
              "      <td>0.0</td>\n",
              "      <td>1.593019</td>\n",
              "      <td>0</td>\n",
              "      <td>3.798729</td>\n",
              "    </tr>\n",
              "    <tr>\n",
              "      <th>369120</th>\n",
              "      <td>369121</td>\n",
              "      <td>50</td>\n",
              "      <td>50</td>\n",
              "      <td>0.0</td>\n",
              "      <td>0.000000</td>\n",
              "      <td>0</td>\n",
              "      <td>6.681117</td>\n",
              "    </tr>\n",
              "  </tbody>\n",
              "</table>\n",
              "</div>"
            ],
            "text/plain": [
              "              id   R   C  time_step      u_in  u_out  pressure\n",
              "0              1  20  50        0.0  0.083334      0  5.837492\n",
              "4049920  4049921  50  20        0.0  1.196597      0  6.118700\n",
              "4050000  4050001  20  10        0.0  3.138084      0  5.415679\n",
              "4050080  4050081  50  10        0.0  1.593019      0  3.798729\n",
              "369120    369121  50  50        0.0  0.000000      0  6.681117"
            ]
          },
          "metadata": {},
          "execution_count": 104
        }
      ]
    },
    {
      "cell_type": "code",
      "metadata": {
        "id": "t_yivkibgpCJ"
      },
      "source": [
        "test_id = test_df.id"
      ],
      "execution_count": null,
      "outputs": []
    },
    {
      "cell_type": "code",
      "metadata": {
        "id": "qxX-dJABh_ap"
      },
      "source": [
        "train_df.drop('id', 1, inplace = True)\n",
        "test_df.drop('id', 1, inplace = True)"
      ],
      "execution_count": null,
      "outputs": []
    },
    {
      "cell_type": "code",
      "metadata": {
        "colab": {
          "base_uri": "https://localhost:8080/",
          "height": 202
        },
        "id": "xg4IL21WiG4Z",
        "outputId": "b4ba7fba-8d1d-4b55-bce0-3e8890b0992a"
      },
      "source": [
        "train_df.head()"
      ],
      "execution_count": null,
      "outputs": [
        {
          "output_type": "execute_result",
          "data": {
            "text/html": [
              "<div>\n",
              "<style scoped>\n",
              "    .dataframe tbody tr th:only-of-type {\n",
              "        vertical-align: middle;\n",
              "    }\n",
              "\n",
              "    .dataframe tbody tr th {\n",
              "        vertical-align: top;\n",
              "    }\n",
              "\n",
              "    .dataframe thead th {\n",
              "        text-align: right;\n",
              "    }\n",
              "</style>\n",
              "<table border=\"1\" class=\"dataframe\">\n",
              "  <thead>\n",
              "    <tr style=\"text-align: right;\">\n",
              "      <th></th>\n",
              "      <th>R</th>\n",
              "      <th>C</th>\n",
              "      <th>time_step</th>\n",
              "      <th>u_in</th>\n",
              "      <th>u_out</th>\n",
              "      <th>pressure</th>\n",
              "    </tr>\n",
              "  </thead>\n",
              "  <tbody>\n",
              "    <tr>\n",
              "      <th>0</th>\n",
              "      <td>20</td>\n",
              "      <td>50</td>\n",
              "      <td>0.0</td>\n",
              "      <td>0.083334</td>\n",
              "      <td>0</td>\n",
              "      <td>5.837492</td>\n",
              "    </tr>\n",
              "    <tr>\n",
              "      <th>4049920</th>\n",
              "      <td>50</td>\n",
              "      <td>20</td>\n",
              "      <td>0.0</td>\n",
              "      <td>1.196597</td>\n",
              "      <td>0</td>\n",
              "      <td>6.118700</td>\n",
              "    </tr>\n",
              "    <tr>\n",
              "      <th>4050000</th>\n",
              "      <td>20</td>\n",
              "      <td>10</td>\n",
              "      <td>0.0</td>\n",
              "      <td>3.138084</td>\n",
              "      <td>0</td>\n",
              "      <td>5.415679</td>\n",
              "    </tr>\n",
              "    <tr>\n",
              "      <th>4050080</th>\n",
              "      <td>50</td>\n",
              "      <td>10</td>\n",
              "      <td>0.0</td>\n",
              "      <td>1.593019</td>\n",
              "      <td>0</td>\n",
              "      <td>3.798729</td>\n",
              "    </tr>\n",
              "    <tr>\n",
              "      <th>369120</th>\n",
              "      <td>50</td>\n",
              "      <td>50</td>\n",
              "      <td>0.0</td>\n",
              "      <td>0.000000</td>\n",
              "      <td>0</td>\n",
              "      <td>6.681117</td>\n",
              "    </tr>\n",
              "  </tbody>\n",
              "</table>\n",
              "</div>"
            ],
            "text/plain": [
              "          R   C  time_step      u_in  u_out  pressure\n",
              "0        20  50        0.0  0.083334      0  5.837492\n",
              "4049920  50  20        0.0  1.196597      0  6.118700\n",
              "4050000  20  10        0.0  3.138084      0  5.415679\n",
              "4050080  50  10        0.0  1.593019      0  3.798729\n",
              "369120   50  50        0.0  0.000000      0  6.681117"
            ]
          },
          "metadata": {},
          "execution_count": 107
        }
      ]
    },
    {
      "cell_type": "code",
      "metadata": {
        "id": "GYTFHA2eiSJg"
      },
      "source": [
        "train_df['R3C'] = train_df.R**3*train_df.C\n",
        "test_df['R3C'] = test_df.R**3*test_df.C"
      ],
      "execution_count": null,
      "outputs": []
    },
    {
      "cell_type": "code",
      "metadata": {
        "colab": {
          "base_uri": "https://localhost:8080/",
          "height": 202
        },
        "id": "4NUnqppskYru",
        "outputId": "d2f230b6-f058-42cb-8181-3ae893b66240"
      },
      "source": [
        "train_df.head()"
      ],
      "execution_count": null,
      "outputs": [
        {
          "output_type": "execute_result",
          "data": {
            "text/html": [
              "<div>\n",
              "<style scoped>\n",
              "    .dataframe tbody tr th:only-of-type {\n",
              "        vertical-align: middle;\n",
              "    }\n",
              "\n",
              "    .dataframe tbody tr th {\n",
              "        vertical-align: top;\n",
              "    }\n",
              "\n",
              "    .dataframe thead th {\n",
              "        text-align: right;\n",
              "    }\n",
              "</style>\n",
              "<table border=\"1\" class=\"dataframe\">\n",
              "  <thead>\n",
              "    <tr style=\"text-align: right;\">\n",
              "      <th></th>\n",
              "      <th>R</th>\n",
              "      <th>C</th>\n",
              "      <th>time_step</th>\n",
              "      <th>u_in</th>\n",
              "      <th>u_out</th>\n",
              "      <th>pressure</th>\n",
              "      <th>R3C</th>\n",
              "    </tr>\n",
              "  </thead>\n",
              "  <tbody>\n",
              "    <tr>\n",
              "      <th>0</th>\n",
              "      <td>20</td>\n",
              "      <td>50</td>\n",
              "      <td>0.0</td>\n",
              "      <td>0.083334</td>\n",
              "      <td>0</td>\n",
              "      <td>5.837492</td>\n",
              "      <td>400000</td>\n",
              "    </tr>\n",
              "    <tr>\n",
              "      <th>4049920</th>\n",
              "      <td>50</td>\n",
              "      <td>20</td>\n",
              "      <td>0.0</td>\n",
              "      <td>1.196597</td>\n",
              "      <td>0</td>\n",
              "      <td>6.118700</td>\n",
              "      <td>2500000</td>\n",
              "    </tr>\n",
              "    <tr>\n",
              "      <th>4050000</th>\n",
              "      <td>20</td>\n",
              "      <td>10</td>\n",
              "      <td>0.0</td>\n",
              "      <td>3.138084</td>\n",
              "      <td>0</td>\n",
              "      <td>5.415679</td>\n",
              "      <td>80000</td>\n",
              "    </tr>\n",
              "    <tr>\n",
              "      <th>4050080</th>\n",
              "      <td>50</td>\n",
              "      <td>10</td>\n",
              "      <td>0.0</td>\n",
              "      <td>1.593019</td>\n",
              "      <td>0</td>\n",
              "      <td>3.798729</td>\n",
              "      <td>1250000</td>\n",
              "    </tr>\n",
              "    <tr>\n",
              "      <th>369120</th>\n",
              "      <td>50</td>\n",
              "      <td>50</td>\n",
              "      <td>0.0</td>\n",
              "      <td>0.000000</td>\n",
              "      <td>0</td>\n",
              "      <td>6.681117</td>\n",
              "      <td>6250000</td>\n",
              "    </tr>\n",
              "  </tbody>\n",
              "</table>\n",
              "</div>"
            ],
            "text/plain": [
              "          R   C  time_step      u_in  u_out  pressure      R3C\n",
              "0        20  50        0.0  0.083334      0  5.837492   400000\n",
              "4049920  50  20        0.0  1.196597      0  6.118700  2500000\n",
              "4050000  20  10        0.0  3.138084      0  5.415679    80000\n",
              "4050080  50  10        0.0  1.593019      0  3.798729  1250000\n",
              "369120   50  50        0.0  0.000000      0  6.681117  6250000"
            ]
          },
          "metadata": {},
          "execution_count": 109
        }
      ]
    },
    {
      "cell_type": "code",
      "metadata": {
        "colab": {
          "base_uri": "https://localhost:8080/",
          "height": 540
        },
        "id": "NntwNojBka4n",
        "outputId": "9ca07154-c99a-4bce-9a4e-b464f9deeb5f"
      },
      "source": [
        "ax, fig = plt.subplots(2, 2, figsize = (15, 8))\n",
        "plt.suptitle('R-C Histogram', size = 20)\n",
        "plt.subplot(2, 2, 1)\n",
        "plt.hist(train_df.R)\n",
        "plt.title('R-Train')\n",
        "plt.subplot(2, 2, 2)\n",
        "plt.hist(train_df.C)\n",
        "plt.title('C-Train')\n",
        "plt.subplot(2, 2, 3)\n",
        "plt.hist(test_df.R)\n",
        "plt.title('R-Test')\n",
        "plt.subplot(2, 2, 4)\n",
        "plt.hist(test_df.C)\n",
        "plt.title('C-Test')\n",
        "plt.show()"
      ],
      "execution_count": null,
      "outputs": [
        {
          "output_type": "display_data",
          "data": {
            "image/png": "[encoded data removed]",
            "text/plain": [
              "<Figure size 1080x576 with 4 Axes>"
            ]
          },
          "metadata": {
            "needs_background": "light"
          }
        }
      ]
    },
    {
      "cell_type": "code",
      "metadata": {
        "colab": {
          "base_uri": "https://localhost:8080/",
          "height": 371
        },
        "id": "yAW0EVXksfbV",
        "outputId": "86a21df1-7237-4770-93e6-47065caa49c3"
      },
      "source": [
        "ax, fig = plt.subplots(1, 1, figsize = (15, 5))\n",
        "plt.suptitle('u_in Distribution', size = 20)\n",
        "plt.subplot(1, 2, 1)\n",
        "sns.boxplot(train_df.u_in)\n",
        "plt.title('box_plot')\n",
        "plt.subplot(1, 2, 2)\n",
        "plt.hist(train_df.u_in)\n",
        "plt.title('histogram')\n",
        "plt.show()"
      ],
      "execution_count": null,
      "outputs": [
        {
          "output_type": "display_data",
          "data": {
            "image/png": "[encoded data removed]",
            "text/plain": [
              "<Figure size 1080x360 with 2 Axes>"
            ]
          },
          "metadata": {
            "needs_background": "light"
          }
        }
      ]
    },
    {
      "cell_type": "code",
      "metadata": {
        "colab": {
          "base_uri": "https://localhost:8080/",
          "height": 370
        },
        "id": "TEB6fA3R3NvD",
        "outputId": "5e22013e-85d1-431e-d72c-41260bb58b7c"
      },
      "source": [
        "ax, fig = plt.subplots(1, 1, figsize = (15, 5))\n",
        "plt.suptitle('u_out Distribution', size = 20)\n",
        "plt.subplot(1, 2, 1)\n",
        "sns.boxplot(train_df.u_out)\n",
        "plt.title('box_plot')\n",
        "plt.subplot(1, 2, 2)\n",
        "plt.hist(train_df.u_out)\n",
        "plt.title('histogram')\n",
        "plt.show()"
      ],
      "execution_count": null,
      "outputs": [
        {
          "output_type": "display_data",
          "data": {
            "image/png": "[encoded data removed]",
            "text/plain": [
              "<Figure size 1080x360 with 2 Axes>"
            ]
          },
          "metadata": {
            "needs_background": "light"
          }
        }
      ]
    },
    {
      "cell_type": "code",
      "metadata": {
        "colab": {
          "base_uri": "https://localhost:8080/",
          "height": 282
        },
        "id": "Z0XLuyDN5WSS",
        "outputId": "033516ce-df88-453d-9751-6fec7c4e5419"
      },
      "source": [
        "corr_data = train_df.corr()\n",
        "sns.heatmap(corr_data)\n",
        "plt.title('Correlation Plot')\n",
        "plt.show()"
      ],
      "execution_count": null,
      "outputs": [
        {
          "output_type": "display_data",
          "data": {
            "image/png": "[encoded data removed]",
            "text/plain": [
              "<Figure size 432x288 with 2 Axes>"
            ]
          },
          "metadata": {
            "needs_background": "light"
          }
        }
      ]
    },
    {
      "cell_type": "code",
      "metadata": {
        "id": "wSakepoi6NKY"
      },
      "source": [
        "train_df.drop(['R','C'], 1, inplace = True)\n",
        "test_df.drop(['R','C'], 1, inplace = True)"
      ],
      "execution_count": null,
      "outputs": []
    },
    {
      "cell_type": "code",
      "metadata": {
        "colab": {
          "base_uri": "https://localhost:8080/",
          "height": 202
        },
        "id": "aKrl0mao7J9Q",
        "outputId": "06646704-2de8-433a-bc87-8992803bb23c"
      },
      "source": [
        "train_df.head()"
      ],
      "execution_count": null,
      "outputs": [
        {
          "output_type": "execute_result",
          "data": {
            "text/html": [
              "<div>\n",
              "<style scoped>\n",
              "    .dataframe tbody tr th:only-of-type {\n",
              "        vertical-align: middle;\n",
              "    }\n",
              "\n",
              "    .dataframe tbody tr th {\n",
              "        vertical-align: top;\n",
              "    }\n",
              "\n",
              "    .dataframe thead th {\n",
              "        text-align: right;\n",
              "    }\n",
              "</style>\n",
              "<table border=\"1\" class=\"dataframe\">\n",
              "  <thead>\n",
              "    <tr style=\"text-align: right;\">\n",
              "      <th></th>\n",
              "      <th>time_step</th>\n",
              "      <th>u_in</th>\n",
              "      <th>u_out</th>\n",
              "      <th>pressure</th>\n",
              "      <th>R3C</th>\n",
              "    </tr>\n",
              "  </thead>\n",
              "  <tbody>\n",
              "    <tr>\n",
              "      <th>0</th>\n",
              "      <td>0.0</td>\n",
              "      <td>0.083334</td>\n",
              "      <td>0</td>\n",
              "      <td>5.837492</td>\n",
              "      <td>400000</td>\n",
              "    </tr>\n",
              "    <tr>\n",
              "      <th>4049920</th>\n",
              "      <td>0.0</td>\n",
              "      <td>1.196597</td>\n",
              "      <td>0</td>\n",
              "      <td>6.118700</td>\n",
              "      <td>2500000</td>\n",
              "    </tr>\n",
              "    <tr>\n",
              "      <th>4050000</th>\n",
              "      <td>0.0</td>\n",
              "      <td>3.138084</td>\n",
              "      <td>0</td>\n",
              "      <td>5.415679</td>\n",
              "      <td>80000</td>\n",
              "    </tr>\n",
              "    <tr>\n",
              "      <th>4050080</th>\n",
              "      <td>0.0</td>\n",
              "      <td>1.593019</td>\n",
              "      <td>0</td>\n",
              "      <td>3.798729</td>\n",
              "      <td>1250000</td>\n",
              "    </tr>\n",
              "    <tr>\n",
              "      <th>369120</th>\n",
              "      <td>0.0</td>\n",
              "      <td>0.000000</td>\n",
              "      <td>0</td>\n",
              "      <td>6.681117</td>\n",
              "      <td>6250000</td>\n",
              "    </tr>\n",
              "  </tbody>\n",
              "</table>\n",
              "</div>"
            ],
            "text/plain": [
              "         time_step      u_in  u_out  pressure      R3C\n",
              "0              0.0  0.083334      0  5.837492   400000\n",
              "4049920        0.0  1.196597      0  6.118700  2500000\n",
              "4050000        0.0  3.138084      0  5.415679    80000\n",
              "4050080        0.0  1.593019      0  3.798729  1250000\n",
              "369120         0.0  0.000000      0  6.681117  6250000"
            ]
          },
          "metadata": {},
          "execution_count": 115
        }
      ]
    },
    {
      "cell_type": "code",
      "metadata": {
        "colab": {
          "base_uri": "https://localhost:8080/",
          "height": 202
        },
        "id": "rBm-Ajie7Pvw",
        "outputId": "8ca62cb4-eb02-4560-b8e4-5a74d7d22a35"
      },
      "source": [
        "test_df.head()"
      ],
      "execution_count": null,
      "outputs": [
        {
          "output_type": "execute_result",
          "data": {
            "text/html": [
              "<div>\n",
              "<style scoped>\n",
              "    .dataframe tbody tr th:only-of-type {\n",
              "        vertical-align: middle;\n",
              "    }\n",
              "\n",
              "    .dataframe tbody tr th {\n",
              "        vertical-align: top;\n",
              "    }\n",
              "\n",
              "    .dataframe thead th {\n",
              "        text-align: right;\n",
              "    }\n",
              "</style>\n",
              "<table border=\"1\" class=\"dataframe\">\n",
              "  <thead>\n",
              "    <tr style=\"text-align: right;\">\n",
              "      <th></th>\n",
              "      <th>time_step</th>\n",
              "      <th>u_in</th>\n",
              "      <th>u_out</th>\n",
              "      <th>R3C</th>\n",
              "    </tr>\n",
              "  </thead>\n",
              "  <tbody>\n",
              "    <tr>\n",
              "      <th>0</th>\n",
              "      <td>0.000000</td>\n",
              "      <td>0.000000</td>\n",
              "      <td>0</td>\n",
              "      <td>2500</td>\n",
              "    </tr>\n",
              "    <tr>\n",
              "      <th>1</th>\n",
              "      <td>0.031904</td>\n",
              "      <td>7.515046</td>\n",
              "      <td>0</td>\n",
              "      <td>2500</td>\n",
              "    </tr>\n",
              "    <tr>\n",
              "      <th>2</th>\n",
              "      <td>0.063827</td>\n",
              "      <td>14.651675</td>\n",
              "      <td>0</td>\n",
              "      <td>2500</td>\n",
              "    </tr>\n",
              "    <tr>\n",
              "      <th>3</th>\n",
              "      <td>0.095751</td>\n",
              "      <td>21.230610</td>\n",
              "      <td>0</td>\n",
              "      <td>2500</td>\n",
              "    </tr>\n",
              "    <tr>\n",
              "      <th>4</th>\n",
              "      <td>0.127644</td>\n",
              "      <td>26.320956</td>\n",
              "      <td>0</td>\n",
              "      <td>2500</td>\n",
              "    </tr>\n",
              "  </tbody>\n",
              "</table>\n",
              "</div>"
            ],
            "text/plain": [
              "   time_step       u_in  u_out   R3C\n",
              "0   0.000000   0.000000      0  2500\n",
              "1   0.031904   7.515046      0  2500\n",
              "2   0.063827  14.651675      0  2500\n",
              "3   0.095751  21.230610      0  2500\n",
              "4   0.127644  26.320956      0  2500"
            ]
          },
          "metadata": {},
          "execution_count": 116
        }
      ]
    },
    {
      "cell_type": "code",
      "metadata": {
        "colab": {
          "base_uri": "https://localhost:8080/"
        },
        "id": "T-mrdoIM7SvZ",
        "outputId": "c25fcd1f-bda7-4a75-e2e6-03dd833d5f14"
      },
      "source": [
        "for col in ['time_step', 'u_in', 'u_out']:\n",
        "  print(f\"[Train data][{col}] | Minimum Value : {min(train_df[col])} | Maximum Value : {max(train_df[col])}\")\n",
        "  print(f\"[Test data][{col}] | Minimum Value : {min(test_df[col])} | Maximum Value : {max(test_df[col])}\")"
      ],
      "execution_count": null,
      "outputs": [
        {
          "output_type": "stream",
          "name": "stdout",
          "text": [
            "[Train data][time_step] | Minimum Value : 0.0 | Maximum Value : 2.9372379779815674\n",
            "[Test data][time_step] | Minimum Value : 0.0 | Maximum Value : 2.9352025985717773\n",
            "[Train data][u_in] | Minimum Value : 0.0 | Maximum Value : 100.0\n",
            "[Test data][u_in] | Minimum Value : 0.0 | Maximum Value : 100.0\n",
            "[Train data][u_out] | Minimum Value : 0 | Maximum Value : 1\n",
            "[Test data][u_out] | Minimum Value : 0 | Maximum Value : 1\n"
          ]
        }
      ]
    },
    {
      "cell_type": "code",
      "metadata": {
        "id": "gMD-TOek9ol3"
      },
      "source": [
        "def minmaxscaler(train_data, test_data):\n",
        "  min_val = min(train_data)\n",
        "  max_val = max(train_data)\n",
        "  return (train_data - min_val) / (max_val - min_val) , (test_data - min_val) / (max_val - min_val)\n",
        "\n",
        "for col in ['time_step', 'u_in', 'u_out']:\n",
        "  train_df[col], test_df[col] = minmaxscaler(train_df[col], test_df[col])"
      ],
      "execution_count": null,
      "outputs": []
    },
    {
      "cell_type": "code",
      "metadata": {
        "colab": {
          "base_uri": "https://localhost:8080/",
          "height": 202
        },
        "id": "u0UPYkfuBtS2",
        "outputId": "67c66c94-90f6-4c3d-9601-f4a827a0a7ea"
      },
      "source": [
        "train_df.head()"
      ],
      "execution_count": null,
      "outputs": [
        {
          "output_type": "execute_result",
          "data": {
            "text/html": [
              "<div>\n",
              "<style scoped>\n",
              "    .dataframe tbody tr th:only-of-type {\n",
              "        vertical-align: middle;\n",
              "    }\n",
              "\n",
              "    .dataframe tbody tr th {\n",
              "        vertical-align: top;\n",
              "    }\n",
              "\n",
              "    .dataframe thead th {\n",
              "        text-align: right;\n",
              "    }\n",
              "</style>\n",
              "<table border=\"1\" class=\"dataframe\">\n",
              "  <thead>\n",
              "    <tr style=\"text-align: right;\">\n",
              "      <th></th>\n",
              "      <th>time_step</th>\n",
              "      <th>u_in</th>\n",
              "      <th>u_out</th>\n",
              "      <th>pressure</th>\n",
              "      <th>R3C</th>\n",
              "    </tr>\n",
              "  </thead>\n",
              "  <tbody>\n",
              "    <tr>\n",
              "      <th>0</th>\n",
              "      <td>0.0</td>\n",
              "      <td>0.000833</td>\n",
              "      <td>0.0</td>\n",
              "      <td>5.837492</td>\n",
              "      <td>400000</td>\n",
              "    </tr>\n",
              "    <tr>\n",
              "      <th>4049920</th>\n",
              "      <td>0.0</td>\n",
              "      <td>0.011966</td>\n",
              "      <td>0.0</td>\n",
              "      <td>6.118700</td>\n",
              "      <td>2500000</td>\n",
              "    </tr>\n",
              "    <tr>\n",
              "      <th>4050000</th>\n",
              "      <td>0.0</td>\n",
              "      <td>0.031381</td>\n",
              "      <td>0.0</td>\n",
              "      <td>5.415679</td>\n",
              "      <td>80000</td>\n",
              "    </tr>\n",
              "    <tr>\n",
              "      <th>4050080</th>\n",
              "      <td>0.0</td>\n",
              "      <td>0.015930</td>\n",
              "      <td>0.0</td>\n",
              "      <td>3.798729</td>\n",
              "      <td>1250000</td>\n",
              "    </tr>\n",
              "    <tr>\n",
              "      <th>369120</th>\n",
              "      <td>0.0</td>\n",
              "      <td>0.000000</td>\n",
              "      <td>0.0</td>\n",
              "      <td>6.681117</td>\n",
              "      <td>6250000</td>\n",
              "    </tr>\n",
              "  </tbody>\n",
              "</table>\n",
              "</div>"
            ],
            "text/plain": [
              "         time_step      u_in  u_out  pressure      R3C\n",
              "0              0.0  0.000833    0.0  5.837492   400000\n",
              "4049920        0.0  0.011966    0.0  6.118700  2500000\n",
              "4050000        0.0  0.031381    0.0  5.415679    80000\n",
              "4050080        0.0  0.015930    0.0  3.798729  1250000\n",
              "369120         0.0  0.000000    0.0  6.681117  6250000"
            ]
          },
          "metadata": {},
          "execution_count": 119
        }
      ]
    },
    {
      "cell_type": "code",
      "metadata": {
        "colab": {
          "base_uri": "https://localhost:8080/",
          "height": 202
        },
        "id": "rt-XClaTCYZP",
        "outputId": "8bef1e55-f29f-4cf5-dca4-1b5d6c9c3edf"
      },
      "source": [
        "test_df.head()"
      ],
      "execution_count": null,
      "outputs": [
        {
          "output_type": "execute_result",
          "data": {
            "text/html": [
              "<div>\n",
              "<style scoped>\n",
              "    .dataframe tbody tr th:only-of-type {\n",
              "        vertical-align: middle;\n",
              "    }\n",
              "\n",
              "    .dataframe tbody tr th {\n",
              "        vertical-align: top;\n",
              "    }\n",
              "\n",
              "    .dataframe thead th {\n",
              "        text-align: right;\n",
              "    }\n",
              "</style>\n",
              "<table border=\"1\" class=\"dataframe\">\n",
              "  <thead>\n",
              "    <tr style=\"text-align: right;\">\n",
              "      <th></th>\n",
              "      <th>time_step</th>\n",
              "      <th>u_in</th>\n",
              "      <th>u_out</th>\n",
              "      <th>R3C</th>\n",
              "    </tr>\n",
              "  </thead>\n",
              "  <tbody>\n",
              "    <tr>\n",
              "      <th>0</th>\n",
              "      <td>0.000000</td>\n",
              "      <td>0.000000</td>\n",
              "      <td>0.0</td>\n",
              "      <td>2500</td>\n",
              "    </tr>\n",
              "    <tr>\n",
              "      <th>1</th>\n",
              "      <td>0.010862</td>\n",
              "      <td>0.075150</td>\n",
              "      <td>0.0</td>\n",
              "      <td>2500</td>\n",
              "    </tr>\n",
              "    <tr>\n",
              "      <th>2</th>\n",
              "      <td>0.021730</td>\n",
              "      <td>0.146517</td>\n",
              "      <td>0.0</td>\n",
              "      <td>2500</td>\n",
              "    </tr>\n",
              "    <tr>\n",
              "      <th>3</th>\n",
              "      <td>0.032599</td>\n",
              "      <td>0.212306</td>\n",
              "      <td>0.0</td>\n",
              "      <td>2500</td>\n",
              "    </tr>\n",
              "    <tr>\n",
              "      <th>4</th>\n",
              "      <td>0.043457</td>\n",
              "      <td>0.263210</td>\n",
              "      <td>0.0</td>\n",
              "      <td>2500</td>\n",
              "    </tr>\n",
              "  </tbody>\n",
              "</table>\n",
              "</div>"
            ],
            "text/plain": [
              "   time_step      u_in  u_out   R3C\n",
              "0   0.000000  0.000000    0.0  2500\n",
              "1   0.010862  0.075150    0.0  2500\n",
              "2   0.021730  0.146517    0.0  2500\n",
              "3   0.032599  0.212306    0.0  2500\n",
              "4   0.043457  0.263210    0.0  2500"
            ]
          },
          "metadata": {},
          "execution_count": 120
        }
      ]
    },
    {
      "cell_type": "code",
      "metadata": {
        "id": "b1_lnxBXDKvm"
      },
      "source": [
        "from sklearn.model_selection import train_test_split"
      ],
      "execution_count": null,
      "outputs": []
    },
    {
      "cell_type": "code",
      "metadata": {
        "id": "0FiDuqNerIzQ"
      },
      "source": [
        "train_df = train_df.sample(frac = 0.1)"
      ],
      "execution_count": null,
      "outputs": []
    },
    {
      "cell_type": "code",
      "metadata": {
        "id": "DJwQDKesDRvY"
      },
      "source": [
        "X, y = train_df.drop('pressure', 1) , train_df.pressure"
      ],
      "execution_count": null,
      "outputs": []
    },
    {
      "cell_type": "code",
      "metadata": {
        "colab": {
          "base_uri": "https://localhost:8080/"
        },
        "id": "VjbKQmNuDdH_",
        "outputId": "8919a6cf-4eb6-4421-becc-9c9181ef7f30"
      },
      "source": [
        "X_train, X_val, y_train, y_val = train_test_split(X, y, test_size = 0.2, shuffle = True, random_state = 42)\n",
        "X_train.shape, X_val.shape, y_train.shape, y_val.shape"
      ],
      "execution_count": null,
      "outputs": [
        {
          "output_type": "execute_result",
          "data": {
            "text/plain": [
              "((482880, 4), (120720, 4), (482880,), (120720,))"
            ]
          },
          "metadata": {},
          "execution_count": 124
        }
      ]
    },
    {
      "cell_type": "code",
      "metadata": {
        "id": "Tua_nPZPrFnR"
      },
      "source": [
        "from sklearn.ensemble import RandomForestRegressor as rfr"
      ],
      "execution_count": null,
      "outputs": []
    },
    {
      "cell_type": "code",
      "metadata": {
        "colab": {
          "base_uri": "https://localhost:8080/"
        },
        "id": "G-St6TjZrlhC",
        "outputId": "d5c7329f-0c89-4d19-cd2f-b567552bb289"
      },
      "source": [
        "model = rfr(n_estimators = 50)\n",
        "model.fit(X_train, y_train)\n",
        "model.score(X_train, y_train)"
      ],
      "execution_count": null,
      "outputs": [
        {
          "output_type": "execute_result",
          "data": {
            "text/plain": [
              "0.9598914531279202"
            ]
          },
          "metadata": {},
          "execution_count": 126
        }
      ]
    },
    {
      "cell_type": "code",
      "metadata": {
        "colab": {
          "base_uri": "https://localhost:8080/"
        },
        "id": "eciX4WfEs9Ee",
        "outputId": "9d18907d-5bd2-466a-a6e7-e30b5fb384f9"
      },
      "source": [
        "test_df.shape"
      ],
      "execution_count": null,
      "outputs": [
        {
          "output_type": "execute_result",
          "data": {
            "text/plain": [
              "(4024000, 4)"
            ]
          },
          "metadata": {},
          "execution_count": 127
        }
      ]
    },
    {
      "cell_type": "code",
      "metadata": {
        "colab": {
          "base_uri": "https://localhost:8080/"
        },
        "id": "lRwbUpavtsy4",
        "outputId": "391ad290-741f-4df1-d959-59a6e7dd1e80"
      },
      "source": [
        "prediction = []\n",
        "n = test_df.shape[0] // 100\n",
        "for i in range(100):\n",
        "  start_index = n*i\n",
        "  end_index = (i+1)*n if i!=99 else test_df.shape[0]\n",
        "  test_patch = test_df.iloc[start_index:end_index]\n",
        "  pred = model.predict(test_patch)\n",
        "  for el in pred:\n",
        "    prediction.append(el)\n",
        "  print(f\"Predicted Patch No. {i+1}...\")\n",
        "print('Testing completed...')"
      ],
      "execution_count": null,
      "outputs": [
        {
          "output_type": "stream",
          "name": "stdout",
          "text": [
            "Predicted Patch No. 1...\n",
            "Predicted Patch No. 2...\n",
            "Predicted Patch No. 3...\n",
            "Predicted Patch No. 4...\n",
            "Predicted Patch No. 5...\n",
            "Predicted Patch No. 6...\n",
            "Predicted Patch No. 7...\n",
            "Predicted Patch No. 8...\n",
            "Predicted Patch No. 9...\n",
            "Predicted Patch No. 10...\n",
            "Predicted Patch No. 11...\n",
            "Predicted Patch No. 12...\n",
            "Predicted Patch No. 13...\n",
            "Predicted Patch No. 14...\n",
            "Predicted Patch No. 15...\n",
            "Predicted Patch No. 16...\n",
            "Predicted Patch No. 17...\n",
            "Predicted Patch No. 18...\n",
            "Predicted Patch No. 19...\n",
            "Predicted Patch No. 20...\n",
            "Predicted Patch No. 21...\n",
            "Predicted Patch No. 22...\n",
            "Predicted Patch No. 23...\n",
            "Predicted Patch No. 24...\n",
            "Predicted Patch No. 25...\n",
            "Predicted Patch No. 26...\n",
            "Predicted Patch No. 27...\n",
            "Predicted Patch No. 28...\n",
            "Predicted Patch No. 29...\n",
            "Predicted Patch No. 30...\n",
            "Predicted Patch No. 31...\n",
            "Predicted Patch No. 32...\n",
            "Predicted Patch No. 33...\n",
            "Predicted Patch No. 34...\n",
            "Predicted Patch No. 35...\n",
            "Predicted Patch No. 36...\n",
            "Predicted Patch No. 37...\n",
            "Predicted Patch No. 38...\n",
            "Predicted Patch No. 39...\n",
            "Predicted Patch No. 40...\n",
            "Predicted Patch No. 41...\n",
            "Predicted Patch No. 42...\n",
            "Predicted Patch No. 43...\n",
            "Predicted Patch No. 44...\n",
            "Predicted Patch No. 45...\n",
            "Predicted Patch No. 46...\n",
            "Predicted Patch No. 47...\n",
            "Predicted Patch No. 48...\n",
            "Predicted Patch No. 49...\n",
            "Predicted Patch No. 50...\n",
            "Predicted Patch No. 51...\n",
            "Predicted Patch No. 52...\n",
            "Predicted Patch No. 53...\n",
            "Predicted Patch No. 54...\n",
            "Predicted Patch No. 55...\n",
            "Predicted Patch No. 56...\n",
            "Predicted Patch No. 57...\n",
            "Predicted Patch No. 58...\n",
            "Predicted Patch No. 59...\n",
            "Predicted Patch No. 60...\n",
            "Predicted Patch No. 61...\n",
            "Predicted Patch No. 62...\n",
            "Predicted Patch No. 63...\n",
            "Predicted Patch No. 64...\n",
            "Predicted Patch No. 65...\n",
            "Predicted Patch No. 66...\n",
            "Predicted Patch No. 67...\n",
            "Predicted Patch No. 68...\n",
            "Predicted Patch No. 69...\n",
            "Predicted Patch No. 70...\n",
            "Predicted Patch No. 71...\n",
            "Predicted Patch No. 72...\n",
            "Predicted Patch No. 73...\n",
            "Predicted Patch No. 74...\n",
            "Predicted Patch No. 75...\n",
            "Predicted Patch No. 76...\n",
            "Predicted Patch No. 77...\n",
            "Predicted Patch No. 78...\n",
            "Predicted Patch No. 79...\n",
            "Predicted Patch No. 80...\n",
            "Predicted Patch No. 81...\n",
            "Predicted Patch No. 82...\n",
            "Predicted Patch No. 83...\n",
            "Predicted Patch No. 84...\n",
            "Predicted Patch No. 85...\n",
            "Predicted Patch No. 86...\n",
            "Predicted Patch No. 87...\n",
            "Predicted Patch No. 88...\n",
            "Predicted Patch No. 89...\n",
            "Predicted Patch No. 90...\n",
            "Predicted Patch No. 91...\n",
            "Predicted Patch No. 92...\n",
            "Predicted Patch No. 93...\n",
            "Predicted Patch No. 94...\n",
            "Predicted Patch No. 95...\n",
            "Predicted Patch No. 96...\n",
            "Predicted Patch No. 97...\n",
            "Predicted Patch No. 98...\n",
            "Predicted Patch No. 99...\n",
            "Predicted Patch No. 100...\n",
            "Testing completed...\n"
          ]
        }
      ]
    },
    {
      "cell_type": "code",
      "metadata": {
        "colab": {
          "base_uri": "https://localhost:8080/",
          "height": 202
        },
        "id": "iTr2C2Kewa3x",
        "outputId": "e5f4ec8b-b954-489d-a41b-3f5104267073"
      },
      "source": [
        "prediction_submission = pd.DataFrame({'id':test_id, 'pressure':prediction})\n",
        "prediction_submission.head()"
      ],
      "execution_count": null,
      "outputs": [
        {
          "output_type": "execute_result",
          "data": {
            "text/html": [
              "<div>\n",
              "<style scoped>\n",
              "    .dataframe tbody tr th:only-of-type {\n",
              "        vertical-align: middle;\n",
              "    }\n",
              "\n",
              "    .dataframe tbody tr th {\n",
              "        vertical-align: top;\n",
              "    }\n",
              "\n",
              "    .dataframe thead th {\n",
              "        text-align: right;\n",
              "    }\n",
              "</style>\n",
              "<table border=\"1\" class=\"dataframe\">\n",
              "  <thead>\n",
              "    <tr style=\"text-align: right;\">\n",
              "      <th></th>\n",
              "      <th>id</th>\n",
              "      <th>pressure</th>\n",
              "    </tr>\n",
              "  </thead>\n",
              "  <tbody>\n",
              "    <tr>\n",
              "      <th>0</th>\n",
              "      <td>1</td>\n",
              "      <td>6.295502</td>\n",
              "    </tr>\n",
              "    <tr>\n",
              "      <th>1</th>\n",
              "      <td>2</td>\n",
              "      <td>6.163694</td>\n",
              "    </tr>\n",
              "    <tr>\n",
              "      <th>2</th>\n",
              "      <td>3</td>\n",
              "      <td>6.893430</td>\n",
              "    </tr>\n",
              "    <tr>\n",
              "      <th>3</th>\n",
              "      <td>4</td>\n",
              "      <td>7.388357</td>\n",
              "    </tr>\n",
              "    <tr>\n",
              "      <th>4</th>\n",
              "      <td>5</td>\n",
              "      <td>8.745188</td>\n",
              "    </tr>\n",
              "  </tbody>\n",
              "</table>\n",
              "</div>"
            ],
            "text/plain": [
              "   id  pressure\n",
              "0   1  6.295502\n",
              "1   2  6.163694\n",
              "2   3  6.893430\n",
              "3   4  7.388357\n",
              "4   5  8.745188"
            ]
          },
          "metadata": {},
          "execution_count": 129
        }
      ]
    },
    {
      "cell_type": "code",
      "metadata": {
        "id": "bi-sXNYox8iH"
      },
      "source": [
        "prediction_submission.to_csv('rfr_submission.csv', index = False)"
      ],
      "execution_count": null,
      "outputs": []
    },
    {
      "cell_type": "code",
      "metadata": {
        "colab": {
          "base_uri": "https://localhost:8080/"
        },
        "id": "mZUs3Hz1yDmm",
        "outputId": "427c6ce8-3cd2-4a10-9036-52d443cceb81"
      },
      "source": [
        "!kaggle competitions submit -c ventilator-pressure-prediction -f rfr_submission.csv -m \"Submission with RandomForestRegressor with all 5 features\""
      ],
      "execution_count": null,
      "outputs": [
        {
          "output_type": "stream",
          "name": "stdout",
          "text": [
            "Warning: Looks like you're using an outdated API Version, please consider updating (server 1.5.12 / client 1.5.4)\n",
            "100% 99.6M/99.6M [00:08<00:00, 12.0MB/s]\n",
            "Successfully submitted to Google Brain - Ventilator Pressure Prediction"
          ]
        }
      ]
    },
    {
      "cell_type": "code",
      "metadata": {
        "id": "g_tkbXQByWR2"
      },
      "source": [
        ""
      ],
      "execution_count": null,
      "outputs": []
    }
  ]
}