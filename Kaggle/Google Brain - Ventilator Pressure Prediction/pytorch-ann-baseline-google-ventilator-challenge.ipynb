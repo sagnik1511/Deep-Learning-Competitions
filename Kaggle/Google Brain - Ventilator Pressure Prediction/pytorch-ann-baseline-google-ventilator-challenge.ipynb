{
 "cells": [
  {
   "cell_type": "code",
   "execution_count": 1,
   "id": "90a0ea85",
   "metadata": {
    "execution": {
     "iopub.execute_input": "2021-10-22T06:26:36.444856Z",
     "iopub.status.busy": "2021-10-22T06:26:36.444114Z",
     "iopub.status.idle": "2021-10-22T06:26:37.200553Z",
     "shell.execute_reply": "2021-10-22T06:26:37.199548Z",
     "shell.execute_reply.started": "2021-10-22T04:51:08.639745Z"
    },
    "id": "yjF7IZdmU1Ds",
    "papermill": {
     "duration": 0.801317,
     "end_time": "2021-10-22T06:26:37.200737",
     "exception": false,
     "start_time": "2021-10-22T06:26:36.399420",
     "status": "completed"
    },
    "tags": []
   },
   "outputs": [],
   "source": [
    "import pandas as pd\n",
    "import numpy as np\n",
    "import matplotlib.pyplot as plt\n",
    "import seaborn as sns\n",
    "import warnings\n",
    "warnings.filterwarnings('ignore')"
   ]
  },
  {
   "cell_type": "code",
   "execution_count": 2,
   "id": "1522e992",
   "metadata": {
    "execution": {
     "iopub.execute_input": "2021-10-22T06:26:37.309843Z",
     "iopub.status.busy": "2021-10-22T06:26:37.308829Z",
     "iopub.status.idle": "2021-10-22T06:26:45.639336Z",
     "shell.execute_reply": "2021-10-22T06:26:45.639816Z",
     "shell.execute_reply.started": "2021-10-22T04:51:09.400311Z"
    },
    "id": "Rg8kc1D2VxcL",
    "outputId": "deb6a505-a187-4cdd-d5f3-1a993215ea2c",
    "papermill": {
     "duration": 8.398457,
     "end_time": "2021-10-22T06:26:45.639971",
     "exception": false,
     "start_time": "2021-10-22T06:26:37.241514",
     "status": "completed"
    },
    "tags": []
   },
   "outputs": [
    {
     "data": {
      "text/html": [
       "<div>\n",
       "<style scoped>\n",
       "    .dataframe tbody tr th:only-of-type {\n",
       "        vertical-align: middle;\n",
       "    }\n",
       "\n",
       "    .dataframe tbody tr th {\n",
       "        vertical-align: top;\n",
       "    }\n",
       "\n",
       "    .dataframe thead th {\n",
       "        text-align: right;\n",
       "    }\n",
       "</style>\n",
       "<table border=\"1\" class=\"dataframe\">\n",
       "  <thead>\n",
       "    <tr style=\"text-align: right;\">\n",
       "      <th></th>\n",
       "      <th>id</th>\n",
       "      <th>breath_id</th>\n",
       "      <th>R</th>\n",
       "      <th>C</th>\n",
       "      <th>time_step</th>\n",
       "      <th>u_in</th>\n",
       "      <th>u_out</th>\n",
       "      <th>pressure</th>\n",
       "    </tr>\n",
       "  </thead>\n",
       "  <tbody>\n",
       "    <tr>\n",
       "      <th>0</th>\n",
       "      <td>1</td>\n",
       "      <td>1</td>\n",
       "      <td>20</td>\n",
       "      <td>50</td>\n",
       "      <td>0.000000</td>\n",
       "      <td>0.083334</td>\n",
       "      <td>0</td>\n",
       "      <td>5.837492</td>\n",
       "    </tr>\n",
       "    <tr>\n",
       "      <th>1</th>\n",
       "      <td>2</td>\n",
       "      <td>1</td>\n",
       "      <td>20</td>\n",
       "      <td>50</td>\n",
       "      <td>0.033652</td>\n",
       "      <td>18.383041</td>\n",
       "      <td>0</td>\n",
       "      <td>5.907794</td>\n",
       "    </tr>\n",
       "    <tr>\n",
       "      <th>2</th>\n",
       "      <td>3</td>\n",
       "      <td>1</td>\n",
       "      <td>20</td>\n",
       "      <td>50</td>\n",
       "      <td>0.067514</td>\n",
       "      <td>22.509278</td>\n",
       "      <td>0</td>\n",
       "      <td>7.876254</td>\n",
       "    </tr>\n",
       "    <tr>\n",
       "      <th>3</th>\n",
       "      <td>4</td>\n",
       "      <td>1</td>\n",
       "      <td>20</td>\n",
       "      <td>50</td>\n",
       "      <td>0.101542</td>\n",
       "      <td>22.808822</td>\n",
       "      <td>0</td>\n",
       "      <td>11.742872</td>\n",
       "    </tr>\n",
       "    <tr>\n",
       "      <th>4</th>\n",
       "      <td>5</td>\n",
       "      <td>1</td>\n",
       "      <td>20</td>\n",
       "      <td>50</td>\n",
       "      <td>0.135756</td>\n",
       "      <td>25.355850</td>\n",
       "      <td>0</td>\n",
       "      <td>12.234987</td>\n",
       "    </tr>\n",
       "  </tbody>\n",
       "</table>\n",
       "</div>"
      ],
      "text/plain": [
       "   id  breath_id   R   C  time_step       u_in  u_out   pressure\n",
       "0   1          1  20  50   0.000000   0.083334      0   5.837492\n",
       "1   2          1  20  50   0.033652  18.383041      0   5.907794\n",
       "2   3          1  20  50   0.067514  22.509278      0   7.876254\n",
       "3   4          1  20  50   0.101542  22.808822      0  11.742872\n",
       "4   5          1  20  50   0.135756  25.355850      0  12.234987"
      ]
     },
     "execution_count": 2,
     "metadata": {},
     "output_type": "execute_result"
    }
   ],
   "source": [
    "train_df = pd.read_csv('../input/ventilator-pressure-prediction/train.csv')\n",
    "train_df.head()"
   ]
  },
  {
   "cell_type": "code",
   "execution_count": 3,
   "id": "ab2ec1d9",
   "metadata": {
    "execution": {
     "iopub.execute_input": "2021-10-22T06:26:45.717465Z",
     "iopub.status.busy": "2021-10-22T06:26:45.716868Z",
     "iopub.status.idle": "2021-10-22T06:26:45.719285Z",
     "shell.execute_reply": "2021-10-22T06:26:45.719701Z",
     "shell.execute_reply.started": "2021-10-22T04:51:23.279029Z"
    },
    "id": "cZ7FRQuIoYWd",
    "outputId": "015aec1c-798a-42d4-fbbf-1f4803733e07",
    "papermill": {
     "duration": 0.043172,
     "end_time": "2021-10-22T06:26:45.719815",
     "exception": false,
     "start_time": "2021-10-22T06:26:45.676643",
     "status": "completed"
    },
    "tags": []
   },
   "outputs": [
    {
     "data": {
      "text/plain": [
       "(6036000, 8)"
      ]
     },
     "execution_count": 3,
     "metadata": {},
     "output_type": "execute_result"
    }
   ],
   "source": [
    "train_df.shape"
   ]
  },
  {
   "cell_type": "code",
   "execution_count": 4,
   "id": "b8ea9e67",
   "metadata": {
    "execution": {
     "iopub.execute_input": "2021-10-22T06:26:45.799365Z",
     "iopub.status.busy": "2021-10-22T06:26:45.798822Z",
     "iopub.status.idle": "2021-10-22T06:26:47.268770Z",
     "shell.execute_reply": "2021-10-22T06:26:47.269209Z",
     "shell.execute_reply.started": "2021-10-22T04:51:23.290363Z"
    },
    "id": "VUhDsNZJV3kb",
    "outputId": "065615a4-32ab-457f-b890-e0d040582cc7",
    "papermill": {
     "duration": 1.513945,
     "end_time": "2021-10-22T06:26:47.269359",
     "exception": false,
     "start_time": "2021-10-22T06:26:45.755414",
     "status": "completed"
    },
    "tags": []
   },
   "outputs": [
    {
     "data": {
      "text/html": [
       "<div>\n",
       "<style scoped>\n",
       "    .dataframe tbody tr th:only-of-type {\n",
       "        vertical-align: middle;\n",
       "    }\n",
       "\n",
       "    .dataframe tbody tr th {\n",
       "        vertical-align: top;\n",
       "    }\n",
       "\n",
       "    .dataframe thead th {\n",
       "        text-align: right;\n",
       "    }\n",
       "</style>\n",
       "<table border=\"1\" class=\"dataframe\">\n",
       "  <thead>\n",
       "    <tr style=\"text-align: right;\">\n",
       "      <th></th>\n",
       "      <th>id</th>\n",
       "      <th>breath_id</th>\n",
       "      <th>R</th>\n",
       "      <th>C</th>\n",
       "      <th>time_step</th>\n",
       "      <th>u_in</th>\n",
       "      <th>u_out</th>\n",
       "      <th>pressure</th>\n",
       "    </tr>\n",
       "  </thead>\n",
       "  <tbody>\n",
       "    <tr>\n",
       "      <th>count</th>\n",
       "      <td>6.036000e+06</td>\n",
       "      <td>6.036000e+06</td>\n",
       "      <td>6.036000e+06</td>\n",
       "      <td>6.036000e+06</td>\n",
       "      <td>6.036000e+06</td>\n",
       "      <td>6.036000e+06</td>\n",
       "      <td>6.036000e+06</td>\n",
       "      <td>6.036000e+06</td>\n",
       "    </tr>\n",
       "    <tr>\n",
       "      <th>mean</th>\n",
       "      <td>3.018000e+06</td>\n",
       "      <td>6.283886e+04</td>\n",
       "      <td>2.703618e+01</td>\n",
       "      <td>2.608072e+01</td>\n",
       "      <td>1.307225e+00</td>\n",
       "      <td>7.321615e+00</td>\n",
       "      <td>6.204493e-01</td>\n",
       "      <td>1.122041e+01</td>\n",
       "    </tr>\n",
       "    <tr>\n",
       "      <th>std</th>\n",
       "      <td>1.742443e+06</td>\n",
       "      <td>3.633526e+04</td>\n",
       "      <td>1.959549e+01</td>\n",
       "      <td>1.715231e+01</td>\n",
       "      <td>7.659778e-01</td>\n",
       "      <td>1.343470e+01</td>\n",
       "      <td>4.852752e-01</td>\n",
       "      <td>8.109703e+00</td>\n",
       "    </tr>\n",
       "    <tr>\n",
       "      <th>min</th>\n",
       "      <td>1.000000e+00</td>\n",
       "      <td>1.000000e+00</td>\n",
       "      <td>5.000000e+00</td>\n",
       "      <td>1.000000e+01</td>\n",
       "      <td>0.000000e+00</td>\n",
       "      <td>0.000000e+00</td>\n",
       "      <td>0.000000e+00</td>\n",
       "      <td>-1.895744e+00</td>\n",
       "    </tr>\n",
       "    <tr>\n",
       "      <th>25%</th>\n",
       "      <td>1.509001e+06</td>\n",
       "      <td>3.137700e+04</td>\n",
       "      <td>5.000000e+00</td>\n",
       "      <td>1.000000e+01</td>\n",
       "      <td>6.428995e-01</td>\n",
       "      <td>3.936623e-01</td>\n",
       "      <td>0.000000e+00</td>\n",
       "      <td>6.329607e+00</td>\n",
       "    </tr>\n",
       "    <tr>\n",
       "      <th>50%</th>\n",
       "      <td>3.018000e+06</td>\n",
       "      <td>6.276550e+04</td>\n",
       "      <td>2.000000e+01</td>\n",
       "      <td>2.000000e+01</td>\n",
       "      <td>1.308123e+00</td>\n",
       "      <td>4.386146e+00</td>\n",
       "      <td>1.000000e+00</td>\n",
       "      <td>7.032628e+00</td>\n",
       "    </tr>\n",
       "    <tr>\n",
       "      <th>75%</th>\n",
       "      <td>4.527000e+06</td>\n",
       "      <td>9.430100e+04</td>\n",
       "      <td>5.000000e+01</td>\n",
       "      <td>5.000000e+01</td>\n",
       "      <td>1.965502e+00</td>\n",
       "      <td>4.983895e+00</td>\n",
       "      <td>1.000000e+00</td>\n",
       "      <td>1.364103e+01</td>\n",
       "    </tr>\n",
       "    <tr>\n",
       "      <th>max</th>\n",
       "      <td>6.036000e+06</td>\n",
       "      <td>1.257490e+05</td>\n",
       "      <td>5.000000e+01</td>\n",
       "      <td>5.000000e+01</td>\n",
       "      <td>2.937238e+00</td>\n",
       "      <td>1.000000e+02</td>\n",
       "      <td>1.000000e+00</td>\n",
       "      <td>6.482099e+01</td>\n",
       "    </tr>\n",
       "  </tbody>\n",
       "</table>\n",
       "</div>"
      ],
      "text/plain": [
       "                 id     breath_id             R             C     time_step  \\\n",
       "count  6.036000e+06  6.036000e+06  6.036000e+06  6.036000e+06  6.036000e+06   \n",
       "mean   3.018000e+06  6.283886e+04  2.703618e+01  2.608072e+01  1.307225e+00   \n",
       "std    1.742443e+06  3.633526e+04  1.959549e+01  1.715231e+01  7.659778e-01   \n",
       "min    1.000000e+00  1.000000e+00  5.000000e+00  1.000000e+01  0.000000e+00   \n",
       "25%    1.509001e+06  3.137700e+04  5.000000e+00  1.000000e+01  6.428995e-01   \n",
       "50%    3.018000e+06  6.276550e+04  2.000000e+01  2.000000e+01  1.308123e+00   \n",
       "75%    4.527000e+06  9.430100e+04  5.000000e+01  5.000000e+01  1.965502e+00   \n",
       "max    6.036000e+06  1.257490e+05  5.000000e+01  5.000000e+01  2.937238e+00   \n",
       "\n",
       "               u_in         u_out      pressure  \n",
       "count  6.036000e+06  6.036000e+06  6.036000e+06  \n",
       "mean   7.321615e+00  6.204493e-01  1.122041e+01  \n",
       "std    1.343470e+01  4.852752e-01  8.109703e+00  \n",
       "min    0.000000e+00  0.000000e+00 -1.895744e+00  \n",
       "25%    3.936623e-01  0.000000e+00  6.329607e+00  \n",
       "50%    4.386146e+00  1.000000e+00  7.032628e+00  \n",
       "75%    4.983895e+00  1.000000e+00  1.364103e+01  \n",
       "max    1.000000e+02  1.000000e+00  6.482099e+01  "
      ]
     },
     "execution_count": 4,
     "metadata": {},
     "output_type": "execute_result"
    }
   ],
   "source": [
    "train_df.describe()"
   ]
  },
  {
   "cell_type": "code",
   "execution_count": 5,
   "id": "57041806",
   "metadata": {
    "execution": {
     "iopub.execute_input": "2021-10-22T06:26:47.346471Z",
     "iopub.status.busy": "2021-10-22T06:26:47.345907Z",
     "iopub.status.idle": "2021-10-22T06:26:51.676397Z",
     "shell.execute_reply": "2021-10-22T06:26:51.676903Z",
     "shell.execute_reply.started": "2021-10-22T04:51:24.577163Z"
    },
    "id": "tMAv6flZV8A0",
    "outputId": "83d5e260-fee6-4132-de18-39b7973df1b9",
    "papermill": {
     "duration": 4.371241,
     "end_time": "2021-10-22T06:26:51.677145",
     "exception": false,
     "start_time": "2021-10-22T06:26:47.305904",
     "status": "completed"
    },
    "tags": []
   },
   "outputs": [
    {
     "data": {
      "text/html": [
       "<div>\n",
       "<style scoped>\n",
       "    .dataframe tbody tr th:only-of-type {\n",
       "        vertical-align: middle;\n",
       "    }\n",
       "\n",
       "    .dataframe tbody tr th {\n",
       "        vertical-align: top;\n",
       "    }\n",
       "\n",
       "    .dataframe thead th {\n",
       "        text-align: right;\n",
       "    }\n",
       "</style>\n",
       "<table border=\"1\" class=\"dataframe\">\n",
       "  <thead>\n",
       "    <tr style=\"text-align: right;\">\n",
       "      <th></th>\n",
       "      <th>id</th>\n",
       "      <th>breath_id</th>\n",
       "      <th>R</th>\n",
       "      <th>C</th>\n",
       "      <th>time_step</th>\n",
       "      <th>u_in</th>\n",
       "      <th>u_out</th>\n",
       "    </tr>\n",
       "  </thead>\n",
       "  <tbody>\n",
       "    <tr>\n",
       "      <th>0</th>\n",
       "      <td>1</td>\n",
       "      <td>0</td>\n",
       "      <td>5</td>\n",
       "      <td>20</td>\n",
       "      <td>0.000000</td>\n",
       "      <td>0.000000</td>\n",
       "      <td>0</td>\n",
       "    </tr>\n",
       "    <tr>\n",
       "      <th>1</th>\n",
       "      <td>2</td>\n",
       "      <td>0</td>\n",
       "      <td>5</td>\n",
       "      <td>20</td>\n",
       "      <td>0.031904</td>\n",
       "      <td>7.515046</td>\n",
       "      <td>0</td>\n",
       "    </tr>\n",
       "    <tr>\n",
       "      <th>2</th>\n",
       "      <td>3</td>\n",
       "      <td>0</td>\n",
       "      <td>5</td>\n",
       "      <td>20</td>\n",
       "      <td>0.063827</td>\n",
       "      <td>14.651675</td>\n",
       "      <td>0</td>\n",
       "    </tr>\n",
       "    <tr>\n",
       "      <th>3</th>\n",
       "      <td>4</td>\n",
       "      <td>0</td>\n",
       "      <td>5</td>\n",
       "      <td>20</td>\n",
       "      <td>0.095751</td>\n",
       "      <td>21.230610</td>\n",
       "      <td>0</td>\n",
       "    </tr>\n",
       "    <tr>\n",
       "      <th>4</th>\n",
       "      <td>5</td>\n",
       "      <td>0</td>\n",
       "      <td>5</td>\n",
       "      <td>20</td>\n",
       "      <td>0.127644</td>\n",
       "      <td>26.320956</td>\n",
       "      <td>0</td>\n",
       "    </tr>\n",
       "  </tbody>\n",
       "</table>\n",
       "</div>"
      ],
      "text/plain": [
       "   id  breath_id  R   C  time_step       u_in  u_out\n",
       "0   1          0  5  20   0.000000   0.000000      0\n",
       "1   2          0  5  20   0.031904   7.515046      0\n",
       "2   3          0  5  20   0.063827  14.651675      0\n",
       "3   4          0  5  20   0.095751  21.230610      0\n",
       "4   5          0  5  20   0.127644  26.320956      0"
      ]
     },
     "execution_count": 5,
     "metadata": {},
     "output_type": "execute_result"
    }
   ],
   "source": [
    "test_df = pd.read_csv('../input/ventilator-pressure-prediction/test.csv')\n",
    "test_df.head()"
   ]
  },
  {
   "cell_type": "code",
   "execution_count": 6,
   "id": "eb7b20e9",
   "metadata": {
    "execution": {
     "iopub.execute_input": "2021-10-22T06:26:51.805624Z",
     "iopub.status.busy": "2021-10-22T06:26:51.804978Z",
     "iopub.status.idle": "2021-10-22T06:26:51.807614Z",
     "shell.execute_reply": "2021-10-22T06:26:51.808092Z",
     "shell.execute_reply.started": "2021-10-22T04:51:29.723700Z"
    },
    "id": "Yysf6eKxoUbm",
    "outputId": "0348923c-b5f0-481d-d5bf-ed13d637cc66",
    "papermill": {
     "duration": 0.044331,
     "end_time": "2021-10-22T06:26:51.808239",
     "exception": false,
     "start_time": "2021-10-22T06:26:51.763908",
     "status": "completed"
    },
    "tags": []
   },
   "outputs": [
    {
     "data": {
      "text/plain": [
       "(4024000, 7)"
      ]
     },
     "execution_count": 6,
     "metadata": {},
     "output_type": "execute_result"
    }
   ],
   "source": [
    "test_df.shape"
   ]
  },
  {
   "cell_type": "code",
   "execution_count": 7,
   "id": "10c54260",
   "metadata": {
    "execution": {
     "iopub.execute_input": "2021-10-22T06:26:51.959047Z",
     "iopub.status.busy": "2021-10-22T06:26:51.957898Z",
     "iopub.status.idle": "2021-10-22T06:26:52.585976Z",
     "shell.execute_reply": "2021-10-22T06:26:52.586406Z",
     "shell.execute_reply.started": "2021-10-22T04:51:29.732094Z"
    },
    "id": "AbGJRVIFZnGc",
    "outputId": "69f5bc15-6c5b-424b-8282-571bba899fe1",
    "papermill": {
     "duration": 0.741777,
     "end_time": "2021-10-22T06:26:52.586571",
     "exception": false,
     "start_time": "2021-10-22T06:26:51.844794",
     "status": "completed"
    },
    "tags": []
   },
   "outputs": [
    {
     "data": {
      "text/html": [
       "<div>\n",
       "<style scoped>\n",
       "    .dataframe tbody tr th:only-of-type {\n",
       "        vertical-align: middle;\n",
       "    }\n",
       "\n",
       "    .dataframe tbody tr th {\n",
       "        vertical-align: top;\n",
       "    }\n",
       "\n",
       "    .dataframe thead th {\n",
       "        text-align: right;\n",
       "    }\n",
       "</style>\n",
       "<table border=\"1\" class=\"dataframe\">\n",
       "  <thead>\n",
       "    <tr style=\"text-align: right;\">\n",
       "      <th></th>\n",
       "      <th>id</th>\n",
       "      <th>breath_id</th>\n",
       "      <th>R</th>\n",
       "      <th>C</th>\n",
       "      <th>time_step</th>\n",
       "      <th>u_in</th>\n",
       "      <th>u_out</th>\n",
       "    </tr>\n",
       "  </thead>\n",
       "  <tbody>\n",
       "    <tr>\n",
       "      <th>count</th>\n",
       "      <td>4.024000e+06</td>\n",
       "      <td>4.024000e+06</td>\n",
       "      <td>4.024000e+06</td>\n",
       "      <td>4.024000e+06</td>\n",
       "      <td>4.024000e+06</td>\n",
       "      <td>4.024000e+06</td>\n",
       "      <td>4.024000e+06</td>\n",
       "    </tr>\n",
       "    <tr>\n",
       "      <th>mean</th>\n",
       "      <td>2.012000e+06</td>\n",
       "      <td>6.292796e+04</td>\n",
       "      <td>2.710785e+01</td>\n",
       "      <td>2.607038e+01</td>\n",
       "      <td>1.307083e+00</td>\n",
       "      <td>7.338098e+00</td>\n",
       "      <td>6.203864e-01</td>\n",
       "    </tr>\n",
       "    <tr>\n",
       "      <th>std</th>\n",
       "      <td>1.161629e+06</td>\n",
       "      <td>3.624924e+04</td>\n",
       "      <td>1.954281e+01</td>\n",
       "      <td>1.717103e+01</td>\n",
       "      <td>7.658902e-01</td>\n",
       "      <td>1.350955e+01</td>\n",
       "      <td>4.852908e-01</td>\n",
       "    </tr>\n",
       "    <tr>\n",
       "      <th>min</th>\n",
       "      <td>1.000000e+00</td>\n",
       "      <td>0.000000e+00</td>\n",
       "      <td>5.000000e+00</td>\n",
       "      <td>1.000000e+01</td>\n",
       "      <td>0.000000e+00</td>\n",
       "      <td>0.000000e+00</td>\n",
       "      <td>0.000000e+00</td>\n",
       "    </tr>\n",
       "    <tr>\n",
       "      <th>25%</th>\n",
       "      <td>1.006001e+06</td>\n",
       "      <td>3.153050e+04</td>\n",
       "      <td>5.000000e+00</td>\n",
       "      <td>1.000000e+01</td>\n",
       "      <td>6.428454e-01</td>\n",
       "      <td>4.096735e-01</td>\n",
       "      <td>0.000000e+00</td>\n",
       "    </tr>\n",
       "    <tr>\n",
       "      <th>50%</th>\n",
       "      <td>2.012000e+06</td>\n",
       "      <td>6.305750e+04</td>\n",
       "      <td>2.000000e+01</td>\n",
       "      <td>2.000000e+01</td>\n",
       "      <td>1.308083e+00</td>\n",
       "      <td>4.377512e+00</td>\n",
       "      <td>1.000000e+00</td>\n",
       "    </tr>\n",
       "    <tr>\n",
       "      <th>75%</th>\n",
       "      <td>3.018000e+06</td>\n",
       "      <td>9.433325e+04</td>\n",
       "      <td>5.000000e+01</td>\n",
       "      <td>5.000000e+01</td>\n",
       "      <td>1.965240e+00</td>\n",
       "      <td>4.983472e+00</td>\n",
       "      <td>1.000000e+00</td>\n",
       "    </tr>\n",
       "    <tr>\n",
       "      <th>max</th>\n",
       "      <td>4.024000e+06</td>\n",
       "      <td>1.257480e+05</td>\n",
       "      <td>5.000000e+01</td>\n",
       "      <td>5.000000e+01</td>\n",
       "      <td>2.935203e+00</td>\n",
       "      <td>1.000000e+02</td>\n",
       "      <td>1.000000e+00</td>\n",
       "    </tr>\n",
       "  </tbody>\n",
       "</table>\n",
       "</div>"
      ],
      "text/plain": [
       "                 id     breath_id             R             C     time_step  \\\n",
       "count  4.024000e+06  4.024000e+06  4.024000e+06  4.024000e+06  4.024000e+06   \n",
       "mean   2.012000e+06  6.292796e+04  2.710785e+01  2.607038e+01  1.307083e+00   \n",
       "std    1.161629e+06  3.624924e+04  1.954281e+01  1.717103e+01  7.658902e-01   \n",
       "min    1.000000e+00  0.000000e+00  5.000000e+00  1.000000e+01  0.000000e+00   \n",
       "25%    1.006001e+06  3.153050e+04  5.000000e+00  1.000000e+01  6.428454e-01   \n",
       "50%    2.012000e+06  6.305750e+04  2.000000e+01  2.000000e+01  1.308083e+00   \n",
       "75%    3.018000e+06  9.433325e+04  5.000000e+01  5.000000e+01  1.965240e+00   \n",
       "max    4.024000e+06  1.257480e+05  5.000000e+01  5.000000e+01  2.935203e+00   \n",
       "\n",
       "               u_in         u_out  \n",
       "count  4.024000e+06  4.024000e+06  \n",
       "mean   7.338098e+00  6.203864e-01  \n",
       "std    1.350955e+01  4.852908e-01  \n",
       "min    0.000000e+00  0.000000e+00  \n",
       "25%    4.096735e-01  0.000000e+00  \n",
       "50%    4.377512e+00  1.000000e+00  \n",
       "75%    4.983472e+00  1.000000e+00  \n",
       "max    1.000000e+02  1.000000e+00  "
      ]
     },
     "execution_count": 7,
     "metadata": {},
     "output_type": "execute_result"
    }
   ],
   "source": [
    "test_df.describe()"
   ]
  },
  {
   "cell_type": "code",
   "execution_count": 8,
   "id": "4e64d506",
   "metadata": {
    "execution": {
     "iopub.execute_input": "2021-10-22T06:26:52.668850Z",
     "iopub.status.busy": "2021-10-22T06:26:52.668019Z",
     "iopub.status.idle": "2021-10-22T06:26:54.159959Z",
     "shell.execute_reply": "2021-10-22T06:26:54.159487Z",
     "shell.execute_reply.started": "2021-10-22T04:51:30.448318Z"
    },
    "id": "cmRlqBrHZ4mS",
    "outputId": "7db1436f-3638-4e93-ccb6-ffbb8478a534",
    "papermill": {
     "duration": 1.534893,
     "end_time": "2021-10-22T06:26:54.160085",
     "exception": false,
     "start_time": "2021-10-22T06:26:52.625192",
     "status": "completed"
    },
    "tags": []
   },
   "outputs": [
    {
     "name": "stdout",
     "output_type": "stream",
     "text": [
      "Common ids on train and test data : 0\n"
     ]
    }
   ],
   "source": [
    "tr_br_id = train_df.breath_id.unique()\n",
    "ts_br_id = test_df.breath_id.unique()\n",
    "\n",
    "common_br_id = []\n",
    "\n",
    "for el in ts_br_id:\n",
    "  if el in tr_br_id:\n",
    "    common_br_id.append(el)\n",
    "print(f\"Common ids on train and test data : {len(common_br_id)}\")"
   ]
  },
  {
   "cell_type": "code",
   "execution_count": 9,
   "id": "016683d3",
   "metadata": {
    "execution": {
     "iopub.execute_input": "2021-10-22T06:26:54.240017Z",
     "iopub.status.busy": "2021-10-22T06:26:54.239214Z",
     "iopub.status.idle": "2021-10-22T06:26:56.023359Z",
     "shell.execute_reply": "2021-10-22T06:26:56.023926Z",
     "shell.execute_reply.started": "2021-10-22T04:51:31.954075Z"
    },
    "id": "hiE_mZUvtaOd",
    "papermill": {
     "duration": 1.826455,
     "end_time": "2021-10-22T06:26:56.024107",
     "exception": false,
     "start_time": "2021-10-22T06:26:54.197652",
     "status": "completed"
    },
    "tags": []
   },
   "outputs": [],
   "source": [
    "train_df.drop_duplicates(['breath_id', 'time_step'], inplace = True)"
   ]
  },
  {
   "cell_type": "code",
   "execution_count": 10,
   "id": "a4beeb66",
   "metadata": {
    "execution": {
     "iopub.execute_input": "2021-10-22T06:26:56.273934Z",
     "iopub.status.busy": "2021-10-22T06:26:56.273150Z",
     "iopub.status.idle": "2021-10-22T06:26:56.277197Z",
     "shell.execute_reply": "2021-10-22T06:26:56.276366Z",
     "shell.execute_reply.started": "2021-10-22T04:51:34.006396Z"
    },
    "id": "RC3d9L91cMNh",
    "papermill": {
     "duration": 0.214675,
     "end_time": "2021-10-22T06:26:56.277335",
     "exception": false,
     "start_time": "2021-10-22T06:26:56.062660",
     "status": "completed"
    },
    "tags": []
   },
   "outputs": [],
   "source": [
    "train_df.drop('breath_id', 1, inplace = True)\n",
    "test_df.drop('breath_id', 1, inplace = True)"
   ]
  },
  {
   "cell_type": "code",
   "execution_count": 11,
   "id": "4e67ab53",
   "metadata": {
    "execution": {
     "iopub.execute_input": "2021-10-22T06:26:56.358518Z",
     "iopub.status.busy": "2021-10-22T06:26:56.357385Z",
     "iopub.status.idle": "2021-10-22T06:26:56.423846Z",
     "shell.execute_reply": "2021-10-22T06:26:56.424235Z",
     "shell.execute_reply.started": "2021-10-22T04:51:34.187585Z"
    },
    "id": "ztWArxXLaCxD",
    "outputId": "db143b2c-c595-499b-ea2c-c934913d13d3",
    "papermill": {
     "duration": 0.108092,
     "end_time": "2021-10-22T06:26:56.424385",
     "exception": false,
     "start_time": "2021-10-22T06:26:56.316293",
     "status": "completed"
    },
    "tags": []
   },
   "outputs": [
    {
     "data": {
      "text/plain": [
       "id           0\n",
       "R            0\n",
       "C            0\n",
       "time_step    0\n",
       "u_in         0\n",
       "u_out        0\n",
       "pressure     0\n",
       "dtype: int64"
      ]
     },
     "execution_count": 11,
     "metadata": {},
     "output_type": "execute_result"
    }
   ],
   "source": [
    "train_df.isnull().sum()"
   ]
  },
  {
   "cell_type": "code",
   "execution_count": 12,
   "id": "18162669",
   "metadata": {
    "execution": {
     "iopub.execute_input": "2021-10-22T06:26:56.505629Z",
     "iopub.status.busy": "2021-10-22T06:26:56.504770Z",
     "iopub.status.idle": "2021-10-22T06:26:56.539152Z",
     "shell.execute_reply": "2021-10-22T06:26:56.538708Z",
     "shell.execute_reply.started": "2021-10-22T04:51:34.261203Z"
    },
    "id": "j8q009t2cuwS",
    "outputId": "7a88811b-306e-443e-caa9-408c8c78c3a4",
    "papermill": {
     "duration": 0.076966,
     "end_time": "2021-10-22T06:26:56.539260",
     "exception": false,
     "start_time": "2021-10-22T06:26:56.462294",
     "status": "completed"
    },
    "tags": []
   },
   "outputs": [
    {
     "data": {
      "text/plain": [
       "id           0\n",
       "R            0\n",
       "C            0\n",
       "time_step    0\n",
       "u_in         0\n",
       "u_out        0\n",
       "dtype: int64"
      ]
     },
     "execution_count": 12,
     "metadata": {},
     "output_type": "execute_result"
    }
   ],
   "source": [
    "test_df.isnull().sum()"
   ]
  },
  {
   "cell_type": "code",
   "execution_count": 13,
   "id": "74d0ffcf",
   "metadata": {
    "execution": {
     "iopub.execute_input": "2021-10-22T06:26:56.620812Z",
     "iopub.status.busy": "2021-10-22T06:26:56.620170Z",
     "iopub.status.idle": "2021-10-22T06:26:56.623090Z",
     "shell.execute_reply": "2021-10-22T06:26:56.623523Z",
     "shell.execute_reply.started": "2021-10-22T04:51:34.303426Z"
    },
    "id": "MXTDGhqOdbXy",
    "outputId": "e39f07a3-8f80-4679-f39a-b1357da38b78",
    "papermill": {
     "duration": 0.046624,
     "end_time": "2021-10-22T06:26:56.623644",
     "exception": false,
     "start_time": "2021-10-22T06:26:56.577020",
     "status": "completed"
    },
    "tags": []
   },
   "outputs": [
    {
     "data": {
      "text/plain": [
       "id             int64\n",
       "R              int64\n",
       "C              int64\n",
       "time_step    float64\n",
       "u_in         float64\n",
       "u_out          int64\n",
       "pressure     float64\n",
       "dtype: object"
      ]
     },
     "execution_count": 13,
     "metadata": {},
     "output_type": "execute_result"
    }
   ],
   "source": [
    "train_df.dtypes"
   ]
  },
  {
   "cell_type": "code",
   "execution_count": 14,
   "id": "a00a5043",
   "metadata": {
    "execution": {
     "iopub.execute_input": "2021-10-22T06:26:56.703809Z",
     "iopub.status.busy": "2021-10-22T06:26:56.702953Z",
     "iopub.status.idle": "2021-10-22T06:26:58.037583Z",
     "shell.execute_reply": "2021-10-22T06:26:58.036696Z",
     "shell.execute_reply.started": "2021-10-22T04:51:34.312851Z"
    },
    "id": "34jN1qGsfrFy",
    "outputId": "427e7ff9-7d51-40b3-9120-82169a226d25",
    "papermill": {
     "duration": 1.375991,
     "end_time": "2021-10-22T06:26:58.037720",
     "exception": false,
     "start_time": "2021-10-22T06:26:56.661729",
     "status": "completed"
    },
    "tags": []
   },
   "outputs": [
    {
     "data": {
      "text/html": [
       "<div>\n",
       "<style scoped>\n",
       "    .dataframe tbody tr th:only-of-type {\n",
       "        vertical-align: middle;\n",
       "    }\n",
       "\n",
       "    .dataframe tbody tr th {\n",
       "        vertical-align: top;\n",
       "    }\n",
       "\n",
       "    .dataframe thead th {\n",
       "        text-align: right;\n",
       "    }\n",
       "</style>\n",
       "<table border=\"1\" class=\"dataframe\">\n",
       "  <thead>\n",
       "    <tr style=\"text-align: right;\">\n",
       "      <th></th>\n",
       "      <th>id</th>\n",
       "      <th>R</th>\n",
       "      <th>C</th>\n",
       "      <th>time_step</th>\n",
       "      <th>u_in</th>\n",
       "      <th>u_out</th>\n",
       "      <th>pressure</th>\n",
       "    </tr>\n",
       "  </thead>\n",
       "  <tbody>\n",
       "    <tr>\n",
       "      <th>0</th>\n",
       "      <td>1</td>\n",
       "      <td>20</td>\n",
       "      <td>50</td>\n",
       "      <td>0.0</td>\n",
       "      <td>0.083334</td>\n",
       "      <td>0</td>\n",
       "      <td>5.837492</td>\n",
       "    </tr>\n",
       "    <tr>\n",
       "      <th>4049920</th>\n",
       "      <td>4049921</td>\n",
       "      <td>50</td>\n",
       "      <td>20</td>\n",
       "      <td>0.0</td>\n",
       "      <td>1.196597</td>\n",
       "      <td>0</td>\n",
       "      <td>6.118700</td>\n",
       "    </tr>\n",
       "    <tr>\n",
       "      <th>4050000</th>\n",
       "      <td>4050001</td>\n",
       "      <td>20</td>\n",
       "      <td>10</td>\n",
       "      <td>0.0</td>\n",
       "      <td>3.138084</td>\n",
       "      <td>0</td>\n",
       "      <td>5.415679</td>\n",
       "    </tr>\n",
       "    <tr>\n",
       "      <th>4050080</th>\n",
       "      <td>4050081</td>\n",
       "      <td>50</td>\n",
       "      <td>10</td>\n",
       "      <td>0.0</td>\n",
       "      <td>1.593019</td>\n",
       "      <td>0</td>\n",
       "      <td>3.798729</td>\n",
       "    </tr>\n",
       "    <tr>\n",
       "      <th>369120</th>\n",
       "      <td>369121</td>\n",
       "      <td>50</td>\n",
       "      <td>50</td>\n",
       "      <td>0.0</td>\n",
       "      <td>0.000000</td>\n",
       "      <td>0</td>\n",
       "      <td>6.681117</td>\n",
       "    </tr>\n",
       "  </tbody>\n",
       "</table>\n",
       "</div>"
      ],
      "text/plain": [
       "              id   R   C  time_step      u_in  u_out  pressure\n",
       "0              1  20  50        0.0  0.083334      0  5.837492\n",
       "4049920  4049921  50  20        0.0  1.196597      0  6.118700\n",
       "4050000  4050001  20  10        0.0  3.138084      0  5.415679\n",
       "4050080  4050081  50  10        0.0  1.593019      0  3.798729\n",
       "369120    369121  50  50        0.0  0.000000      0  6.681117"
      ]
     },
     "execution_count": 14,
     "metadata": {},
     "output_type": "execute_result"
    }
   ],
   "source": [
    "train_df.sort_values(by=['time_step'], inplace = True)\n",
    "train_df.head()"
   ]
  },
  {
   "cell_type": "code",
   "execution_count": 15,
   "id": "917c5bac",
   "metadata": {
    "execution": {
     "iopub.execute_input": "2021-10-22T06:26:58.120497Z",
     "iopub.status.busy": "2021-10-22T06:26:58.119648Z",
     "iopub.status.idle": "2021-10-22T06:26:58.121536Z",
     "shell.execute_reply": "2021-10-22T06:26:58.121944Z",
     "shell.execute_reply.started": "2021-10-22T04:51:35.673736Z"
    },
    "id": "t_yivkibgpCJ",
    "papermill": {
     "duration": 0.04477,
     "end_time": "2021-10-22T06:26:58.122083",
     "exception": false,
     "start_time": "2021-10-22T06:26:58.077313",
     "status": "completed"
    },
    "tags": []
   },
   "outputs": [],
   "source": [
    "test_id = test_df.id"
   ]
  },
  {
   "cell_type": "code",
   "execution_count": 16,
   "id": "c7040525",
   "metadata": {
    "execution": {
     "iopub.execute_input": "2021-10-22T06:26:58.345620Z",
     "iopub.status.busy": "2021-10-22T06:26:58.344444Z",
     "iopub.status.idle": "2021-10-22T06:26:58.346268Z",
     "shell.execute_reply": "2021-10-22T06:26:58.346704Z",
     "shell.execute_reply.started": "2021-10-22T04:51:35.679535Z"
    },
    "id": "qxX-dJABh_ap",
    "papermill": {
     "duration": 0.186511,
     "end_time": "2021-10-22T06:26:58.346857",
     "exception": false,
     "start_time": "2021-10-22T06:26:58.160346",
     "status": "completed"
    },
    "tags": []
   },
   "outputs": [],
   "source": [
    "train_df.drop('id', 1, inplace = True)\n",
    "test_df.drop('id', 1, inplace = True)"
   ]
  },
  {
   "cell_type": "code",
   "execution_count": 17,
   "id": "7532b161",
   "metadata": {
    "execution": {
     "iopub.execute_input": "2021-10-22T06:26:58.432169Z",
     "iopub.status.busy": "2021-10-22T06:26:58.431381Z",
     "iopub.status.idle": "2021-10-22T06:26:58.439515Z",
     "shell.execute_reply": "2021-10-22T06:26:58.439033Z",
     "shell.execute_reply.started": "2021-10-22T04:51:35.836404Z"
    },
    "id": "xg4IL21WiG4Z",
    "outputId": "769226f4-f9ef-4a30-97d4-ad2c6fb7d271",
    "papermill": {
     "duration": 0.053804,
     "end_time": "2021-10-22T06:26:58.439629",
     "exception": false,
     "start_time": "2021-10-22T06:26:58.385825",
     "status": "completed"
    },
    "tags": []
   },
   "outputs": [
    {
     "data": {
      "text/html": [
       "<div>\n",
       "<style scoped>\n",
       "    .dataframe tbody tr th:only-of-type {\n",
       "        vertical-align: middle;\n",
       "    }\n",
       "\n",
       "    .dataframe tbody tr th {\n",
       "        vertical-align: top;\n",
       "    }\n",
       "\n",
       "    .dataframe thead th {\n",
       "        text-align: right;\n",
       "    }\n",
       "</style>\n",
       "<table border=\"1\" class=\"dataframe\">\n",
       "  <thead>\n",
       "    <tr style=\"text-align: right;\">\n",
       "      <th></th>\n",
       "      <th>R</th>\n",
       "      <th>C</th>\n",
       "      <th>time_step</th>\n",
       "      <th>u_in</th>\n",
       "      <th>u_out</th>\n",
       "      <th>pressure</th>\n",
       "    </tr>\n",
       "  </thead>\n",
       "  <tbody>\n",
       "    <tr>\n",
       "      <th>0</th>\n",
       "      <td>20</td>\n",
       "      <td>50</td>\n",
       "      <td>0.0</td>\n",
       "      <td>0.083334</td>\n",
       "      <td>0</td>\n",
       "      <td>5.837492</td>\n",
       "    </tr>\n",
       "    <tr>\n",
       "      <th>4049920</th>\n",
       "      <td>50</td>\n",
       "      <td>20</td>\n",
       "      <td>0.0</td>\n",
       "      <td>1.196597</td>\n",
       "      <td>0</td>\n",
       "      <td>6.118700</td>\n",
       "    </tr>\n",
       "    <tr>\n",
       "      <th>4050000</th>\n",
       "      <td>20</td>\n",
       "      <td>10</td>\n",
       "      <td>0.0</td>\n",
       "      <td>3.138084</td>\n",
       "      <td>0</td>\n",
       "      <td>5.415679</td>\n",
       "    </tr>\n",
       "    <tr>\n",
       "      <th>4050080</th>\n",
       "      <td>50</td>\n",
       "      <td>10</td>\n",
       "      <td>0.0</td>\n",
       "      <td>1.593019</td>\n",
       "      <td>0</td>\n",
       "      <td>3.798729</td>\n",
       "    </tr>\n",
       "    <tr>\n",
       "      <th>369120</th>\n",
       "      <td>50</td>\n",
       "      <td>50</td>\n",
       "      <td>0.0</td>\n",
       "      <td>0.000000</td>\n",
       "      <td>0</td>\n",
       "      <td>6.681117</td>\n",
       "    </tr>\n",
       "  </tbody>\n",
       "</table>\n",
       "</div>"
      ],
      "text/plain": [
       "          R   C  time_step      u_in  u_out  pressure\n",
       "0        20  50        0.0  0.083334      0  5.837492\n",
       "4049920  50  20        0.0  1.196597      0  6.118700\n",
       "4050000  20  10        0.0  3.138084      0  5.415679\n",
       "4050080  50  10        0.0  1.593019      0  3.798729\n",
       "369120   50  50        0.0  0.000000      0  6.681117"
      ]
     },
     "execution_count": 17,
     "metadata": {},
     "output_type": "execute_result"
    }
   ],
   "source": [
    "train_df.head()"
   ]
  },
  {
   "cell_type": "code",
   "execution_count": 18,
   "id": "993381f7",
   "metadata": {
    "execution": {
     "iopub.execute_input": "2021-10-22T06:26:58.523390Z",
     "iopub.status.busy": "2021-10-22T06:26:58.522459Z",
     "iopub.status.idle": "2021-10-22T06:26:58.616299Z",
     "shell.execute_reply": "2021-10-22T06:26:58.616748Z",
     "shell.execute_reply.started": "2021-10-22T04:51:35.852406Z"
    },
    "id": "GYTFHA2eiSJg",
    "papermill": {
     "duration": 0.137455,
     "end_time": "2021-10-22T06:26:58.616915",
     "exception": false,
     "start_time": "2021-10-22T06:26:58.479460",
     "status": "completed"
    },
    "tags": []
   },
   "outputs": [],
   "source": [
    "train_df['R3C'] = train_df.R**3*train_df.C\n",
    "test_df['R3C'] = test_df.R**3*test_df.C"
   ]
  },
  {
   "cell_type": "code",
   "execution_count": 19,
   "id": "a2aeed5b",
   "metadata": {
    "execution": {
     "iopub.execute_input": "2021-10-22T06:26:58.707822Z",
     "iopub.status.busy": "2021-10-22T06:26:58.707108Z",
     "iopub.status.idle": "2021-10-22T06:26:58.709840Z",
     "shell.execute_reply": "2021-10-22T06:26:58.710256Z",
     "shell.execute_reply.started": "2021-10-22T04:51:35.954809Z"
    },
    "id": "4NUnqppskYru",
    "outputId": "0fc79ba2-69c0-42ba-f336-f2a30d928ff1",
    "papermill": {
     "duration": 0.052614,
     "end_time": "2021-10-22T06:26:58.710381",
     "exception": false,
     "start_time": "2021-10-22T06:26:58.657767",
     "status": "completed"
    },
    "tags": []
   },
   "outputs": [
    {
     "data": {
      "text/html": [
       "<div>\n",
       "<style scoped>\n",
       "    .dataframe tbody tr th:only-of-type {\n",
       "        vertical-align: middle;\n",
       "    }\n",
       "\n",
       "    .dataframe tbody tr th {\n",
       "        vertical-align: top;\n",
       "    }\n",
       "\n",
       "    .dataframe thead th {\n",
       "        text-align: right;\n",
       "    }\n",
       "</style>\n",
       "<table border=\"1\" class=\"dataframe\">\n",
       "  <thead>\n",
       "    <tr style=\"text-align: right;\">\n",
       "      <th></th>\n",
       "      <th>R</th>\n",
       "      <th>C</th>\n",
       "      <th>time_step</th>\n",
       "      <th>u_in</th>\n",
       "      <th>u_out</th>\n",
       "      <th>pressure</th>\n",
       "      <th>R3C</th>\n",
       "    </tr>\n",
       "  </thead>\n",
       "  <tbody>\n",
       "    <tr>\n",
       "      <th>0</th>\n",
       "      <td>20</td>\n",
       "      <td>50</td>\n",
       "      <td>0.0</td>\n",
       "      <td>0.083334</td>\n",
       "      <td>0</td>\n",
       "      <td>5.837492</td>\n",
       "      <td>400000</td>\n",
       "    </tr>\n",
       "    <tr>\n",
       "      <th>4049920</th>\n",
       "      <td>50</td>\n",
       "      <td>20</td>\n",
       "      <td>0.0</td>\n",
       "      <td>1.196597</td>\n",
       "      <td>0</td>\n",
       "      <td>6.118700</td>\n",
       "      <td>2500000</td>\n",
       "    </tr>\n",
       "    <tr>\n",
       "      <th>4050000</th>\n",
       "      <td>20</td>\n",
       "      <td>10</td>\n",
       "      <td>0.0</td>\n",
       "      <td>3.138084</td>\n",
       "      <td>0</td>\n",
       "      <td>5.415679</td>\n",
       "      <td>80000</td>\n",
       "    </tr>\n",
       "    <tr>\n",
       "      <th>4050080</th>\n",
       "      <td>50</td>\n",
       "      <td>10</td>\n",
       "      <td>0.0</td>\n",
       "      <td>1.593019</td>\n",
       "      <td>0</td>\n",
       "      <td>3.798729</td>\n",
       "      <td>1250000</td>\n",
       "    </tr>\n",
       "    <tr>\n",
       "      <th>369120</th>\n",
       "      <td>50</td>\n",
       "      <td>50</td>\n",
       "      <td>0.0</td>\n",
       "      <td>0.000000</td>\n",
       "      <td>0</td>\n",
       "      <td>6.681117</td>\n",
       "      <td>6250000</td>\n",
       "    </tr>\n",
       "  </tbody>\n",
       "</table>\n",
       "</div>"
      ],
      "text/plain": [
       "          R   C  time_step      u_in  u_out  pressure      R3C\n",
       "0        20  50        0.0  0.083334      0  5.837492   400000\n",
       "4049920  50  20        0.0  1.196597      0  6.118700  2500000\n",
       "4050000  20  10        0.0  3.138084      0  5.415679    80000\n",
       "4050080  50  10        0.0  1.593019      0  3.798729  1250000\n",
       "369120   50  50        0.0  0.000000      0  6.681117  6250000"
      ]
     },
     "execution_count": 19,
     "metadata": {},
     "output_type": "execute_result"
    }
   ],
   "source": [
    "train_df.head()"
   ]
  },
  {
   "cell_type": "code",
   "execution_count": 20,
   "id": "d351f2d4",
   "metadata": {
    "execution": {
     "iopub.execute_input": "2021-10-22T06:26:58.812230Z",
     "iopub.status.busy": "2021-10-22T06:26:58.811699Z",
     "iopub.status.idle": "2021-10-22T06:26:59.819486Z",
     "shell.execute_reply": "2021-10-22T06:26:59.819974Z",
     "shell.execute_reply.started": "2021-10-22T04:51:35.969318Z"
    },
    "id": "NntwNojBka4n",
    "outputId": "06a25dcc-c1d7-4fd1-d5aa-44d98c9f2ac6",
    "papermill": {
     "duration": 1.068276,
     "end_time": "2021-10-22T06:26:59.820140",
     "exception": false,
     "start_time": "2021-10-22T06:26:58.751864",
     "status": "completed"
    },
    "tags": []
   },
   "outputs": [
    {
     "data": {
      "image/png": "[encoded data removed]",
      "text/plain": [
       "<Figure size 1080x576 with 4 Axes>"
      ]
     },
     "metadata": {
      "needs_background": "light"
     },
     "output_type": "display_data"
    }
   ],
   "source": [
    "ax, fig = plt.subplots(2, 2, figsize = (15, 8))\n",
    "plt.suptitle('R-C Histogram', size = 20)\n",
    "plt.subplot(2, 2, 1)\n",
    "plt.hist(train_df.R)\n",
    "plt.title('R-Train')\n",
    "plt.subplot(2, 2, 2)\n",
    "plt.hist(train_df.C)\n",
    "plt.title('C-Train')\n",
    "plt.subplot(2, 2, 3)\n",
    "plt.hist(test_df.R)\n",
    "plt.title('R-Test')\n",
    "plt.subplot(2, 2, 4)\n",
    "plt.hist(test_df.C)\n",
    "plt.title('C-Test')\n",
    "plt.show()"
   ]
  },
  {
   "cell_type": "code",
   "execution_count": 21,
   "id": "eff5dfb1",
   "metadata": {
    "execution": {
     "iopub.execute_input": "2021-10-22T06:26:59.928060Z",
     "iopub.status.busy": "2021-10-22T06:26:59.926621Z",
     "iopub.status.idle": "2021-10-22T06:27:01.919165Z",
     "shell.execute_reply": "2021-10-22T06:27:01.919634Z",
     "shell.execute_reply.started": "2021-10-22T04:51:37.034231Z"
    },
    "id": "yAW0EVXksfbV",
    "outputId": "db7a5a93-82f3-49fc-e10e-232f2c67e11c",
    "papermill": {
     "duration": 2.057678,
     "end_time": "2021-10-22T06:27:01.919799",
     "exception": false,
     "start_time": "2021-10-22T06:26:59.862121",
     "status": "completed"
    },
    "tags": []
   },
   "outputs": [
    {
     "data": {
      "image/png": "[encoded data removed]",
      "text/plain": [
       "<Figure size 1080x360 with 2 Axes>"
      ]
     },
     "metadata": {
      "needs_background": "light"
     },
     "output_type": "display_data"
    }
   ],
   "source": [
    "ax, fig = plt.subplots(1, 1, figsize = (15, 5))\n",
    "plt.suptitle('u_in Distribution', size = 20)\n",
    "plt.subplot(1, 2, 1)\n",
    "sns.boxplot(train_df.u_in)\n",
    "plt.title('box_plot')\n",
    "plt.subplot(1, 2, 2)\n",
    "plt.hist(train_df.u_in)\n",
    "plt.title('histogram')\n",
    "plt.show()"
   ]
  },
  {
   "cell_type": "code",
   "execution_count": 22,
   "id": "c6ae805c",
   "metadata": {
    "execution": {
     "iopub.execute_input": "2021-10-22T06:27:02.024065Z",
     "iopub.status.busy": "2021-10-22T06:27:02.022075Z",
     "iopub.status.idle": "2021-10-22T06:27:02.578619Z",
     "shell.execute_reply": "2021-10-22T06:27:02.578148Z",
     "shell.execute_reply.started": "2021-10-22T04:51:38.923671Z"
    },
    "id": "TEB6fA3R3NvD",
    "outputId": "3283d9e2-e0f2-41b8-f916-2b6ae60a229c",
    "papermill": {
     "duration": 0.617491,
     "end_time": "2021-10-22T06:27:02.578753",
     "exception": false,
     "start_time": "2021-10-22T06:27:01.961262",
     "status": "completed"
    },
    "tags": []
   },
   "outputs": [
    {
     "data": {
      "image/png": "[encoded data removed]",
      "text/plain": [
       "<Figure size 1080x360 with 2 Axes>"
      ]
     },
     "metadata": {
      "needs_background": "light"
     },
     "output_type": "display_data"
    }
   ],
   "source": [
    "ax, fig = plt.subplots(1, 1, figsize = (15, 5))\n",
    "plt.suptitle('u_out Distribution', size = 20)\n",
    "plt.subplot(1, 2, 1)\n",
    "sns.boxplot(train_df.u_out)\n",
    "plt.title('box_plot')\n",
    "plt.subplot(1, 2, 2)\n",
    "plt.hist(train_df.u_out)\n",
    "plt.title('histogram')\n",
    "plt.show()"
   ]
  },
  {
   "cell_type": "code",
   "execution_count": 23,
   "id": "7bb3a615",
   "metadata": {
    "execution": {
     "iopub.execute_input": "2021-10-22T06:27:02.666800Z",
     "iopub.status.busy": "2021-10-22T06:27:02.665672Z",
     "iopub.status.idle": "2021-10-22T06:27:04.002046Z",
     "shell.execute_reply": "2021-10-22T06:27:04.001465Z",
     "shell.execute_reply.started": "2021-10-22T04:51:39.528373Z"
    },
    "id": "Z0XLuyDN5WSS",
    "outputId": "b52e41bc-5d65-443e-a77e-5f7e8b82479d",
    "papermill": {
     "duration": 1.381539,
     "end_time": "2021-10-22T06:27:04.002175",
     "exception": false,
     "start_time": "2021-10-22T06:27:02.620636",
     "status": "completed"
    },
    "tags": []
   },
   "outputs": [
    {
     "data": {
      "image/png": "[encoded data removed]",
      "text/plain": [
       "<Figure size 432x288 with 2 Axes>"
      ]
     },
     "metadata": {
      "needs_background": "light"
     },
     "output_type": "display_data"
    }
   ],
   "source": [
    "corr_data = train_df.corr()\n",
    "sns.heatmap(corr_data)\n",
    "plt.title('Correlation Plot')\n",
    "plt.show()"
   ]
  },
  {
   "cell_type": "code",
   "execution_count": 24,
   "id": "bb059ecc",
   "metadata": {
    "execution": {
     "iopub.execute_input": "2021-10-22T06:27:04.092736Z",
     "iopub.status.busy": "2021-10-22T06:27:04.091616Z",
     "iopub.status.idle": "2021-10-22T06:27:04.410357Z",
     "shell.execute_reply": "2021-10-22T06:27:04.410850Z",
     "shell.execute_reply.started": "2021-10-22T04:51:40.873870Z"
    },
    "id": "wSakepoi6NKY",
    "papermill": {
     "duration": 0.366391,
     "end_time": "2021-10-22T06:27:04.411023",
     "exception": false,
     "start_time": "2021-10-22T06:27:04.044632",
     "status": "completed"
    },
    "tags": []
   },
   "outputs": [],
   "source": [
    "train_df.drop(['R', 'C', 'R3C'], 1, inplace = True)\n",
    "test_df.drop(['R', 'C', 'R3C'], 1, inplace = True)"
   ]
  },
  {
   "cell_type": "code",
   "execution_count": 25,
   "id": "feb4c59c",
   "metadata": {
    "execution": {
     "iopub.execute_input": "2021-10-22T06:27:04.507287Z",
     "iopub.status.busy": "2021-10-22T06:27:04.506172Z",
     "iopub.status.idle": "2021-10-22T06:27:04.509276Z",
     "shell.execute_reply": "2021-10-22T06:27:04.509722Z",
     "shell.execute_reply.started": "2021-10-22T04:51:41.201491Z"
    },
    "id": "aKrl0mao7J9Q",
    "outputId": "07ea3bbc-1eda-49b4-b035-29f28493b839",
    "papermill": {
     "duration": 0.055432,
     "end_time": "2021-10-22T06:27:04.509851",
     "exception": false,
     "start_time": "2021-10-22T06:27:04.454419",
     "status": "completed"
    },
    "tags": []
   },
   "outputs": [
    {
     "data": {
      "text/html": [
       "<div>\n",
       "<style scoped>\n",
       "    .dataframe tbody tr th:only-of-type {\n",
       "        vertical-align: middle;\n",
       "    }\n",
       "\n",
       "    .dataframe tbody tr th {\n",
       "        vertical-align: top;\n",
       "    }\n",
       "\n",
       "    .dataframe thead th {\n",
       "        text-align: right;\n",
       "    }\n",
       "</style>\n",
       "<table border=\"1\" class=\"dataframe\">\n",
       "  <thead>\n",
       "    <tr style=\"text-align: right;\">\n",
       "      <th></th>\n",
       "      <th>time_step</th>\n",
       "      <th>u_in</th>\n",
       "      <th>u_out</th>\n",
       "      <th>pressure</th>\n",
       "    </tr>\n",
       "  </thead>\n",
       "  <tbody>\n",
       "    <tr>\n",
       "      <th>0</th>\n",
       "      <td>0.0</td>\n",
       "      <td>0.083334</td>\n",
       "      <td>0</td>\n",
       "      <td>5.837492</td>\n",
       "    </tr>\n",
       "    <tr>\n",
       "      <th>4049920</th>\n",
       "      <td>0.0</td>\n",
       "      <td>1.196597</td>\n",
       "      <td>0</td>\n",
       "      <td>6.118700</td>\n",
       "    </tr>\n",
       "    <tr>\n",
       "      <th>4050000</th>\n",
       "      <td>0.0</td>\n",
       "      <td>3.138084</td>\n",
       "      <td>0</td>\n",
       "      <td>5.415679</td>\n",
       "    </tr>\n",
       "    <tr>\n",
       "      <th>4050080</th>\n",
       "      <td>0.0</td>\n",
       "      <td>1.593019</td>\n",
       "      <td>0</td>\n",
       "      <td>3.798729</td>\n",
       "    </tr>\n",
       "    <tr>\n",
       "      <th>369120</th>\n",
       "      <td>0.0</td>\n",
       "      <td>0.000000</td>\n",
       "      <td>0</td>\n",
       "      <td>6.681117</td>\n",
       "    </tr>\n",
       "  </tbody>\n",
       "</table>\n",
       "</div>"
      ],
      "text/plain": [
       "         time_step      u_in  u_out  pressure\n",
       "0              0.0  0.083334      0  5.837492\n",
       "4049920        0.0  1.196597      0  6.118700\n",
       "4050000        0.0  3.138084      0  5.415679\n",
       "4050080        0.0  1.593019      0  3.798729\n",
       "369120         0.0  0.000000      0  6.681117"
      ]
     },
     "execution_count": 25,
     "metadata": {},
     "output_type": "execute_result"
    }
   ],
   "source": [
    "train_df.head()"
   ]
  },
  {
   "cell_type": "code",
   "execution_count": 26,
   "id": "d23dfd2a",
   "metadata": {
    "execution": {
     "iopub.execute_input": "2021-10-22T06:27:04.602939Z",
     "iopub.status.busy": "2021-10-22T06:27:04.602244Z",
     "iopub.status.idle": "2021-10-22T06:27:04.605049Z",
     "shell.execute_reply": "2021-10-22T06:27:04.605471Z",
     "shell.execute_reply.started": "2021-10-22T04:51:41.214351Z"
    },
    "id": "rBm-Ajie7Pvw",
    "outputId": "8f8f5594-c047-4a70-f7e0-5f10c3a46f87",
    "papermill": {
     "duration": 0.052868,
     "end_time": "2021-10-22T06:27:04.605602",
     "exception": false,
     "start_time": "2021-10-22T06:27:04.552734",
     "status": "completed"
    },
    "tags": []
   },
   "outputs": [
    {
     "data": {
      "text/html": [
       "<div>\n",
       "<style scoped>\n",
       "    .dataframe tbody tr th:only-of-type {\n",
       "        vertical-align: middle;\n",
       "    }\n",
       "\n",
       "    .dataframe tbody tr th {\n",
       "        vertical-align: top;\n",
       "    }\n",
       "\n",
       "    .dataframe thead th {\n",
       "        text-align: right;\n",
       "    }\n",
       "</style>\n",
       "<table border=\"1\" class=\"dataframe\">\n",
       "  <thead>\n",
       "    <tr style=\"text-align: right;\">\n",
       "      <th></th>\n",
       "      <th>time_step</th>\n",
       "      <th>u_in</th>\n",
       "      <th>u_out</th>\n",
       "    </tr>\n",
       "  </thead>\n",
       "  <tbody>\n",
       "    <tr>\n",
       "      <th>0</th>\n",
       "      <td>0.000000</td>\n",
       "      <td>0.000000</td>\n",
       "      <td>0</td>\n",
       "    </tr>\n",
       "    <tr>\n",
       "      <th>1</th>\n",
       "      <td>0.031904</td>\n",
       "      <td>7.515046</td>\n",
       "      <td>0</td>\n",
       "    </tr>\n",
       "    <tr>\n",
       "      <th>2</th>\n",
       "      <td>0.063827</td>\n",
       "      <td>14.651675</td>\n",
       "      <td>0</td>\n",
       "    </tr>\n",
       "    <tr>\n",
       "      <th>3</th>\n",
       "      <td>0.095751</td>\n",
       "      <td>21.230610</td>\n",
       "      <td>0</td>\n",
       "    </tr>\n",
       "    <tr>\n",
       "      <th>4</th>\n",
       "      <td>0.127644</td>\n",
       "      <td>26.320956</td>\n",
       "      <td>0</td>\n",
       "    </tr>\n",
       "  </tbody>\n",
       "</table>\n",
       "</div>"
      ],
      "text/plain": [
       "   time_step       u_in  u_out\n",
       "0   0.000000   0.000000      0\n",
       "1   0.031904   7.515046      0\n",
       "2   0.063827  14.651675      0\n",
       "3   0.095751  21.230610      0\n",
       "4   0.127644  26.320956      0"
      ]
     },
     "execution_count": 26,
     "metadata": {},
     "output_type": "execute_result"
    }
   ],
   "source": [
    "test_df.head()"
   ]
  },
  {
   "cell_type": "code",
   "execution_count": 27,
   "id": "b12345f9",
   "metadata": {
    "execution": {
     "iopub.execute_input": "2021-10-22T06:27:06.160447Z",
     "iopub.status.busy": "2021-10-22T06:27:06.159532Z",
     "iopub.status.idle": "2021-10-22T06:27:11.795619Z",
     "shell.execute_reply": "2021-10-22T06:27:11.796204Z",
     "shell.execute_reply.started": "2021-10-22T04:51:41.232130Z"
    },
    "id": "T-mrdoIM7SvZ",
    "outputId": "1fb76129-863d-4cfd-85ce-132c0254a36d",
    "papermill": {
     "duration": 7.147726,
     "end_time": "2021-10-22T06:27:11.796405",
     "exception": false,
     "start_time": "2021-10-22T06:27:04.648679",
     "status": "completed"
    },
    "tags": []
   },
   "outputs": [
    {
     "name": "stdout",
     "output_type": "stream",
     "text": [
      "[Train data][time_step] | Minimum Value : 0.0 | Maximum Value : 2.9372379779815674\n",
      "[Test data][time_step] | Minimum Value : 0.0 | Maximum Value : 2.9352025985717773\n",
      "[Train data][u_in] | Minimum Value : 0.0 | Maximum Value : 100.0\n",
      "[Test data][u_in] | Minimum Value : 0.0 | Maximum Value : 100.0\n",
      "[Train data][u_out] | Minimum Value : 0 | Maximum Value : 1\n",
      "[Test data][u_out] | Minimum Value : 0 | Maximum Value : 1\n"
     ]
    }
   ],
   "source": [
    "for col in ['time_step', 'u_in', 'u_out']:\n",
    "  print(f\"[Train data][{col}] | Minimum Value : {min(train_df[col])} | Maximum Value : {max(train_df[col])}\")\n",
    "  print(f\"[Test data][{col}] | Minimum Value : {min(test_df[col])} | Maximum Value : {max(test_df[col])}\")"
   ]
  },
  {
   "cell_type": "code",
   "execution_count": 28,
   "id": "9a402474",
   "metadata": {
    "execution": {
     "iopub.execute_input": "2021-10-22T06:27:12.836745Z",
     "iopub.status.busy": "2021-10-22T06:27:12.835821Z",
     "iopub.status.idle": "2021-10-22T06:27:16.648272Z",
     "shell.execute_reply": "2021-10-22T06:27:16.647409Z",
     "shell.execute_reply.started": "2021-10-22T04:51:49.154569Z"
    },
    "id": "gMD-TOek9ol3",
    "papermill": {
     "duration": 4.807635,
     "end_time": "2021-10-22T06:27:16.648404",
     "exception": false,
     "start_time": "2021-10-22T06:27:11.840769",
     "status": "completed"
    },
    "tags": []
   },
   "outputs": [],
   "source": [
    "def minmaxscaler(train_data, test_data):\n",
    "  min_val = min(train_data)\n",
    "  max_val = max(train_data)\n",
    "  return (train_data - min_val) / (max_val - min_val) , (test_data - min_val) / (max_val - min_val)\n",
    "\n",
    "for col in ['time_step', 'u_in', 'u_out']:\n",
    "  train_df[col], test_df[col] = minmaxscaler(train_df[col], test_df[col])"
   ]
  },
  {
   "cell_type": "code",
   "execution_count": 29,
   "id": "16d33d72",
   "metadata": {
    "execution": {
     "iopub.execute_input": "2021-10-22T06:27:16.747786Z",
     "iopub.status.busy": "2021-10-22T06:27:16.746630Z",
     "iopub.status.idle": "2021-10-22T06:27:16.750019Z",
     "shell.execute_reply": "2021-10-22T06:27:16.750449Z",
     "shell.execute_reply.started": "2021-10-22T04:51:54.004354Z"
    },
    "id": "u0UPYkfuBtS2",
    "outputId": "04b2fab8-3874-4e87-c26c-2e9f92ce1478",
    "papermill": {
     "duration": 0.058041,
     "end_time": "2021-10-22T06:27:16.750582",
     "exception": false,
     "start_time": "2021-10-22T06:27:16.692541",
     "status": "completed"
    },
    "tags": []
   },
   "outputs": [
    {
     "data": {
      "text/html": [
       "<div>\n",
       "<style scoped>\n",
       "    .dataframe tbody tr th:only-of-type {\n",
       "        vertical-align: middle;\n",
       "    }\n",
       "\n",
       "    .dataframe tbody tr th {\n",
       "        vertical-align: top;\n",
       "    }\n",
       "\n",
       "    .dataframe thead th {\n",
       "        text-align: right;\n",
       "    }\n",
       "</style>\n",
       "<table border=\"1\" class=\"dataframe\">\n",
       "  <thead>\n",
       "    <tr style=\"text-align: right;\">\n",
       "      <th></th>\n",
       "      <th>time_step</th>\n",
       "      <th>u_in</th>\n",
       "      <th>u_out</th>\n",
       "      <th>pressure</th>\n",
       "    </tr>\n",
       "  </thead>\n",
       "  <tbody>\n",
       "    <tr>\n",
       "      <th>0</th>\n",
       "      <td>0.0</td>\n",
       "      <td>0.000833</td>\n",
       "      <td>0.0</td>\n",
       "      <td>5.837492</td>\n",
       "    </tr>\n",
       "    <tr>\n",
       "      <th>4049920</th>\n",
       "      <td>0.0</td>\n",
       "      <td>0.011966</td>\n",
       "      <td>0.0</td>\n",
       "      <td>6.118700</td>\n",
       "    </tr>\n",
       "    <tr>\n",
       "      <th>4050000</th>\n",
       "      <td>0.0</td>\n",
       "      <td>0.031381</td>\n",
       "      <td>0.0</td>\n",
       "      <td>5.415679</td>\n",
       "    </tr>\n",
       "    <tr>\n",
       "      <th>4050080</th>\n",
       "      <td>0.0</td>\n",
       "      <td>0.015930</td>\n",
       "      <td>0.0</td>\n",
       "      <td>3.798729</td>\n",
       "    </tr>\n",
       "    <tr>\n",
       "      <th>369120</th>\n",
       "      <td>0.0</td>\n",
       "      <td>0.000000</td>\n",
       "      <td>0.0</td>\n",
       "      <td>6.681117</td>\n",
       "    </tr>\n",
       "  </tbody>\n",
       "</table>\n",
       "</div>"
      ],
      "text/plain": [
       "         time_step      u_in  u_out  pressure\n",
       "0              0.0  0.000833    0.0  5.837492\n",
       "4049920        0.0  0.011966    0.0  6.118700\n",
       "4050000        0.0  0.031381    0.0  5.415679\n",
       "4050080        0.0  0.015930    0.0  3.798729\n",
       "369120         0.0  0.000000    0.0  6.681117"
      ]
     },
     "execution_count": 29,
     "metadata": {},
     "output_type": "execute_result"
    }
   ],
   "source": [
    "train_df.head()"
   ]
  },
  {
   "cell_type": "code",
   "execution_count": 30,
   "id": "61df0d5d",
   "metadata": {
    "execution": {
     "iopub.execute_input": "2021-10-22T06:27:16.850722Z",
     "iopub.status.busy": "2021-10-22T06:27:16.850060Z",
     "iopub.status.idle": "2021-10-22T06:27:16.852744Z",
     "shell.execute_reply": "2021-10-22T06:27:16.853147Z",
     "shell.execute_reply.started": "2021-10-22T04:51:54.020374Z"
    },
    "id": "rt-XClaTCYZP",
    "outputId": "81567168-08f4-48d9-e9bf-d988d862a365",
    "papermill": {
     "duration": 0.058108,
     "end_time": "2021-10-22T06:27:16.853263",
     "exception": false,
     "start_time": "2021-10-22T06:27:16.795155",
     "status": "completed"
    },
    "tags": []
   },
   "outputs": [
    {
     "data": {
      "text/html": [
       "<div>\n",
       "<style scoped>\n",
       "    .dataframe tbody tr th:only-of-type {\n",
       "        vertical-align: middle;\n",
       "    }\n",
       "\n",
       "    .dataframe tbody tr th {\n",
       "        vertical-align: top;\n",
       "    }\n",
       "\n",
       "    .dataframe thead th {\n",
       "        text-align: right;\n",
       "    }\n",
       "</style>\n",
       "<table border=\"1\" class=\"dataframe\">\n",
       "  <thead>\n",
       "    <tr style=\"text-align: right;\">\n",
       "      <th></th>\n",
       "      <th>time_step</th>\n",
       "      <th>u_in</th>\n",
       "      <th>u_out</th>\n",
       "    </tr>\n",
       "  </thead>\n",
       "  <tbody>\n",
       "    <tr>\n",
       "      <th>0</th>\n",
       "      <td>0.000000</td>\n",
       "      <td>0.000000</td>\n",
       "      <td>0.0</td>\n",
       "    </tr>\n",
       "    <tr>\n",
       "      <th>1</th>\n",
       "      <td>0.010862</td>\n",
       "      <td>0.075150</td>\n",
       "      <td>0.0</td>\n",
       "    </tr>\n",
       "    <tr>\n",
       "      <th>2</th>\n",
       "      <td>0.021730</td>\n",
       "      <td>0.146517</td>\n",
       "      <td>0.0</td>\n",
       "    </tr>\n",
       "    <tr>\n",
       "      <th>3</th>\n",
       "      <td>0.032599</td>\n",
       "      <td>0.212306</td>\n",
       "      <td>0.0</td>\n",
       "    </tr>\n",
       "    <tr>\n",
       "      <th>4</th>\n",
       "      <td>0.043457</td>\n",
       "      <td>0.263210</td>\n",
       "      <td>0.0</td>\n",
       "    </tr>\n",
       "  </tbody>\n",
       "</table>\n",
       "</div>"
      ],
      "text/plain": [
       "   time_step      u_in  u_out\n",
       "0   0.000000  0.000000    0.0\n",
       "1   0.010862  0.075150    0.0\n",
       "2   0.021730  0.146517    0.0\n",
       "3   0.032599  0.212306    0.0\n",
       "4   0.043457  0.263210    0.0"
      ]
     },
     "execution_count": 30,
     "metadata": {},
     "output_type": "execute_result"
    }
   ],
   "source": [
    "test_df.head()"
   ]
  },
  {
   "cell_type": "code",
   "execution_count": 31,
   "id": "7b2e9a36",
   "metadata": {
    "execution": {
     "iopub.execute_input": "2021-10-22T06:27:16.954876Z",
     "iopub.status.busy": "2021-10-22T06:27:16.954323Z",
     "iopub.status.idle": "2021-10-22T06:27:17.088185Z",
     "shell.execute_reply": "2021-10-22T06:27:17.088650Z",
     "shell.execute_reply.started": "2021-10-22T04:51:54.037358Z"
    },
    "id": "b1_lnxBXDKvm",
    "papermill": {
     "duration": 0.186509,
     "end_time": "2021-10-22T06:27:17.088800",
     "exception": false,
     "start_time": "2021-10-22T06:27:16.902291",
     "status": "completed"
    },
    "tags": []
   },
   "outputs": [],
   "source": [
    "from sklearn.model_selection import train_test_split"
   ]
  },
  {
   "cell_type": "code",
   "execution_count": 32,
   "id": "67f20fcb",
   "metadata": {
    "execution": {
     "iopub.execute_input": "2021-10-22T06:27:17.185717Z",
     "iopub.status.busy": "2021-10-22T06:27:17.184601Z",
     "iopub.status.idle": "2021-10-22T06:27:17.367305Z",
     "shell.execute_reply": "2021-10-22T06:27:17.366781Z",
     "shell.execute_reply.started": "2021-10-22T04:51:54.189586Z"
    },
    "id": "DJwQDKesDRvY",
    "papermill": {
     "duration": 0.233214,
     "end_time": "2021-10-22T06:27:17.367456",
     "exception": false,
     "start_time": "2021-10-22T06:27:17.134242",
     "status": "completed"
    },
    "tags": []
   },
   "outputs": [],
   "source": [
    "X, y = train_df.drop('pressure', 1) , train_df.pressure"
   ]
  },
  {
   "cell_type": "code",
   "execution_count": 33,
   "id": "01f57bc6",
   "metadata": {
    "execution": {
     "iopub.execute_input": "2021-10-22T06:27:17.467731Z",
     "iopub.status.busy": "2021-10-22T06:27:17.466613Z",
     "iopub.status.idle": "2021-10-22T06:27:18.255258Z",
     "shell.execute_reply": "2021-10-22T06:27:18.256519Z",
     "shell.execute_reply.started": "2021-10-22T04:51:54.383547Z"
    },
    "id": "VjbKQmNuDdH_",
    "outputId": "d5277881-d44b-4e16-b0db-274808c2440d",
    "papermill": {
     "duration": 0.84415,
     "end_time": "2021-10-22T06:27:18.256765",
     "exception": false,
     "start_time": "2021-10-22T06:27:17.412615",
     "status": "completed"
    },
    "tags": []
   },
   "outputs": [
    {
     "data": {
      "text/plain": [
       "((4828800, 4), (1207200, 4))"
      ]
     },
     "execution_count": 33,
     "metadata": {},
     "output_type": "execute_result"
    }
   ],
   "source": [
    "train_df, val_df = train_test_split(train_df, test_size = 0.2, shuffle = True, random_state = 42)\n",
    "train_df.shape, val_df.shape"
   ]
  },
  {
   "cell_type": "code",
   "execution_count": 34,
   "id": "8dd076c9",
   "metadata": {
    "execution": {
     "iopub.execute_input": "2021-10-22T06:27:18.432639Z",
     "iopub.status.busy": "2021-10-22T06:27:18.431745Z",
     "iopub.status.idle": "2021-10-22T06:27:18.437685Z",
     "shell.execute_reply": "2021-10-22T06:27:18.438459Z",
     "shell.execute_reply.started": "2021-10-22T04:51:55.076048Z"
    },
    "id": "7LAsRKd8J9du",
    "outputId": "3858807f-f87f-4d34-8554-87726fc27aed",
    "papermill": {
     "duration": 0.088001,
     "end_time": "2021-10-22T06:27:18.438655",
     "exception": false,
     "start_time": "2021-10-22T06:27:18.350654",
     "status": "completed"
    },
    "tags": []
   },
   "outputs": [
    {
     "data": {
      "text/plain": [
       "(4024000, 3)"
      ]
     },
     "execution_count": 34,
     "metadata": {},
     "output_type": "execute_result"
    }
   ],
   "source": [
    "test_df.shape"
   ]
  },
  {
   "cell_type": "code",
   "execution_count": 35,
   "id": "edaf25cc",
   "metadata": {
    "execution": {
     "iopub.execute_input": "2021-10-22T06:27:18.593810Z",
     "iopub.status.busy": "2021-10-22T06:27:18.593058Z",
     "iopub.status.idle": "2021-10-22T06:27:18.595698Z",
     "shell.execute_reply": "2021-10-22T06:27:18.596188Z",
     "shell.execute_reply.started": "2021-10-22T04:51:55.086994Z"
    },
    "id": "B3SV5AocMWWd",
    "outputId": "50e41215-1fef-4b8a-dbc3-db7c0a215881",
    "papermill": {
     "duration": 0.069608,
     "end_time": "2021-10-22T06:27:18.596317",
     "exception": false,
     "start_time": "2021-10-22T06:27:18.526709",
     "status": "completed"
    },
    "tags": []
   },
   "outputs": [
    {
     "data": {
      "text/plain": [
       "numpy.float64"
      ]
     },
     "execution_count": 35,
     "metadata": {},
     "output_type": "execute_result"
    }
   ],
   "source": [
    "type(train_df.iloc[0,-1:][0])"
   ]
  },
  {
   "cell_type": "code",
   "execution_count": 36,
   "id": "4e0b673c",
   "metadata": {
    "execution": {
     "iopub.execute_input": "2021-10-22T06:27:18.700576Z",
     "iopub.status.busy": "2021-10-22T06:27:18.699272Z",
     "iopub.status.idle": "2021-10-22T06:27:20.273853Z",
     "shell.execute_reply": "2021-10-22T06:27:20.273195Z",
     "shell.execute_reply.started": "2021-10-22T04:51:55.104225Z"
    },
    "id": "FK_zFrQ_GULe",
    "outputId": "2f0421ce-8c0c-4a15-8543-c04d8baccf85",
    "papermill": {
     "duration": 1.62732,
     "end_time": "2021-10-22T06:27:20.274031",
     "exception": false,
     "start_time": "2021-10-22T06:27:18.646711",
     "status": "completed"
    },
    "tags": []
   },
   "outputs": [
    {
     "name": "stdout",
     "output_type": "stream",
     "text": [
      "Output Shape : torch.Size([5, 1])\n"
     ]
    }
   ],
   "source": [
    "import torch\n",
    "import torch.nn as nn\n",
    "import torch.optim as optim\n",
    "from torch.utils.data import DataLoader, Dataset\n",
    "\n",
    "\n",
    "class ANN_model(nn.Module):\n",
    "  \n",
    "  def __init__(self):\n",
    "    super(ANN_model, self).__init__()\n",
    "    self.dense1 = nn.Linear(3, 1024)\n",
    "    self.dense2 = nn.Linear(1024, 2048)\n",
    "    self.op = nn.Linear(2048, 1)\n",
    "\n",
    "    self.model = nn.Sequential(\n",
    "        self.dense1,\n",
    "        self.dense2,\n",
    "        self.op\n",
    "    )\n",
    "  def forward(self, x):\n",
    "    return self.model(x)\n",
    "\n",
    "\n",
    "rand_data = torch.rand(5,3)\n",
    "model = ANN_model()\n",
    "print(f\"Output Shape : {model(rand_data).shape}\")"
   ]
  },
  {
   "cell_type": "code",
   "execution_count": 37,
   "id": "2407f611",
   "metadata": {
    "execution": {
     "iopub.execute_input": "2021-10-22T06:27:20.379203Z",
     "iopub.status.busy": "2021-10-22T06:27:20.377657Z",
     "iopub.status.idle": "2021-10-22T06:27:20.379870Z",
     "shell.execute_reply": "2021-10-22T06:27:20.380281Z",
     "shell.execute_reply.started": "2021-10-22T04:51:56.720460Z"
    },
    "id": "rJRUglHwKFaV",
    "papermill": {
     "duration": 0.055304,
     "end_time": "2021-10-22T06:27:20.380405",
     "exception": false,
     "start_time": "2021-10-22T06:27:20.325101",
     "status": "completed"
    },
    "tags": []
   },
   "outputs": [],
   "source": [
    "class ANN_dataset(Dataset):\n",
    "  def __init__(self, dataset, test_data = False):\n",
    "    self.dataset = dataset\n",
    "    self.test_data = test_data\n",
    "\n",
    "  def __len__(self):\n",
    "    return len(self.dataset)\n",
    "\n",
    "  def __getitem__(self, index):\n",
    "    X = torch.tensor(self.dataset.iloc[index, :3])\n",
    "    if self.test_data != True:\n",
    "      y = torch.tensor(self.dataset.iloc[index, -1:][0])\n",
    "      return (X, y)\n",
    "    return X"
   ]
  },
  {
   "cell_type": "code",
   "execution_count": 38,
   "id": "59c440cc",
   "metadata": {
    "execution": {
     "iopub.execute_input": "2021-10-22T06:27:20.475589Z",
     "iopub.status.busy": "2021-10-22T06:27:20.474825Z",
     "iopub.status.idle": "2021-10-22T06:27:20.477318Z",
     "shell.execute_reply": "2021-10-22T06:27:20.476892Z",
     "shell.execute_reply.started": "2021-10-22T04:51:56.729293Z"
    },
    "id": "_qsNntC1Jbf2",
    "papermill": {
     "duration": 0.051729,
     "end_time": "2021-10-22T06:27:20.477419",
     "exception": false,
     "start_time": "2021-10-22T06:27:20.425690",
     "status": "completed"
    },
    "tags": []
   },
   "outputs": [],
   "source": [
    "train_ds = ANN_dataset(train_df)\n",
    "val_ds = ANN_dataset(val_df)\n",
    "test_ds = ANN_dataset(test_df,True)"
   ]
  },
  {
   "cell_type": "code",
   "execution_count": 39,
   "id": "d5a4a29d",
   "metadata": {
    "execution": {
     "iopub.execute_input": "2021-10-22T06:27:20.572295Z",
     "iopub.status.busy": "2021-10-22T06:27:20.571803Z",
     "iopub.status.idle": "2021-10-22T06:27:20.575472Z",
     "shell.execute_reply": "2021-10-22T06:27:20.575019Z",
     "shell.execute_reply.started": "2021-10-22T04:53:45.214598Z"
    },
    "id": "HF4TryMaNlN1",
    "papermill": {
     "duration": 0.052634,
     "end_time": "2021-10-22T06:27:20.575576",
     "exception": false,
     "start_time": "2021-10-22T06:27:20.522942",
     "status": "completed"
    },
    "tags": []
   },
   "outputs": [],
   "source": [
    "train_dl = DataLoader(train_ds, batch_size = 100, shuffle = True)\n",
    "val_dl = DataLoader(val_ds, batch_size = 100, shuffle = True)\n",
    "test_dl = DataLoader(test_ds, batch_size = 100, shuffle = False)"
   ]
  },
  {
   "cell_type": "code",
   "execution_count": 40,
   "id": "7aa80003",
   "metadata": {
    "execution": {
     "iopub.execute_input": "2021-10-22T06:27:20.670926Z",
     "iopub.status.busy": "2021-10-22T06:27:20.670353Z",
     "iopub.status.idle": "2021-10-22T06:27:21.328196Z",
     "shell.execute_reply": "2021-10-22T06:27:21.329081Z",
     "shell.execute_reply.started": "2021-10-22T04:53:45.222514Z"
    },
    "id": "5YvTpX5sN4E6",
    "outputId": "648f3e08-0364-4e87-81ab-cf69480f136d",
    "papermill": {
     "duration": 0.708468,
     "end_time": "2021-10-22T06:27:21.329240",
     "exception": false,
     "start_time": "2021-10-22T06:27:20.620772",
     "status": "completed"
    },
    "tags": []
   },
   "outputs": [
    {
     "name": "stdout",
     "output_type": "stream",
     "text": [
      "torch.Size([100, 3]) torch.Size([100])\n",
      "torch.Size([100, 3]) torch.Size([100])\n",
      "torch.Size([100, 3])\n"
     ]
    }
   ],
   "source": [
    "for X, y in train_dl:\n",
    "  print(X.shape, y.shape)\n",
    "  break\n",
    "for X, y in val_dl:\n",
    "  print(X.shape, y.shape)\n",
    "  break\n",
    "for X in test_dl:\n",
    "  print(X.shape)\n",
    "  break"
   ]
  },
  {
   "cell_type": "code",
   "execution_count": 41,
   "id": "c171e447",
   "metadata": {
    "execution": {
     "iopub.execute_input": "2021-10-22T06:27:21.426248Z",
     "iopub.status.busy": "2021-10-22T06:27:21.425402Z",
     "iopub.status.idle": "2021-10-22T06:27:21.427957Z",
     "shell.execute_reply": "2021-10-22T06:27:21.427511Z",
     "shell.execute_reply.started": "2021-10-22T04:53:45.856757Z"
    },
    "id": "UU_p_XhPP0R5",
    "papermill": {
     "duration": 0.052362,
     "end_time": "2021-10-22T06:27:21.428071",
     "exception": false,
     "start_time": "2021-10-22T06:27:21.375709",
     "status": "completed"
    },
    "tags": []
   },
   "outputs": [],
   "source": [
    "# Chossing training hyperparameters and also the optimizer and loss\n",
    "\n",
    "EPOCHS = 10\n",
    "criterion = nn.MSELoss()\n",
    "optim = torch.optim.Adam(params = model.parameters(), lr = 1e-4)"
   ]
  },
  {
   "cell_type": "code",
   "execution_count": 42,
   "id": "b92117be",
   "metadata": {
    "execution": {
     "iopub.execute_input": "2021-10-22T06:27:21.523545Z",
     "iopub.status.busy": "2021-10-22T06:27:21.522889Z",
     "iopub.status.idle": "2021-10-22T06:27:21.526311Z",
     "shell.execute_reply": "2021-10-22T06:27:21.526759Z",
     "shell.execute_reply.started": "2021-10-22T04:53:45.865271Z"
    },
    "id": "oF8qr5U7Pm8D",
    "papermill": {
     "duration": 0.052977,
     "end_time": "2021-10-22T06:27:21.526883",
     "exception": false,
     "start_time": "2021-10-22T06:27:21.473906",
     "status": "completed"
    },
    "tags": []
   },
   "outputs": [],
   "source": [
    "from termcolor import cprint"
   ]
  },
  {
   "cell_type": "code",
   "execution_count": 43,
   "id": "abdaf030",
   "metadata": {
    "execution": {
     "iopub.execute_input": "2021-10-22T06:27:21.665339Z",
     "iopub.status.busy": "2021-10-22T06:27:21.664721Z",
     "iopub.status.idle": "2021-10-22T06:27:24.527062Z",
     "shell.execute_reply": "2021-10-22T06:27:24.527543Z",
     "shell.execute_reply.started": "2021-10-22T04:53:45.877863Z"
    },
    "id": "kAHMvhQmP8Rk",
    "papermill": {
     "duration": 2.955256,
     "end_time": "2021-10-22T06:27:24.527718",
     "exception": false,
     "start_time": "2021-10-22T06:27:21.572462",
     "status": "completed"
    },
    "tags": []
   },
   "outputs": [],
   "source": [
    "model = model.cuda()  # Putting the model inside GPU"
   ]
  },
  {
   "cell_type": "code",
   "execution_count": 44,
   "id": "912fc298",
   "metadata": {
    "execution": {
     "iopub.execute_input": "2021-10-22T06:27:24.622777Z",
     "iopub.status.busy": "2021-10-22T06:27:24.621965Z",
     "iopub.status.idle": "2021-10-22T06:27:24.628295Z",
     "shell.execute_reply": "2021-10-22T06:27:24.628992Z",
     "shell.execute_reply.started": "2021-10-22T04:53:45.888075Z"
    },
    "id": "2IHyhxn1R9Qy",
    "outputId": "aba5a7d7-b3ad-4958-c9a9-519141e7e158",
    "papermill": {
     "duration": 0.055246,
     "end_time": "2021-10-22T06:27:24.629172",
     "exception": false,
     "start_time": "2021-10-22T06:27:24.573926",
     "status": "completed"
    },
    "tags": []
   },
   "outputs": [
    {
     "name": "stdout",
     "output_type": "stream",
     "text": [
      "dense1.weight torch.float32\n",
      "dense1.bias torch.float32\n",
      "dense2.weight torch.float32\n",
      "dense2.bias torch.float32\n",
      "op.weight torch.float32\n",
      "op.bias torch.float32\n"
     ]
    }
   ],
   "source": [
    "for name,param in model.named_parameters():\n",
    "  print(name, param.dtype)"
   ]
  },
  {
   "cell_type": "code",
   "execution_count": 45,
   "id": "1808dfaf",
   "metadata": {
    "execution": {
     "iopub.execute_input": "2021-10-22T06:27:24.724408Z",
     "iopub.status.busy": "2021-10-22T06:27:24.723516Z",
     "iopub.status.idle": "2021-10-22T07:38:43.717286Z",
     "shell.execute_reply": "2021-10-22T07:38:43.717938Z",
     "shell.execute_reply.started": "2021-10-22T04:53:45.897812Z"
    },
    "id": "vYT9egLiODIc",
    "outputId": "16d3a98c-fc2b-4363-b7d9-7931afdd8c7d",
    "papermill": {
     "duration": 4279.042778,
     "end_time": "2021-10-22T07:38:43.718148",
     "exception": false,
     "start_time": "2021-10-22T06:27:24.675370",
     "status": "completed"
    },
    "tags": []
   },
   "outputs": [
    {
     "name": "stdout",
     "output_type": "stream",
     "text": [
      "Epoch 1 : \n",
      "\n",
      "         Step 1000 Loss : 75.7310\n",
      "         Step 2000 Loss : 74.1362\n",
      "         Step 3000 Loss : 79.4445\n",
      "         Step 4000 Loss : 54.8990\n",
      "         Step 5000 Loss : 72.0923\n",
      "         Step 6000 Loss : 55.8138\n",
      "         Step 7000 Loss : 97.9195\n",
      "         Step 8000 Loss : 91.8779\n",
      "         Step 9000 Loss : 63.3466\n",
      "         Step 10000 Loss : 54.5072\n",
      "\n",
      "     Training Loss : 658638.6016  ||  Validation Loss : 197113.5693\n",
      "\n",
      "\u001b[32mModel Updation : Success!\n",
      "\u001b[0m\n",
      "Epoch 2 : \n",
      "\n",
      "         Step 1000 Loss : 59.6065\n",
      "         Step 2000 Loss : 73.0027\n",
      "         Step 3000 Loss : 61.2401\n",
      "         Step 4000 Loss : 51.2494\n",
      "         Step 5000 Loss : 53.9379\n",
      "         Step 6000 Loss : 60.0813\n",
      "         Step 7000 Loss : 58.0830\n",
      "         Step 8000 Loss : 54.5828\n",
      "         Step 9000 Loss : 66.7418\n",
      "         Step 10000 Loss : 55.6255\n",
      "\n",
      "     Training Loss : 660174.6809  ||  Validation Loss : 196709.6102\n",
      "\n",
      "\u001b[32mModel Updation : Success!\n",
      "\u001b[0m\n",
      "Epoch 3 : \n",
      "\n",
      "         Step 1000 Loss : 82.2555\n",
      "         Step 2000 Loss : 72.7770\n",
      "         Step 3000 Loss : 58.9952\n",
      "         Step 4000 Loss : 55.1400\n",
      "         Step 5000 Loss : 83.1353\n",
      "         Step 6000 Loss : 64.9232\n",
      "         Step 7000 Loss : 39.0883\n",
      "         Step 8000 Loss : 46.5338\n",
      "         Step 9000 Loss : 45.9906\n",
      "         Step 10000 Loss : 66.2150\n",
      "\n",
      "     Training Loss : 659042.1174  ||  Validation Loss : 196836.5952\n",
      "\n",
      "\u001b[31mModel Updation : Failed!\n",
      "\u001b[0m\n",
      "Epoch 4 : \n",
      "\n",
      "         Step 1000 Loss : 83.3341\n",
      "         Step 2000 Loss : 76.8224\n",
      "         Step 3000 Loss : 44.2887\n",
      "         Step 4000 Loss : 57.5786\n",
      "         Step 5000 Loss : 83.3401\n",
      "         Step 6000 Loss : 55.3207\n",
      "         Step 7000 Loss : 78.2197\n",
      "         Step 8000 Loss : 72.8993\n",
      "         Step 9000 Loss : 77.3611\n",
      "         Step 10000 Loss : 51.4447\n",
      "\n",
      "     Training Loss : 659514.8331  ||  Validation Loss : 196961.7131\n",
      "\n",
      "\u001b[31mModel Updation : Failed!\n",
      "\u001b[0m\n",
      "Epoch 5 : \n",
      "\n",
      "         Step 1000 Loss : 49.6940\n",
      "         Step 2000 Loss : 66.3424\n",
      "         Step 3000 Loss : 41.1843\n",
      "         Step 4000 Loss : 85.7393\n",
      "         Step 5000 Loss : 87.7127\n",
      "         Step 6000 Loss : 66.2844\n",
      "         Step 7000 Loss : 59.4897\n",
      "         Step 8000 Loss : 55.6394\n",
      "         Step 9000 Loss : 46.1469\n",
      "         Step 10000 Loss : 68.9080\n",
      "\n",
      "     Training Loss : 657700.0935  ||  Validation Loss : 196723.6862\n",
      "\n",
      "\u001b[31mModel Updation : Failed!\n",
      "\u001b[0m\n",
      "Epoch 6 : \n",
      "\n",
      "         Step 1000 Loss : 63.5653\n",
      "         Step 2000 Loss : 95.9187\n",
      "         Step 3000 Loss : 42.8041\n",
      "         Step 4000 Loss : 70.4230\n",
      "         Step 5000 Loss : 70.4160\n",
      "         Step 6000 Loss : 50.1469\n",
      "         Step 7000 Loss : 99.5808\n",
      "         Step 8000 Loss : 71.4618\n",
      "         Step 9000 Loss : 54.0345\n",
      "         Step 10000 Loss : 64.0316\n",
      "\n",
      "     Training Loss : 657961.5258  ||  Validation Loss : 196120.5404\n",
      "\n",
      "\u001b[32mModel Updation : Success!\n",
      "\u001b[0m\n",
      "Epoch 7 : \n",
      "\n",
      "         Step 1000 Loss : 54.0481\n",
      "         Step 2000 Loss : 84.2654\n",
      "         Step 3000 Loss : 68.8310\n",
      "         Step 4000 Loss : 79.6373\n",
      "         Step 5000 Loss : 75.3914\n",
      "         Step 6000 Loss : 55.0622\n",
      "         Step 7000 Loss : 41.9748\n",
      "         Step 8000 Loss : 46.1869\n",
      "         Step 9000 Loss : 80.5114\n",
      "         Step 10000 Loss : 105.0754\n",
      "\n",
      "     Training Loss : 659681.7141  ||  Validation Loss : 196886.9122\n",
      "\n",
      "\u001b[31mModel Updation : Failed!\n",
      "\u001b[0m\n",
      "Epoch 8 : \n",
      "\n",
      "         Step 1000 Loss : 73.8179\n",
      "         Step 2000 Loss : 60.2213\n",
      "         Step 3000 Loss : 74.0416\n",
      "         Step 4000 Loss : 69.8391\n",
      "         Step 5000 Loss : 63.2361\n",
      "         Step 6000 Loss : 92.6228\n",
      "         Step 7000 Loss : 58.0032\n",
      "         Step 8000 Loss : 68.0555\n",
      "         Step 9000 Loss : 54.9099\n",
      "         Step 10000 Loss : 97.5708\n",
      "\n",
      "     Training Loss : 656701.5454  ||  Validation Loss : 197105.8042\n",
      "\n",
      "\u001b[31mModel Updation : Failed!\n",
      "\u001b[0m\n",
      "Epoch 9 : \n",
      "\n",
      "         Step 1000 Loss : 68.8456\n",
      "         Step 2000 Loss : 63.1870\n",
      "         Step 3000 Loss : 73.6263\n",
      "         Step 4000 Loss : 72.8921\n",
      "         Step 5000 Loss : 71.3256\n",
      "         Step 6000 Loss : 51.1217\n",
      "         Step 7000 Loss : 77.2677\n",
      "         Step 8000 Loss : 65.6844\n",
      "         Step 9000 Loss : 65.3445\n",
      "         Step 10000 Loss : 59.8550\n",
      "\n",
      "     Training Loss : 659148.6155  ||  Validation Loss : 197934.6349\n",
      "\n",
      "\u001b[31mModel Updation : Failed!\n",
      "\u001b[0m\n",
      "Epoch 10 : \n",
      "\n",
      "         Step 1000 Loss : 70.9544\n",
      "         Step 2000 Loss : 59.7073\n",
      "         Step 3000 Loss : 69.1577\n",
      "         Step 4000 Loss : 60.7525\n",
      "         Step 5000 Loss : 77.5426\n",
      "         Step 6000 Loss : 63.9203\n",
      "         Step 7000 Loss : 46.5651\n",
      "         Step 8000 Loss : 90.9114\n",
      "         Step 9000 Loss : 62.4066\n",
      "         Step 10000 Loss : 66.9478\n",
      "\n",
      "     Training Loss : 658911.0589  ||  Validation Loss : 197817.6553\n",
      "\n",
      "\u001b[31mModel Updation : Failed!\n",
      "\u001b[0m\n",
      "\u001b[34mTraining completed...\u001b[0m\n"
     ]
    }
   ],
   "source": [
    "# Model Training...\n",
    "train_loss = []\n",
    "val_loss = []\n",
    "best_loss = np.inf\n",
    "for epoch in range(EPOCHS):\n",
    "    print(f\"Epoch {epoch + 1} : \\n\")\n",
    "    TR_LOSS = 0.0\n",
    "    VAL_LOSS = 0.0\n",
    "    model.train()\n",
    "    \n",
    "    # Train Data Forward & Backward Pass\n",
    "    \n",
    "    for index, (train_patch, labels) in enumerate(train_dl):\n",
    "        optim.zero_grad()\n",
    "        train_patch = train_patch.float().cuda()\n",
    "        labels = labels.float().cuda()\n",
    "        op = model(train_patch)\n",
    "        tloss = criterion(op, labels)\n",
    "        TR_LOSS += tloss.item()\n",
    "        train_loss.append(tloss.item())\n",
    "        tloss.backward()\n",
    "        optim.step()\n",
    "        \n",
    "        if index % 1000 == 999:\n",
    "            print(f\"         Step {index + 1} Loss : {'%.4f'%(tloss.item())}\") \n",
    "        if index == 9999:\n",
    "            break\n",
    "    model.eval()\n",
    "    # Validation Checking ( Only Forward Pass )\n",
    "    \n",
    "    with torch.no_grad():\n",
    "        for index, (val_patch, labels) in enumerate(val_dl):\n",
    "            val_patch = val_patch.float().cuda()\n",
    "            labels = labels.float().cuda()\n",
    "            op = model(val_patch)\n",
    "            vloss = criterion(op, labels)\n",
    "            VAL_LOSS += vloss.item()\n",
    "            val_loss.append(vloss.item())\n",
    "            if index == 2999:\n",
    "                break\n",
    "                \n",
    "    print(f\"\\n     Training Loss : {'%.4f'%(TR_LOSS)}  ||  Validation Loss : {'%.4f'%(VAL_LOSS)}\\n\")\n",
    "    \n",
    "    if VAL_LOSS < best_loss :      # Model Updationg\n",
    "        cprint(\"Model Updation : Success!\\n\", 'green')\n",
    "        torch.save(model, 'best_model.pth')\n",
    "        best_loss = VAL_LOSS\n",
    "    else:\n",
    "        cprint(\"Model Updation : Failed!\\n\", 'red')\n",
    "cprint('Training completed...', 'blue')"
   ]
  },
  {
   "cell_type": "code",
   "execution_count": 46,
   "id": "6e05d217",
   "metadata": {
    "execution": {
     "iopub.execute_input": "2021-10-22T07:38:43.874758Z",
     "iopub.status.busy": "2021-10-22T07:38:43.874189Z",
     "iopub.status.idle": "2021-10-22T07:38:43.885820Z",
     "shell.execute_reply": "2021-10-22T07:38:43.885339Z",
     "shell.execute_reply.started": "2021-10-22T05:47:04.749722Z"
    },
    "papermill": {
     "duration": 0.09049,
     "end_time": "2021-10-22T07:38:43.885935",
     "exception": false,
     "start_time": "2021-10-22T07:38:43.795445",
     "status": "completed"
    },
    "tags": []
   },
   "outputs": [
    {
     "data": {
      "text/plain": [
       "ANN_model(\n",
       "  (dense1): Linear(in_features=3, out_features=1024, bias=True)\n",
       "  (dense2): Linear(in_features=1024, out_features=2048, bias=True)\n",
       "  (op): Linear(in_features=2048, out_features=1, bias=True)\n",
       "  (model): Sequential(\n",
       "    (0): Linear(in_features=3, out_features=1024, bias=True)\n",
       "    (1): Linear(in_features=1024, out_features=2048, bias=True)\n",
       "    (2): Linear(in_features=2048, out_features=1, bias=True)\n",
       "  )\n",
       ")"
      ]
     },
     "execution_count": 46,
     "metadata": {},
     "output_type": "execute_result"
    }
   ],
   "source": [
    "best_model = torch.load('best_model.pth')\n",
    "best_model"
   ]
  },
  {
   "cell_type": "code",
   "execution_count": 47,
   "id": "65f555b3",
   "metadata": {
    "execution": {
     "iopub.execute_input": "2021-10-22T07:38:44.066176Z",
     "iopub.status.busy": "2021-10-22T07:38:44.065389Z",
     "iopub.status.idle": "2021-10-22T07:52:01.814944Z",
     "shell.execute_reply": "2021-10-22T07:52:01.815562Z",
     "shell.execute_reply.started": "2021-10-22T05:56:35.433952Z"
    },
    "papermill": {
     "duration": 797.854053,
     "end_time": "2021-10-22T07:52:01.815769",
     "exception": false,
     "start_time": "2021-10-22T07:38:43.961716",
     "status": "completed"
    },
    "tags": []
   },
   "outputs": [
    {
     "name": "stdout",
     "output_type": "stream",
     "text": [
      "Predicted 1000th patch...\n",
      "Predicted 2000th patch...\n",
      "Predicted 3000th patch...\n",
      "Predicted 4000th patch...\n",
      "Predicted 5000th patch...\n",
      "Predicted 6000th patch...\n",
      "Predicted 7000th patch...\n",
      "Predicted 8000th patch...\n",
      "Predicted 9000th patch...\n",
      "Predicted 10000th patch...\n",
      "Predicted 11000th patch...\n",
      "Predicted 12000th patch...\n",
      "Predicted 13000th patch...\n",
      "Predicted 14000th patch...\n",
      "Predicted 15000th patch...\n",
      "Predicted 16000th patch...\n",
      "Predicted 17000th patch...\n",
      "Predicted 18000th patch...\n",
      "Predicted 19000th patch...\n",
      "Predicted 20000th patch...\n",
      "Predicted 21000th patch...\n",
      "Predicted 22000th patch...\n",
      "Predicted 23000th patch...\n",
      "Predicted 24000th patch...\n",
      "Predicted 25000th patch...\n",
      "Predicted 26000th patch...\n",
      "Predicted 27000th patch...\n",
      "Predicted 28000th patch...\n",
      "Predicted 29000th patch...\n",
      "Predicted 30000th patch...\n",
      "Predicted 31000th patch...\n",
      "Predicted 32000th patch...\n",
      "Predicted 33000th patch...\n",
      "Predicted 34000th patch...\n",
      "Predicted 35000th patch...\n",
      "Predicted 36000th patch...\n",
      "Predicted 37000th patch...\n",
      "Predicted 38000th patch...\n",
      "Predicted 39000th patch...\n",
      "Predicted 40000th patch...\n",
      "Prediction data prepared...\n"
     ]
    }
   ],
   "source": [
    "pred = []\n",
    "with torch.no_grad():\n",
    "    for index, test_patch in enumerate(test_dl):\n",
    "        test_patch = test_patch.float().cuda()\n",
    "        op = best_model(val_patch).cpu().detach().numpy().tolist()\n",
    "        if index % 1000 == 999:\n",
    "            print(f\"Predicted {index + 1}th patch...\")\n",
    "        for el in op:\n",
    "            pred.append(el)\n",
    "print('Prediction data prepared...')"
   ]
  },
  {
   "cell_type": "code",
   "execution_count": 48,
   "id": "7f353e21",
   "metadata": {
    "execution": {
     "iopub.execute_input": "2021-10-22T07:52:02.149709Z",
     "iopub.status.busy": "2021-10-22T07:52:02.149079Z",
     "iopub.status.idle": "2021-10-22T07:52:02.153212Z",
     "shell.execute_reply": "2021-10-22T07:52:02.152709Z",
     "shell.execute_reply.started": "2021-10-22T06:10:55.170677Z"
    },
    "papermill": {
     "duration": 0.252059,
     "end_time": "2021-10-22T07:52:02.153330",
     "exception": false,
     "start_time": "2021-10-22T07:52:01.901271",
     "status": "completed"
    },
    "tags": []
   },
   "outputs": [],
   "source": [
    "test_id = test_id.tolist()"
   ]
  },
  {
   "cell_type": "code",
   "execution_count": 49,
   "id": "f86f18ea",
   "metadata": {
    "execution": {
     "iopub.execute_input": "2021-10-22T07:52:02.357415Z",
     "iopub.status.busy": "2021-10-22T07:52:02.325276Z",
     "iopub.status.idle": "2021-10-22T07:52:05.930656Z",
     "shell.execute_reply": "2021-10-22T07:52:05.931082Z",
     "shell.execute_reply.started": "2021-10-22T06:12:43.718997Z"
    },
    "papermill": {
     "duration": 3.692863,
     "end_time": "2021-10-22T07:52:05.931237",
     "exception": false,
     "start_time": "2021-10-22T07:52:02.238374",
     "status": "completed"
    },
    "tags": []
   },
   "outputs": [
    {
     "data": {
      "text/html": [
       "<div>\n",
       "<style scoped>\n",
       "    .dataframe tbody tr th:only-of-type {\n",
       "        vertical-align: middle;\n",
       "    }\n",
       "\n",
       "    .dataframe tbody tr th {\n",
       "        vertical-align: top;\n",
       "    }\n",
       "\n",
       "    .dataframe thead th {\n",
       "        text-align: right;\n",
       "    }\n",
       "</style>\n",
       "<table border=\"1\" class=\"dataframe\">\n",
       "  <thead>\n",
       "    <tr style=\"text-align: right;\">\n",
       "      <th></th>\n",
       "      <th>id</th>\n",
       "      <th>pressure</th>\n",
       "    </tr>\n",
       "  </thead>\n",
       "  <tbody>\n",
       "    <tr>\n",
       "      <th>0</th>\n",
       "      <td>1</td>\n",
       "      <td>[11.597485542297363]</td>\n",
       "    </tr>\n",
       "    <tr>\n",
       "      <th>1</th>\n",
       "      <td>2</td>\n",
       "      <td>[11.63545036315918]</td>\n",
       "    </tr>\n",
       "    <tr>\n",
       "      <th>2</th>\n",
       "      <td>3</td>\n",
       "      <td>[11.63787841796875]</td>\n",
       "    </tr>\n",
       "    <tr>\n",
       "      <th>3</th>\n",
       "      <td>4</td>\n",
       "      <td>[11.638035774230957]</td>\n",
       "    </tr>\n",
       "    <tr>\n",
       "      <th>4</th>\n",
       "      <td>5</td>\n",
       "      <td>[11.60467529296875]</td>\n",
       "    </tr>\n",
       "  </tbody>\n",
       "</table>\n",
       "</div>"
      ],
      "text/plain": [
       "   id              pressure\n",
       "0   1  [11.597485542297363]\n",
       "1   2   [11.63545036315918]\n",
       "2   3   [11.63787841796875]\n",
       "3   4  [11.638035774230957]\n",
       "4   5   [11.60467529296875]"
      ]
     },
     "execution_count": 49,
     "metadata": {},
     "output_type": "execute_result"
    }
   ],
   "source": [
    "prediction_dataframe = pd.DataFrame({'id': test_id,'pressure':pred})\n",
    "prediction_dataframe.head()"
   ]
  },
  {
   "cell_type": "code",
   "execution_count": 50,
   "id": "018147d9",
   "metadata": {
    "execution": {
     "iopub.execute_input": "2021-10-22T07:52:06.141873Z",
     "iopub.status.busy": "2021-10-22T07:52:06.140934Z",
     "iopub.status.idle": "2021-10-22T07:52:07.373026Z",
     "shell.execute_reply": "2021-10-22T07:52:07.372532Z",
     "shell.execute_reply.started": "2021-10-22T06:15:58.882941Z"
    },
    "papermill": {
     "duration": 1.35625,
     "end_time": "2021-10-22T07:52:07.373155",
     "exception": false,
     "start_time": "2021-10-22T07:52:06.016905",
     "status": "completed"
    },
    "tags": []
   },
   "outputs": [],
   "source": [
    "prediction_dataframe['pressure'] = prediction_dataframe['pressure'].apply(lambda x: x[0])"
   ]
  },
  {
   "cell_type": "code",
   "execution_count": 51,
   "id": "b9575dfb",
   "metadata": {
    "execution": {
     "iopub.execute_input": "2021-10-22T07:52:07.549593Z",
     "iopub.status.busy": "2021-10-22T07:52:07.547088Z",
     "iopub.status.idle": "2021-10-22T07:52:07.553215Z",
     "shell.execute_reply": "2021-10-22T07:52:07.553673Z",
     "shell.execute_reply.started": "2021-10-22T06:16:12.562176Z"
    },
    "papermill": {
     "duration": 0.095929,
     "end_time": "2021-10-22T07:52:07.553805",
     "exception": false,
     "start_time": "2021-10-22T07:52:07.457876",
     "status": "completed"
    },
    "tags": []
   },
   "outputs": [
    {
     "data": {
      "text/html": [
       "<div>\n",
       "<style scoped>\n",
       "    .dataframe tbody tr th:only-of-type {\n",
       "        vertical-align: middle;\n",
       "    }\n",
       "\n",
       "    .dataframe tbody tr th {\n",
       "        vertical-align: top;\n",
       "    }\n",
       "\n",
       "    .dataframe thead th {\n",
       "        text-align: right;\n",
       "    }\n",
       "</style>\n",
       "<table border=\"1\" class=\"dataframe\">\n",
       "  <thead>\n",
       "    <tr style=\"text-align: right;\">\n",
       "      <th></th>\n",
       "      <th>id</th>\n",
       "      <th>pressure</th>\n",
       "    </tr>\n",
       "  </thead>\n",
       "  <tbody>\n",
       "    <tr>\n",
       "      <th>0</th>\n",
       "      <td>1</td>\n",
       "      <td>11.597486</td>\n",
       "    </tr>\n",
       "    <tr>\n",
       "      <th>1</th>\n",
       "      <td>2</td>\n",
       "      <td>11.635450</td>\n",
       "    </tr>\n",
       "    <tr>\n",
       "      <th>2</th>\n",
       "      <td>3</td>\n",
       "      <td>11.637878</td>\n",
       "    </tr>\n",
       "    <tr>\n",
       "      <th>3</th>\n",
       "      <td>4</td>\n",
       "      <td>11.638036</td>\n",
       "    </tr>\n",
       "    <tr>\n",
       "      <th>4</th>\n",
       "      <td>5</td>\n",
       "      <td>11.604675</td>\n",
       "    </tr>\n",
       "  </tbody>\n",
       "</table>\n",
       "</div>"
      ],
      "text/plain": [
       "   id   pressure\n",
       "0   1  11.597486\n",
       "1   2  11.635450\n",
       "2   3  11.637878\n",
       "3   4  11.638036\n",
       "4   5  11.604675"
      ]
     },
     "execution_count": 51,
     "metadata": {},
     "output_type": "execute_result"
    }
   ],
   "source": [
    "prediction_dataframe.head()"
   ]
  },
  {
   "cell_type": "code",
   "execution_count": 52,
   "id": "21ce99f5",
   "metadata": {
    "execution": {
     "iopub.execute_input": "2021-10-22T07:52:07.727926Z",
     "iopub.status.busy": "2021-10-22T07:52:07.727101Z",
     "iopub.status.idle": "2021-10-22T07:52:20.572731Z",
     "shell.execute_reply": "2021-10-22T07:52:20.572205Z",
     "shell.execute_reply.started": "2021-10-22T06:16:37.226565Z"
    },
    "papermill": {
     "duration": 12.93377,
     "end_time": "2021-10-22T07:52:20.572877",
     "exception": false,
     "start_time": "2021-10-22T07:52:07.639107",
     "status": "completed"
    },
    "tags": []
   },
   "outputs": [],
   "source": [
    "prediction_dataframe.to_csv('submission.csv', index = False)"
   ]
  }
 ],
 "metadata": {
  "kernelspec": {
   "display_name": "Python 3",
   "language": "python",
   "name": "python3"
  },
  "language_info": {
   "codemirror_mode": {
    "name": "ipython",
    "version": 3
   },
   "file_extension": ".py",
   "mimetype": "text/x-python",
   "name": "python",
   "nbconvert_exporter": "python",
   "pygments_lexer": "ipython3",
   "version": "3.7.10"
  },
  "papermill": {
   "default_parameters": {},
   "duration": 5153.59515,
   "end_time": "2021-10-22T07:52:22.579329",
   "environment_variables": {},
   "exception": null,
   "input_path": "__notebook__.ipynb",
   "output_path": "__notebook__.ipynb",
   "parameters": {},
   "start_time": "2021-10-22T06:26:28.984179",
   "version": "2.3.3"
  }
 },
 "nbformat": 4,
 "nbformat_minor": 5
}
