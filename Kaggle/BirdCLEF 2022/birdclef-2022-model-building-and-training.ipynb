{
 "cells": [
  {
   "cell_type": "markdown",
   "id": "6b8452ba",
   "metadata": {
    "execution": {
     "iopub.execute_input": "2022-03-01T15:48:03.948839Z",
     "iopub.status.busy": "2022-03-01T15:48:03.948509Z",
     "iopub.status.idle": "2022-03-01T15:48:04.222983Z",
     "shell.execute_reply": "2022-03-01T15:48:04.222071Z",
     "shell.execute_reply.started": "2022-03-01T15:48:03.948792Z"
    },
    "papermill": {
     "duration": 0.057752,
     "end_time": "2022-03-01T17:23:35.950411",
     "exception": false,
     "start_time": "2022-03-01T17:23:35.892659",
     "status": "completed"
    },
    "tags": []
   },
   "source": [
    "![](https://wallup.net/wp-content/uploads/2016/01/19116-Eastern_Imperial_Eagle-nature-animals-birds-eagle.jpg)\n",
    "\n",
    "# BirdCLEF 2022 : Model Building and Training\n",
    "---\n",
    "\n",
    "In this notebook we will make the Neural Network model and train it on the data itself.\n",
    "\n",
    "**This is the second of the 3 notebooks which improvises from the findings of the first notebook and prepare the appropriate model and dataset and train the model on it.**"
   ]
  },
  {
   "cell_type": "markdown",
   "id": "6a43b9c1",
   "metadata": {
    "papermill": {
     "duration": 0.045722,
     "end_time": "2022-03-01T17:23:36.064532",
     "exception": false,
     "start_time": "2022-03-01T17:23:36.018810",
     "status": "completed"
    },
    "tags": []
   },
   "source": [
    "# Installations"
   ]
  },
  {
   "cell_type": "code",
   "execution_count": 1,
   "id": "279f14fd",
   "metadata": {
    "execution": {
     "iopub.execute_input": "2022-03-01T17:23:36.163257Z",
     "iopub.status.busy": "2022-03-01T17:23:36.162475Z",
     "iopub.status.idle": "2022-03-01T17:23:45.063215Z",
     "shell.execute_reply": "2022-03-01T17:23:45.062227Z",
     "shell.execute_reply.started": "2022-03-01T17:03:52.185841Z"
    },
    "papermill": {
     "duration": 8.954697,
     "end_time": "2022-03-01T17:23:45.063388",
     "exception": false,
     "start_time": "2022-03-01T17:23:36.108691",
     "status": "completed"
    },
    "tags": []
   },
   "outputs": [
    {
     "name": "stdout",
     "output_type": "stream",
     "text": [
      "Collecting torchsummary\r\n",
      "  Downloading torchsummary-1.5.1-py3-none-any.whl (2.8 kB)\r\n",
      "Installing collected packages: torchsummary\r\n",
      "Successfully installed torchsummary-1.5.1\r\n",
      "\u001b[33mWARNING: Running pip as the 'root' user can result in broken permissions and conflicting behaviour with the system package manager. It is recommended to use a virtual environment instead: https://pip.pypa.io/warnings/venv\u001b[0m\r\n"
     ]
    }
   ],
   "source": [
    "!pip install torchsummary"
   ]
  },
  {
   "cell_type": "markdown",
   "id": "95ca98df",
   "metadata": {
    "papermill": {
     "duration": 0.046601,
     "end_time": "2022-03-01T17:23:45.156275",
     "exception": false,
     "start_time": "2022-03-01T17:23:45.109674",
     "status": "completed"
    },
    "tags": []
   },
   "source": [
    "# Libraries"
   ]
  },
  {
   "cell_type": "code",
   "execution_count": 2,
   "id": "798ac99a",
   "metadata": {
    "execution": {
     "iopub.execute_input": "2022-03-01T17:23:45.258670Z",
     "iopub.status.busy": "2022-03-01T17:23:45.257922Z",
     "iopub.status.idle": "2022-03-01T17:23:47.051528Z",
     "shell.execute_reply": "2022-03-01T17:23:47.051047Z",
     "shell.execute_reply.started": "2022-03-01T17:03:59.749673Z"
    },
    "papermill": {
     "duration": 1.848127,
     "end_time": "2022-03-01T17:23:47.051664",
     "exception": false,
     "start_time": "2022-03-01T17:23:45.203537",
     "status": "completed"
    },
    "tags": []
   },
   "outputs": [],
   "source": [
    "# General purpose libraries for loading and manipulating data\n",
    "import os\n",
    "import re\n",
    "import json\n",
    "import time\n",
    "import numpy as np\n",
    "import pandas as pd\n",
    "from glob import glob\n",
    "\n",
    "\n",
    "# Pytorch imports for neural networks and tensor manipulations\n",
    "import torch\n",
    "import torchaudio\n",
    "import torch.nn as nn\n",
    "from torch.optim import Adam\n",
    "from torch.nn import CrossEntropyLoss\n",
    "from torchvision.transforms import Resize\n",
    "from torchaudio.transforms import MelSpectrogram\n",
    "from torch.utils.data import Dataset, DataLoader, random_split\n",
    "\n",
    "\n",
    "# Libraries for visualization\n",
    "import torchsummary\n",
    "from termcolor import cprint\n",
    "import matplotlib.pyplot as plt\n",
    "\n",
    "\n",
    "# Libraries to hide warnings\n",
    "import warnings\n",
    "warnings.filterwarnings(\"ignore\")\n",
    "\n",
    "\n",
    "# ipywidgets\n",
    "%matplotlib inline"
   ]
  },
  {
   "cell_type": "markdown",
   "id": "61d27d54",
   "metadata": {
    "papermill": {
     "duration": 0.044893,
     "end_time": "2022-03-01T17:23:47.141628",
     "exception": false,
     "start_time": "2022-03-01T17:23:47.096735",
     "status": "completed"
    },
    "tags": []
   },
   "source": [
    "# Datapaths"
   ]
  },
  {
   "cell_type": "code",
   "execution_count": 3,
   "id": "46676315",
   "metadata": {
    "execution": {
     "iopub.execute_input": "2022-03-01T17:23:47.237156Z",
     "iopub.status.busy": "2022-03-01T17:23:47.236450Z",
     "iopub.status.idle": "2022-03-01T17:23:47.239035Z",
     "shell.execute_reply": "2022-03-01T17:23:47.238594Z",
     "shell.execute_reply.started": "2022-03-01T17:03:59.763930Z"
    },
    "papermill": {
     "duration": 0.052542,
     "end_time": "2022-03-01T17:23:47.239141",
     "exception": false,
     "start_time": "2022-03-01T17:23:47.186599",
     "status": "completed"
    },
    "tags": []
   },
   "outputs": [],
   "source": [
    "train_base_path = \"../input/birdclef-2022/train_metadata.csv\"\n",
    "test_base_path = \"../input/birdclef-2022/test.csv\"\n",
    "sample_submission_base_path = \"../input/birdclef-2022/sample_submission.csv\"\n",
    "bird_taxonomy_base_path = \"../input/birdclef-2022/eBird_Taxonomy_v2021.csv\"\n",
    "labels_base_path = \"../input/birdclef-2022/scored_birds.json\"\n",
    "train_dir = \"../input/birdclef-2022/train_audio\"\n",
    "test_dir = \"../input/birdclef-2022/test_soundscapes\""
   ]
  },
  {
   "cell_type": "markdown",
   "id": "393e8b1c",
   "metadata": {
    "papermill": {
     "duration": 0.044678,
     "end_time": "2022-03-01T17:23:47.328671",
     "exception": false,
     "start_time": "2022-03-01T17:23:47.283993",
     "status": "completed"
    },
    "tags": []
   },
   "source": [
    "### Loading train metadata"
   ]
  },
  {
   "cell_type": "code",
   "execution_count": 4,
   "id": "d92f4336",
   "metadata": {
    "execution": {
     "iopub.execute_input": "2022-03-01T17:23:47.421788Z",
     "iopub.status.busy": "2022-03-01T17:23:47.421283Z",
     "iopub.status.idle": "2022-03-01T17:23:47.547639Z",
     "shell.execute_reply": "2022-03-01T17:23:47.548073Z",
     "shell.execute_reply.started": "2022-03-01T17:03:59.775309Z"
    },
    "papermill": {
     "duration": 0.175134,
     "end_time": "2022-03-01T17:23:47.548228",
     "exception": false,
     "start_time": "2022-03-01T17:23:47.373094",
     "status": "completed"
    },
    "tags": []
   },
   "outputs": [
    {
     "data": {
      "text/html": [
       "<div>\n",
       "<style scoped>\n",
       "    .dataframe tbody tr th:only-of-type {\n",
       "        vertical-align: middle;\n",
       "    }\n",
       "\n",
       "    .dataframe tbody tr th {\n",
       "        vertical-align: top;\n",
       "    }\n",
       "\n",
       "    .dataframe thead th {\n",
       "        text-align: right;\n",
       "    }\n",
       "</style>\n",
       "<table border=\"1\" class=\"dataframe\">\n",
       "  <thead>\n",
       "    <tr style=\"text-align: right;\">\n",
       "      <th></th>\n",
       "      <th>primary_label</th>\n",
       "      <th>secondary_labels</th>\n",
       "      <th>type</th>\n",
       "      <th>latitude</th>\n",
       "      <th>longitude</th>\n",
       "      <th>scientific_name</th>\n",
       "      <th>common_name</th>\n",
       "      <th>author</th>\n",
       "      <th>license</th>\n",
       "      <th>rating</th>\n",
       "      <th>time</th>\n",
       "      <th>url</th>\n",
       "      <th>filename</th>\n",
       "    </tr>\n",
       "  </thead>\n",
       "  <tbody>\n",
       "    <tr>\n",
       "      <th>0</th>\n",
       "      <td>afrsil1</td>\n",
       "      <td>[]</td>\n",
       "      <td>['call', 'flight call']</td>\n",
       "      <td>12.3910</td>\n",
       "      <td>-1.4930</td>\n",
       "      <td>Euodice cantans</td>\n",
       "      <td>African Silverbill</td>\n",
       "      <td>Bram Piot</td>\n",
       "      <td>Creative Commons Attribution-NonCommercial-Sha...</td>\n",
       "      <td>2.5</td>\n",
       "      <td>08:00</td>\n",
       "      <td>https://www.xeno-canto.org/125458</td>\n",
       "      <td>afrsil1/XC125458.ogg</td>\n",
       "    </tr>\n",
       "    <tr>\n",
       "      <th>1</th>\n",
       "      <td>afrsil1</td>\n",
       "      <td>['houspa', 'redava', 'zebdov']</td>\n",
       "      <td>['call']</td>\n",
       "      <td>19.8801</td>\n",
       "      <td>-155.7254</td>\n",
       "      <td>Euodice cantans</td>\n",
       "      <td>African Silverbill</td>\n",
       "      <td>Dan Lane</td>\n",
       "      <td>Creative Commons Attribution-NonCommercial-Sha...</td>\n",
       "      <td>3.5</td>\n",
       "      <td>08:30</td>\n",
       "      <td>https://www.xeno-canto.org/175522</td>\n",
       "      <td>afrsil1/XC175522.ogg</td>\n",
       "    </tr>\n",
       "    <tr>\n",
       "      <th>2</th>\n",
       "      <td>afrsil1</td>\n",
       "      <td>[]</td>\n",
       "      <td>['call', 'song']</td>\n",
       "      <td>16.2901</td>\n",
       "      <td>-16.0321</td>\n",
       "      <td>Euodice cantans</td>\n",
       "      <td>African Silverbill</td>\n",
       "      <td>Bram Piot</td>\n",
       "      <td>Creative Commons Attribution-NonCommercial-Sha...</td>\n",
       "      <td>4.0</td>\n",
       "      <td>11:30</td>\n",
       "      <td>https://www.xeno-canto.org/177993</td>\n",
       "      <td>afrsil1/XC177993.ogg</td>\n",
       "    </tr>\n",
       "    <tr>\n",
       "      <th>3</th>\n",
       "      <td>afrsil1</td>\n",
       "      <td>[]</td>\n",
       "      <td>['alarm call', 'call']</td>\n",
       "      <td>17.0922</td>\n",
       "      <td>54.2958</td>\n",
       "      <td>Euodice cantans</td>\n",
       "      <td>African Silverbill</td>\n",
       "      <td>Oscar Campbell</td>\n",
       "      <td>Creative Commons Attribution-NonCommercial-Sha...</td>\n",
       "      <td>4.0</td>\n",
       "      <td>11:00</td>\n",
       "      <td>https://www.xeno-canto.org/205893</td>\n",
       "      <td>afrsil1/XC205893.ogg</td>\n",
       "    </tr>\n",
       "    <tr>\n",
       "      <th>4</th>\n",
       "      <td>afrsil1</td>\n",
       "      <td>[]</td>\n",
       "      <td>['flight call']</td>\n",
       "      <td>21.4581</td>\n",
       "      <td>-157.7252</td>\n",
       "      <td>Euodice cantans</td>\n",
       "      <td>African Silverbill</td>\n",
       "      <td>Ross Gallardy</td>\n",
       "      <td>Creative Commons Attribution-NonCommercial-Sha...</td>\n",
       "      <td>3.0</td>\n",
       "      <td>16:30</td>\n",
       "      <td>https://www.xeno-canto.org/207431</td>\n",
       "      <td>afrsil1/XC207431.ogg</td>\n",
       "    </tr>\n",
       "  </tbody>\n",
       "</table>\n",
       "</div>"
      ],
      "text/plain": [
       "  primary_label                secondary_labels                     type  \\\n",
       "0       afrsil1                              []  ['call', 'flight call']   \n",
       "1       afrsil1  ['houspa', 'redava', 'zebdov']                 ['call']   \n",
       "2       afrsil1                              []         ['call', 'song']   \n",
       "3       afrsil1                              []   ['alarm call', 'call']   \n",
       "4       afrsil1                              []          ['flight call']   \n",
       "\n",
       "   latitude  longitude  scientific_name         common_name          author  \\\n",
       "0   12.3910    -1.4930  Euodice cantans  African Silverbill       Bram Piot   \n",
       "1   19.8801  -155.7254  Euodice cantans  African Silverbill        Dan Lane   \n",
       "2   16.2901   -16.0321  Euodice cantans  African Silverbill       Bram Piot   \n",
       "3   17.0922    54.2958  Euodice cantans  African Silverbill  Oscar Campbell   \n",
       "4   21.4581  -157.7252  Euodice cantans  African Silverbill   Ross Gallardy   \n",
       "\n",
       "                                             license  rating   time  \\\n",
       "0  Creative Commons Attribution-NonCommercial-Sha...     2.5  08:00   \n",
       "1  Creative Commons Attribution-NonCommercial-Sha...     3.5  08:30   \n",
       "2  Creative Commons Attribution-NonCommercial-Sha...     4.0  11:30   \n",
       "3  Creative Commons Attribution-NonCommercial-Sha...     4.0  11:00   \n",
       "4  Creative Commons Attribution-NonCommercial-Sha...     3.0  16:30   \n",
       "\n",
       "                                 url              filename  \n",
       "0  https://www.xeno-canto.org/125458  afrsil1/XC125458.ogg  \n",
       "1  https://www.xeno-canto.org/175522  afrsil1/XC175522.ogg  \n",
       "2  https://www.xeno-canto.org/177993  afrsil1/XC177993.ogg  \n",
       "3  https://www.xeno-canto.org/205893  afrsil1/XC205893.ogg  \n",
       "4  https://www.xeno-canto.org/207431  afrsil1/XC207431.ogg  "
      ]
     },
     "execution_count": 4,
     "metadata": {},
     "output_type": "execute_result"
    }
   ],
   "source": [
    "train_df = pd.read_csv(train_base_path)\n",
    "train_df.head()"
   ]
  },
  {
   "cell_type": "markdown",
   "id": "ffb01a40",
   "metadata": {
    "papermill": {
     "duration": 0.046802,
     "end_time": "2022-03-01T17:23:47.641024",
     "exception": false,
     "start_time": "2022-03-01T17:23:47.594222",
     "status": "completed"
    },
    "tags": []
   },
   "source": [
    "# Processing\n",
    "Now we have to process training data so that it would be helpful for us."
   ]
  },
  {
   "cell_type": "code",
   "execution_count": 5,
   "id": "c13d0cef",
   "metadata": {
    "execution": {
     "iopub.execute_input": "2022-03-01T17:23:47.749847Z",
     "iopub.status.busy": "2022-03-01T17:23:47.749293Z",
     "iopub.status.idle": "2022-03-01T17:23:47.754021Z",
     "shell.execute_reply": "2022-03-01T17:23:47.753555Z",
     "shell.execute_reply.started": "2022-03-01T17:03:59.857218Z"
    },
    "papermill": {
     "duration": 0.065871,
     "end_time": "2022-03-01T17:23:47.754135",
     "exception": false,
     "start_time": "2022-03-01T17:23:47.688264",
     "status": "completed"
    },
    "tags": []
   },
   "outputs": [
    {
     "data": {
      "text/html": [
       "<div>\n",
       "<style scoped>\n",
       "    .dataframe tbody tr th:only-of-type {\n",
       "        vertical-align: middle;\n",
       "    }\n",
       "\n",
       "    .dataframe tbody tr th {\n",
       "        vertical-align: top;\n",
       "    }\n",
       "\n",
       "    .dataframe thead th {\n",
       "        text-align: right;\n",
       "    }\n",
       "</style>\n",
       "<table border=\"1\" class=\"dataframe\">\n",
       "  <thead>\n",
       "    <tr style=\"text-align: right;\">\n",
       "      <th></th>\n",
       "      <th>primary_label</th>\n",
       "      <th>type</th>\n",
       "      <th>rating</th>\n",
       "      <th>filename</th>\n",
       "    </tr>\n",
       "  </thead>\n",
       "  <tbody>\n",
       "    <tr>\n",
       "      <th>0</th>\n",
       "      <td>afrsil1</td>\n",
       "      <td>['call', 'flight call']</td>\n",
       "      <td>2.5</td>\n",
       "      <td>afrsil1/XC125458.ogg</td>\n",
       "    </tr>\n",
       "    <tr>\n",
       "      <th>1</th>\n",
       "      <td>afrsil1</td>\n",
       "      <td>['call']</td>\n",
       "      <td>3.5</td>\n",
       "      <td>afrsil1/XC175522.ogg</td>\n",
       "    </tr>\n",
       "    <tr>\n",
       "      <th>2</th>\n",
       "      <td>afrsil1</td>\n",
       "      <td>['call', 'song']</td>\n",
       "      <td>4.0</td>\n",
       "      <td>afrsil1/XC177993.ogg</td>\n",
       "    </tr>\n",
       "    <tr>\n",
       "      <th>3</th>\n",
       "      <td>afrsil1</td>\n",
       "      <td>['alarm call', 'call']</td>\n",
       "      <td>4.0</td>\n",
       "      <td>afrsil1/XC205893.ogg</td>\n",
       "    </tr>\n",
       "    <tr>\n",
       "      <th>4</th>\n",
       "      <td>afrsil1</td>\n",
       "      <td>['flight call']</td>\n",
       "      <td>3.0</td>\n",
       "      <td>afrsil1/XC207431.ogg</td>\n",
       "    </tr>\n",
       "  </tbody>\n",
       "</table>\n",
       "</div>"
      ],
      "text/plain": [
       "  primary_label                     type  rating              filename\n",
       "0       afrsil1  ['call', 'flight call']     2.5  afrsil1/XC125458.ogg\n",
       "1       afrsil1                 ['call']     3.5  afrsil1/XC175522.ogg\n",
       "2       afrsil1         ['call', 'song']     4.0  afrsil1/XC177993.ogg\n",
       "3       afrsil1   ['alarm call', 'call']     4.0  afrsil1/XC205893.ogg\n",
       "4       afrsil1          ['flight call']     3.0  afrsil1/XC207431.ogg"
      ]
     },
     "execution_count": 5,
     "metadata": {},
     "output_type": "execute_result"
    }
   ],
   "source": [
    "imp_features = [\"primary_label\", \"type\", \"rating\", \"filename\"]\n",
    "train_df = train_df[imp_features]\n",
    "train_df.head()"
   ]
  },
  {
   "cell_type": "markdown",
   "id": "13de2f15",
   "metadata": {
    "papermill": {
     "duration": 0.046162,
     "end_time": "2022-03-01T17:23:47.847065",
     "exception": false,
     "start_time": "2022-03-01T17:23:47.800903",
     "status": "completed"
    },
    "tags": []
   },
   "source": [
    "In this scenario we are only taking the calls which only resemble a proper call not some specific or unique call , cause those will destroy the patterns."
   ]
  },
  {
   "cell_type": "code",
   "execution_count": 6,
   "id": "e0e137de",
   "metadata": {
    "execution": {
     "iopub.execute_input": "2022-03-01T17:23:47.946035Z",
     "iopub.status.busy": "2022-03-01T17:23:47.945185Z",
     "iopub.status.idle": "2022-03-01T17:23:47.947596Z",
     "shell.execute_reply": "2022-03-01T17:23:47.947201Z",
     "shell.execute_reply.started": "2022-03-01T17:03:59.872289Z"
    },
    "papermill": {
     "duration": 0.053824,
     "end_time": "2022-03-01T17:23:47.947702",
     "exception": false,
     "start_time": "2022-03-01T17:23:47.893878",
     "status": "completed"
    },
    "tags": []
   },
   "outputs": [],
   "source": [
    "def extract_call(data, call = 'call'):\n",
    "    try:\n",
    "        if re.search(data, call):\n",
    "            return \"True\"\n",
    "        else:\n",
    "            return \"False\"\n",
    "    except:\n",
    "        return \"False\""
   ]
  },
  {
   "cell_type": "code",
   "execution_count": 7,
   "id": "ab238db7",
   "metadata": {
    "execution": {
     "iopub.execute_input": "2022-03-01T17:23:48.062703Z",
     "iopub.status.busy": "2022-03-01T17:23:48.057545Z",
     "iopub.status.idle": "2022-03-01T17:23:48.223159Z",
     "shell.execute_reply": "2022-03-01T17:23:48.223753Z",
     "shell.execute_reply.started": "2022-03-01T17:03:59.879143Z"
    },
    "papermill": {
     "duration": 0.229309,
     "end_time": "2022-03-01T17:23:48.223925",
     "exception": false,
     "start_time": "2022-03-01T17:23:47.994616",
     "status": "completed"
    },
    "tags": []
   },
   "outputs": [
    {
     "name": "stdout",
     "output_type": "stream",
     "text": [
      "Length of data before call extraction : 14852\n",
      "Length of data after call extraction : 12773\n"
     ]
    },
    {
     "data": {
      "text/html": [
       "<div>\n",
       "<style scoped>\n",
       "    .dataframe tbody tr th:only-of-type {\n",
       "        vertical-align: middle;\n",
       "    }\n",
       "\n",
       "    .dataframe tbody tr th {\n",
       "        vertical-align: top;\n",
       "    }\n",
       "\n",
       "    .dataframe thead th {\n",
       "        text-align: right;\n",
       "    }\n",
       "</style>\n",
       "<table border=\"1\" class=\"dataframe\">\n",
       "  <thead>\n",
       "    <tr style=\"text-align: right;\">\n",
       "      <th></th>\n",
       "      <th>primary_label</th>\n",
       "      <th>rating</th>\n",
       "      <th>filename</th>\n",
       "    </tr>\n",
       "  </thead>\n",
       "  <tbody>\n",
       "    <tr>\n",
       "      <th>0</th>\n",
       "      <td>afrsil1</td>\n",
       "      <td>2.5</td>\n",
       "      <td>afrsil1/XC125458.ogg</td>\n",
       "    </tr>\n",
       "    <tr>\n",
       "      <th>1</th>\n",
       "      <td>afrsil1</td>\n",
       "      <td>3.5</td>\n",
       "      <td>afrsil1/XC175522.ogg</td>\n",
       "    </tr>\n",
       "    <tr>\n",
       "      <th>2</th>\n",
       "      <td>afrsil1</td>\n",
       "      <td>4.0</td>\n",
       "      <td>afrsil1/XC177993.ogg</td>\n",
       "    </tr>\n",
       "    <tr>\n",
       "      <th>3</th>\n",
       "      <td>afrsil1</td>\n",
       "      <td>4.0</td>\n",
       "      <td>afrsil1/XC205893.ogg</td>\n",
       "    </tr>\n",
       "    <tr>\n",
       "      <th>4</th>\n",
       "      <td>afrsil1</td>\n",
       "      <td>3.0</td>\n",
       "      <td>afrsil1/XC207431.ogg</td>\n",
       "    </tr>\n",
       "  </tbody>\n",
       "</table>\n",
       "</div>"
      ],
      "text/plain": [
       "  primary_label  rating              filename\n",
       "0       afrsil1     2.5  afrsil1/XC125458.ogg\n",
       "1       afrsil1     3.5  afrsil1/XC175522.ogg\n",
       "2       afrsil1     4.0  afrsil1/XC177993.ogg\n",
       "3       afrsil1     4.0  afrsil1/XC205893.ogg\n",
       "4       afrsil1     3.0  afrsil1/XC207431.ogg"
      ]
     },
     "execution_count": 7,
     "metadata": {},
     "output_type": "execute_result"
    }
   ],
   "source": [
    "print(\"Length of data before call extraction : {}\".format(len(train_df)))\n",
    "train_df[\"type\"] = train_df[\"type\"].apply(extract_call)\n",
    "train_df = train_df[train_df[\"type\"] == \"True\"]\n",
    "train_df.drop(\"type\", 1, inplace = True)\n",
    "print(\"Length of data after call extraction : {}\".format(len(train_df)))\n",
    "train_df.head()"
   ]
  },
  {
   "cell_type": "markdown",
   "id": "4d9c4918",
   "metadata": {
    "papermill": {
     "duration": 0.046584,
     "end_time": "2022-03-01T17:23:48.317667",
     "exception": false,
     "start_time": "2022-03-01T17:23:48.271083",
     "status": "completed"
    },
    "tags": []
   },
   "source": [
    "Creating a class encoding dictionary which will help us find the correct class names in future."
   ]
  },
  {
   "cell_type": "code",
   "execution_count": 8,
   "id": "4f29c8cf",
   "metadata": {
    "execution": {
     "iopub.execute_input": "2022-03-01T17:23:48.417309Z",
     "iopub.status.busy": "2022-03-01T17:23:48.416547Z",
     "iopub.status.idle": "2022-03-01T17:23:49.080030Z",
     "shell.execute_reply": "2022-03-01T17:23:49.080736Z",
     "shell.execute_reply.started": "2022-03-01T17:04:00.064672Z"
    },
    "papermill": {
     "duration": 0.716813,
     "end_time": "2022-03-01T17:23:49.081009",
     "exception": false,
     "start_time": "2022-03-01T17:23:48.364196",
     "status": "completed"
    },
    "tags": []
   },
   "outputs": [
    {
     "name": "stdout",
     "output_type": "stream",
     "text": [
      "{0: 'afrsil1', 1: 'akekee', 2: 'akepa1', 3: 'akiapo', 4: 'akikik', 5: 'amewig', 6: 'aniani', 7: 'apapan', 8: 'arcter', 9: 'barpet', 10: 'bcnher', 11: 'belkin1', 12: 'bkbplo', 13: 'bknsti', 14: 'bkwpet', 15: 'blkfra', 16: 'blknod', 17: 'bongul', 18: 'brant', 19: 'brnboo', 20: 'brnnod', 21: 'brnowl', 22: 'brtcur', 23: 'bubsan', 24: 'buffle', 25: 'bulpet', 26: 'burpar', 27: 'buwtea', 28: 'cacgoo1', 29: 'calqua', 30: 'cangoo', 31: 'canvas', 32: 'caster1', 33: 'categr', 34: 'chbsan', 35: 'chemun', 36: 'chukar', 37: 'cintea', 38: 'comgal1', 39: 'commyn', 40: 'compea', 41: 'comsan', 42: 'comwax', 43: 'coopet', 44: 'crehon', 45: 'dunlin', 46: 'elepai', 47: 'ercfra', 48: 'eurwig', 49: 'fragul', 50: 'gadwal', 51: 'gamqua', 52: 'glwgul', 53: 'gnwtea', 54: 'golphe', 55: 'grbher3', 56: 'grefri', 57: 'gresca', 58: 'gryfra', 59: 'gwfgoo', 60: 'hawama', 61: 'hawcoo', 62: 'hawcre', 63: 'hawgoo', 64: 'hawhaw', 65: 'hawpet1', 66: 'hoomer', 67: 'houfin', 68: 'houspa', 69: 'hudgod', 70: 'iiwi', 71: 'incter1', 72: 'jabwar', 73: 'japqua', 74: 'kalphe', 75: 'kauama', 76: 'laugul', 77: 'layalb', 78: 'lcspet', 79: 'leasan', 80: 'leater1', 81: 'lessca', 82: 'lesyel', 83: 'lobdow', 84: 'lotjae', 85: 'madpet', 86: 'magpet1', 87: 'mallar3', 88: 'masboo', 89: 'mauala', 90: 'maupar', 91: 'merlin', 92: 'mitpar', 93: 'moudov', 94: 'norcar', 95: 'norhar2', 96: 'normoc', 97: 'norpin', 98: 'norsho', 99: 'nutman', 100: 'oahama', 101: 'omao', 102: 'osprey', 103: 'pagplo', 104: 'palila', 105: 'parjae', 106: 'pecsan', 107: 'peflov', 108: 'perfal', 109: 'pibgre', 110: 'pomjae', 111: 'puaioh', 112: 'reccar', 113: 'redava', 114: 'redjun', 115: 'redpha1', 116: 'refboo', 117: 'rempar', 118: 'rettro', 119: 'ribgul', 120: 'rinduc', 121: 'rinphe', 122: 'rocpig', 123: 'rorpar', 124: 'rudtur', 125: 'ruff', 126: 'saffin', 127: 'sander', 128: 'semplo', 129: 'sheowl', 130: 'shtsan', 131: 'skylar', 132: 'snogoo', 133: 'sooshe', 134: 'sooter1', 135: 'sopsku1', 136: 'sora', 137: 'spodov', 138: 'sposan', 139: 'towsol', 140: 'wantat1', 141: 'warwhe1', 142: 'wesmea', 143: 'wessan', 144: 'wetshe', 145: 'whfibi', 146: 'whiter', 147: 'whttro', 148: 'wiltur', 149: 'yebcar', 150: 'yefcan', 151: 'zebdov'}\n"
     ]
    }
   ],
   "source": [
    "class_dict = dict()\n",
    "\n",
    "for index, label in enumerate(train_df.primary_label.unique()):\n",
    "    class_dict[index] = label\n",
    "    train_df[\"primary_label\"].replace(label, index, inplace = True)\n",
    "print(class_dict)"
   ]
  },
  {
   "cell_type": "markdown",
   "id": "a07cfd79",
   "metadata": {
    "papermill": {
     "duration": 0.052222,
     "end_time": "2022-03-01T17:23:49.190791",
     "exception": false,
     "start_time": "2022-03-01T17:23:49.138569",
     "status": "completed"
    },
    "tags": []
   },
   "source": [
    "Saving the object in a file so that we can use it on further cases."
   ]
  },
  {
   "cell_type": "code",
   "execution_count": 9,
   "id": "16a03e0f",
   "metadata": {
    "execution": {
     "iopub.execute_input": "2022-03-01T17:23:49.301245Z",
     "iopub.status.busy": "2022-03-01T17:23:49.299666Z",
     "iopub.status.idle": "2022-03-01T17:23:49.303411Z",
     "shell.execute_reply": "2022-03-01T17:23:49.303909Z",
     "shell.execute_reply.started": "2022-03-01T17:04:00.528621Z"
    },
    "papermill": {
     "duration": 0.060935,
     "end_time": "2022-03-01T17:23:49.304040",
     "exception": false,
     "start_time": "2022-03-01T17:23:49.243105",
     "status": "completed"
    },
    "tags": []
   },
   "outputs": [],
   "source": [
    "json.dump(class_dict, open(\"class_dict.json\", \"w\"))"
   ]
  },
  {
   "cell_type": "markdown",
   "id": "ddd077c9",
   "metadata": {
    "papermill": {
     "duration": 0.052277,
     "end_time": "2022-03-01T17:23:49.408697",
     "exception": false,
     "start_time": "2022-03-01T17:23:49.356420",
     "status": "completed"
    },
    "tags": []
   },
   "source": [
    "Let's check the processed training metadata."
   ]
  },
  {
   "cell_type": "code",
   "execution_count": 10,
   "id": "739914e9",
   "metadata": {
    "execution": {
     "iopub.execute_input": "2022-03-01T17:23:49.522915Z",
     "iopub.status.busy": "2022-03-01T17:23:49.522244Z",
     "iopub.status.idle": "2022-03-01T17:23:49.525257Z",
     "shell.execute_reply": "2022-03-01T17:23:49.525737Z",
     "shell.execute_reply.started": "2022-03-01T17:04:00.536448Z"
    },
    "papermill": {
     "duration": 0.065123,
     "end_time": "2022-03-01T17:23:49.525890",
     "exception": false,
     "start_time": "2022-03-01T17:23:49.460767",
     "status": "completed"
    },
    "tags": []
   },
   "outputs": [
    {
     "data": {
      "text/html": [
       "<div>\n",
       "<style scoped>\n",
       "    .dataframe tbody tr th:only-of-type {\n",
       "        vertical-align: middle;\n",
       "    }\n",
       "\n",
       "    .dataframe tbody tr th {\n",
       "        vertical-align: top;\n",
       "    }\n",
       "\n",
       "    .dataframe thead th {\n",
       "        text-align: right;\n",
       "    }\n",
       "</style>\n",
       "<table border=\"1\" class=\"dataframe\">\n",
       "  <thead>\n",
       "    <tr style=\"text-align: right;\">\n",
       "      <th></th>\n",
       "      <th>primary_label</th>\n",
       "      <th>rating</th>\n",
       "      <th>filename</th>\n",
       "    </tr>\n",
       "  </thead>\n",
       "  <tbody>\n",
       "    <tr>\n",
       "      <th>0</th>\n",
       "      <td>0</td>\n",
       "      <td>2.5</td>\n",
       "      <td>afrsil1/XC125458.ogg</td>\n",
       "    </tr>\n",
       "    <tr>\n",
       "      <th>1</th>\n",
       "      <td>0</td>\n",
       "      <td>3.5</td>\n",
       "      <td>afrsil1/XC175522.ogg</td>\n",
       "    </tr>\n",
       "    <tr>\n",
       "      <th>2</th>\n",
       "      <td>0</td>\n",
       "      <td>4.0</td>\n",
       "      <td>afrsil1/XC177993.ogg</td>\n",
       "    </tr>\n",
       "    <tr>\n",
       "      <th>3</th>\n",
       "      <td>0</td>\n",
       "      <td>4.0</td>\n",
       "      <td>afrsil1/XC205893.ogg</td>\n",
       "    </tr>\n",
       "    <tr>\n",
       "      <th>4</th>\n",
       "      <td>0</td>\n",
       "      <td>3.0</td>\n",
       "      <td>afrsil1/XC207431.ogg</td>\n",
       "    </tr>\n",
       "  </tbody>\n",
       "</table>\n",
       "</div>"
      ],
      "text/plain": [
       "   primary_label  rating              filename\n",
       "0              0     2.5  afrsil1/XC125458.ogg\n",
       "1              0     3.5  afrsil1/XC175522.ogg\n",
       "2              0     4.0  afrsil1/XC177993.ogg\n",
       "3              0     4.0  afrsil1/XC205893.ogg\n",
       "4              0     3.0  afrsil1/XC207431.ogg"
      ]
     },
     "execution_count": 10,
     "metadata": {},
     "output_type": "execute_result"
    }
   ],
   "source": [
    "train_df.head()"
   ]
  },
  {
   "cell_type": "markdown",
   "id": "ed9c533d",
   "metadata": {
    "papermill": {
     "duration": 0.052573,
     "end_time": "2022-03-01T17:23:49.631450",
     "exception": false,
     "start_time": "2022-03-01T17:23:49.578877",
     "status": "completed"
    },
    "tags": []
   },
   "source": [
    "Similarly saving this for using in custom dataset and for future."
   ]
  },
  {
   "cell_type": "code",
   "execution_count": 11,
   "id": "859438df",
   "metadata": {
    "execution": {
     "iopub.execute_input": "2022-03-01T17:23:49.743898Z",
     "iopub.status.busy": "2022-03-01T17:23:49.743326Z",
     "iopub.status.idle": "2022-03-01T17:23:49.784659Z",
     "shell.execute_reply": "2022-03-01T17:23:49.784157Z",
     "shell.execute_reply.started": "2022-03-01T17:04:00.551207Z"
    },
    "papermill": {
     "duration": 0.099042,
     "end_time": "2022-03-01T17:23:49.784825",
     "exception": false,
     "start_time": "2022-03-01T17:23:49.685783",
     "status": "completed"
    },
    "tags": []
   },
   "outputs": [],
   "source": [
    "train_df.to_csv(\"training_metadata.csv\", index = False)"
   ]
  },
  {
   "cell_type": "markdown",
   "id": "27eb7f74",
   "metadata": {
    "papermill": {
     "duration": 0.056866,
     "end_time": "2022-03-01T17:23:49.895402",
     "exception": false,
     "start_time": "2022-03-01T17:23:49.838536",
     "status": "completed"
    },
    "tags": []
   },
   "source": [
    "# Dataset"
   ]
  },
  {
   "cell_type": "markdown",
   "id": "d02ebdb6",
   "metadata": {
    "papermill": {
     "duration": 0.054351,
     "end_time": "2022-03-01T17:23:50.003688",
     "exception": false,
     "start_time": "2022-03-01T17:23:49.949337",
     "status": "completed"
    },
    "tags": []
   },
   "source": [
    "The first task is to fix the random seed i.e. we can replicate all the next scenarios. also setting the audio backend to lod the audio data into tensors."
   ]
  },
  {
   "cell_type": "code",
   "execution_count": 12,
   "id": "552d85ca",
   "metadata": {
    "execution": {
     "iopub.execute_input": "2022-03-01T17:23:50.129810Z",
     "iopub.status.busy": "2022-03-01T17:23:50.128618Z",
     "iopub.status.idle": "2022-03-01T17:23:50.136723Z",
     "shell.execute_reply": "2022-03-01T17:23:50.136172Z",
     "shell.execute_reply.started": "2022-03-01T17:04:00.593103Z"
    },
    "papermill": {
     "duration": 0.074653,
     "end_time": "2022-03-01T17:23:50.136889",
     "exception": false,
     "start_time": "2022-03-01T17:23:50.062236",
     "status": "completed"
    },
    "tags": []
   },
   "outputs": [],
   "source": [
    "\n",
    "torch.manual_seed(42)\n",
    "torchaudio.set_audio_backend(\"soundfile\")"
   ]
  },
  {
   "cell_type": "markdown",
   "id": "83744a19",
   "metadata": {
    "papermill": {
     "duration": 0.057109,
     "end_time": "2022-03-01T17:23:50.255239",
     "exception": false,
     "start_time": "2022-03-01T17:23:50.198130",
     "status": "completed"
    },
    "tags": []
   },
   "source": [
    "Now , it's time to build our custom dataset which will take the data directory and the processed training metadata and create trainable data."
   ]
  },
  {
   "cell_type": "code",
   "execution_count": 13,
   "id": "7eda608c",
   "metadata": {
    "execution": {
     "iopub.execute_input": "2022-03-01T17:23:50.372159Z",
     "iopub.status.busy": "2022-03-01T17:23:50.369979Z",
     "iopub.status.idle": "2022-03-01T17:23:50.374830Z",
     "shell.execute_reply": "2022-03-01T17:23:50.374280Z",
     "shell.execute_reply.started": "2022-03-01T17:04:00.600172Z"
    },
    "papermill": {
     "duration": 0.065377,
     "end_time": "2022-03-01T17:23:50.374949",
     "exception": false,
     "start_time": "2022-03-01T17:23:50.309572",
     "status": "completed"
    },
    "tags": []
   },
   "outputs": [],
   "source": [
    "class CLEFDataset(Dataset):\n",
    "    \n",
    "    def __init__(self,\n",
    "                 data_dir,\n",
    "                 metadata_path,\n",
    "                 size = 640,\n",
    "                 transform = None):\n",
    "        super(CLEFDataset, self).__init__()\n",
    "        self.data_dir = data_dir\n",
    "        self.metadata = pd.read_csv(metadata_path)\n",
    "        self.size = size\n",
    "        self.transform = transform\n",
    "        \n",
    "    def __len__(self):\n",
    "        return len(self.metadata)\n",
    "    \n",
    "    def __getitem__(self, index):\n",
    "        path = self.metadata.loc[index, \"filename\"]\n",
    "        path = os.path.join(self.data_dir, path)\n",
    "        label = self.metadata.loc[index, \"primary_label\"]\n",
    "        mono_audio = self.load_audio(path)\n",
    "        mono_audio = mono_audio.unsqueeze(dim=0)\n",
    "        return mono_audio, label\n",
    "    \n",
    "    \n",
    "    def load_audio(self, path):\n",
    "        audio, _ = torchaudio.load(path)\n",
    "        if self.transform != None:\n",
    "            for aug in self.transform:\n",
    "                audio = aug(audio)\n",
    "        return audio[0,:]"
   ]
  },
  {
   "cell_type": "markdown",
   "id": "00778ebe",
   "metadata": {
    "papermill": {
     "duration": 0.052081,
     "end_time": "2022-03-01T17:23:50.479964",
     "exception": false,
     "start_time": "2022-03-01T17:23:50.427883",
     "status": "completed"
    },
    "tags": []
   },
   "source": [
    "We also need a bit of data equivalence, so that training can be more specific."
   ]
  },
  {
   "cell_type": "code",
   "execution_count": 14,
   "id": "aa6b0dd0",
   "metadata": {
    "execution": {
     "iopub.execute_input": "2022-03-01T17:23:50.592799Z",
     "iopub.status.busy": "2022-03-01T17:23:50.592048Z",
     "iopub.status.idle": "2022-03-01T17:23:50.691246Z",
     "shell.execute_reply": "2022-03-01T17:23:50.691648Z",
     "shell.execute_reply.started": "2022-03-01T17:04:00.614401Z"
    },
    "papermill": {
     "duration": 0.159807,
     "end_time": "2022-03-01T17:23:50.691829",
     "exception": false,
     "start_time": "2022-03-01T17:23:50.532022",
     "status": "completed"
    },
    "tags": []
   },
   "outputs": [
    {
     "data": {
      "text/plain": [
       "[MelSpectrogram(\n",
       "   (spectrogram): Spectrogram()\n",
       "   (mel_scale): MelScale()\n",
       " ),\n",
       " Resize(size=(128, 128), interpolation=bilinear, max_size=None, antialias=None)]"
      ]
     },
     "execution_count": 14,
     "metadata": {},
     "output_type": "execute_result"
    }
   ],
   "source": [
    "augm = [\n",
    "    MelSpectrogram(n_mels = 128),\n",
    "    Resize((128, 128))\n",
    "]\n",
    "augm"
   ]
  },
  {
   "cell_type": "markdown",
   "id": "d0edae3e",
   "metadata": {
    "papermill": {
     "duration": 0.052547,
     "end_time": "2022-03-01T17:23:50.797490",
     "exception": false,
     "start_time": "2022-03-01T17:23:50.744943",
     "status": "completed"
    },
    "tags": []
   },
   "source": [
    "Now creating the dataset"
   ]
  },
  {
   "cell_type": "code",
   "execution_count": 15,
   "id": "18017f29",
   "metadata": {
    "execution": {
     "iopub.execute_input": "2022-03-01T17:23:50.907630Z",
     "iopub.status.busy": "2022-03-01T17:23:50.906623Z",
     "iopub.status.idle": "2022-03-01T17:23:50.922607Z",
     "shell.execute_reply": "2022-03-01T17:23:50.922089Z",
     "shell.execute_reply.started": "2022-03-01T17:04:00.625550Z"
    },
    "papermill": {
     "duration": 0.072658,
     "end_time": "2022-03-01T17:23:50.922717",
     "exception": false,
     "start_time": "2022-03-01T17:23:50.850059",
     "status": "completed"
    },
    "tags": []
   },
   "outputs": [],
   "source": [
    "metadata_path = \"./training_metadata.csv\"\n",
    "dataset = CLEFDataset(train_dir, metadata_path, transform = augm)"
   ]
  },
  {
   "cell_type": "code",
   "execution_count": 16,
   "id": "ada8e170",
   "metadata": {
    "execution": {
     "iopub.execute_input": "2022-03-01T17:23:51.033472Z",
     "iopub.status.busy": "2022-03-01T17:23:51.032905Z",
     "iopub.status.idle": "2022-03-01T17:23:51.038601Z",
     "shell.execute_reply": "2022-03-01T17:23:51.038119Z",
     "shell.execute_reply.started": "2022-03-01T17:04:00.643238Z"
    },
    "papermill": {
     "duration": 0.063405,
     "end_time": "2022-03-01T17:23:51.038980",
     "exception": false,
     "start_time": "2022-03-01T17:23:50.975575",
     "status": "completed"
    },
    "tags": []
   },
   "outputs": [
    {
     "data": {
      "text/plain": [
       "12773"
      ]
     },
     "execution_count": 16,
     "metadata": {},
     "output_type": "execute_result"
    }
   ],
   "source": [
    "len(dataset)"
   ]
  },
  {
   "cell_type": "code",
   "execution_count": 17,
   "id": "94b84f28",
   "metadata": {
    "execution": {
     "iopub.execute_input": "2022-03-01T17:23:51.140644Z",
     "iopub.status.busy": "2022-03-01T17:23:51.140134Z",
     "iopub.status.idle": "2022-03-01T17:23:51.324376Z",
     "shell.execute_reply": "2022-03-01T17:23:51.325107Z",
     "shell.execute_reply.started": "2022-03-01T17:20:58.594321Z"
    },
    "papermill": {
     "duration": 0.237537,
     "end_time": "2022-03-01T17:23:51.325310",
     "exception": false,
     "start_time": "2022-03-01T17:23:51.087773",
     "status": "completed"
    },
    "tags": []
   },
   "outputs": [
    {
     "name": "stdout",
     "output_type": "stream",
     "text": [
      "Audio Shape : torch.Size([1, 128, 128]) , label : 0\n"
     ]
    }
   ],
   "source": [
    "data, label = dataset[10]\n",
    "print(\"Audio Shape : {} , label : {}\".format(data.shape, label))"
   ]
  },
  {
   "cell_type": "markdown",
   "id": "fa3cbc42",
   "metadata": {
    "papermill": {
     "duration": 0.047855,
     "end_time": "2022-03-01T17:23:51.422949",
     "exception": false,
     "start_time": "2022-03-01T17:23:51.375094",
     "status": "completed"
    },
    "tags": []
   },
   "source": [
    "The dataset is created correctly.\n",
    "Now we should split the dataset into training and validation sets.\n",
    "\n",
    "**Train-Validation Ratio = 4:1**"
   ]
  },
  {
   "cell_type": "code",
   "execution_count": 18,
   "id": "699b7cb6",
   "metadata": {
    "execution": {
     "iopub.execute_input": "2022-03-01T17:23:51.524145Z",
     "iopub.status.busy": "2022-03-01T17:23:51.523456Z",
     "iopub.status.idle": "2022-03-01T17:23:51.527878Z",
     "shell.execute_reply": "2022-03-01T17:23:51.528264Z",
     "shell.execute_reply.started": "2022-03-01T17:04:00.770214Z"
    },
    "papermill": {
     "duration": 0.057349,
     "end_time": "2022-03-01T17:23:51.528391",
     "exception": false,
     "start_time": "2022-03-01T17:23:51.471042",
     "status": "completed"
    },
    "tags": []
   },
   "outputs": [],
   "source": [
    "x1 = int(len(dataset) * 0.8)\n",
    "x2 = len(dataset) - x1\n",
    "train_ds, val_ds = random_split(dataset, [x1, x2])"
   ]
  },
  {
   "cell_type": "code",
   "execution_count": 19,
   "id": "d43e127e",
   "metadata": {
    "execution": {
     "iopub.execute_input": "2022-03-01T17:23:51.628459Z",
     "iopub.status.busy": "2022-03-01T17:23:51.627649Z",
     "iopub.status.idle": "2022-03-01T17:23:51.631712Z",
     "shell.execute_reply": "2022-03-01T17:23:51.632329Z",
     "shell.execute_reply.started": "2022-03-01T17:04:00.778287Z"
    },
    "papermill": {
     "duration": 0.055962,
     "end_time": "2022-03-01T17:23:51.632487",
     "exception": false,
     "start_time": "2022-03-01T17:23:51.576525",
     "status": "completed"
    },
    "tags": []
   },
   "outputs": [
    {
     "name": "stdout",
     "output_type": "stream",
     "text": [
      "Length of Training Dataset : 10218\n",
      "Length of Validation Dataset : 2555\n"
     ]
    }
   ],
   "source": [
    "print(\"Length of Training Dataset : {}\".format(len(train_ds)))\n",
    "print(\"Length of Validation Dataset : {}\".format(len(val_ds)))"
   ]
  },
  {
   "cell_type": "markdown",
   "id": "3a033928",
   "metadata": {
    "papermill": {
     "duration": 0.049648,
     "end_time": "2022-03-01T17:23:51.732800",
     "exception": false,
     "start_time": "2022-03-01T17:23:51.683152",
     "status": "completed"
    },
    "tags": []
   },
   "source": [
    "Now it's time to create patch of data which will be a better way to train the model as it won't need too much space to load the whole data but patches of it. \n",
    "Note : The datasets are shuffled so that sparsity stays present."
   ]
  },
  {
   "cell_type": "code",
   "execution_count": 20,
   "id": "23172e7f",
   "metadata": {
    "execution": {
     "iopub.execute_input": "2022-03-01T17:23:51.838317Z",
     "iopub.status.busy": "2022-03-01T17:23:51.837527Z",
     "iopub.status.idle": "2022-03-01T17:23:51.839623Z",
     "shell.execute_reply": "2022-03-01T17:23:51.840060Z",
     "shell.execute_reply.started": "2022-03-01T17:04:00.790715Z"
    },
    "papermill": {
     "duration": 0.057079,
     "end_time": "2022-03-01T17:23:51.840195",
     "exception": false,
     "start_time": "2022-03-01T17:23:51.783116",
     "status": "completed"
    },
    "tags": []
   },
   "outputs": [],
   "source": [
    "BATCH_SIZE = 64\n",
    "\n",
    "train_dl = DataLoader(train_ds, batch_size = BATCH_SIZE, shuffle = True)\n",
    "val_dl = DataLoader(val_ds, batch_size = BATCH_SIZE, shuffle = True)"
   ]
  },
  {
   "cell_type": "markdown",
   "id": "22544917",
   "metadata": {
    "papermill": {
     "duration": 0.051003,
     "end_time": "2022-03-01T17:23:51.941288",
     "exception": false,
     "start_time": "2022-03-01T17:23:51.890285",
     "status": "completed"
    },
    "tags": []
   },
   "source": [
    "Let's check the data chunks"
   ]
  },
  {
   "cell_type": "code",
   "execution_count": 21,
   "id": "b6df6545",
   "metadata": {
    "execution": {
     "iopub.execute_input": "2022-03-01T17:23:52.045874Z",
     "iopub.status.busy": "2022-03-01T17:23:52.045250Z",
     "iopub.status.idle": "2022-03-01T17:24:04.976162Z",
     "shell.execute_reply": "2022-03-01T17:24:04.976687Z",
     "shell.execute_reply.started": "2022-03-01T17:04:00.802465Z"
    },
    "papermill": {
     "duration": 12.985937,
     "end_time": "2022-03-01T17:24:04.976864",
     "exception": false,
     "start_time": "2022-03-01T17:23:51.990927",
     "status": "completed"
    },
    "tags": []
   },
   "outputs": [
    {
     "name": "stdout",
     "output_type": "stream",
     "text": [
      "torch.Size([64, 1, 128, 128]) torch.Size([64])\n",
      "torch.Size([64, 1, 128, 128]) torch.Size([64])\n"
     ]
    }
   ],
   "source": [
    "for patch, labels in train_dl:\n",
    "    print(patch.shape, labels.shape)\n",
    "    break\n",
    "for patch, labels in val_dl:\n",
    "    print(patch.shape, labels.shape)\n",
    "    break"
   ]
  },
  {
   "cell_type": "markdown",
   "id": "4a4ed452",
   "metadata": {
    "papermill": {
     "duration": 0.049127,
     "end_time": "2022-03-01T17:24:05.076009",
     "exception": false,
     "start_time": "2022-03-01T17:24:05.026882",
     "status": "completed"
    },
    "tags": []
   },
   "source": [
    "# Neural Network Model"
   ]
  },
  {
   "cell_type": "markdown",
   "id": "0e8cb827",
   "metadata": {
    "papermill": {
     "duration": 0.048575,
     "end_time": "2022-03-01T17:24:05.173448",
     "exception": false,
     "start_time": "2022-03-01T17:24:05.124873",
     "status": "completed"
    },
    "tags": []
   },
   "source": [
    "In here we have used several CNN and ANN layers just to be sure we do not leave any crucial data."
   ]
  },
  {
   "cell_type": "code",
   "execution_count": 22,
   "id": "b6ea6c1f",
   "metadata": {
    "execution": {
     "iopub.execute_input": "2022-03-01T17:24:05.276884Z",
     "iopub.status.busy": "2022-03-01T17:24:05.276241Z",
     "iopub.status.idle": "2022-03-01T17:24:05.278938Z",
     "shell.execute_reply": "2022-03-01T17:24:05.278512Z",
     "shell.execute_reply.started": "2022-03-01T17:04:13.046479Z"
    },
    "papermill": {
     "duration": 0.056657,
     "end_time": "2022-03-01T17:24:05.279051",
     "exception": false,
     "start_time": "2022-03-01T17:24:05.222394",
     "status": "completed"
    },
    "tags": []
   },
   "outputs": [],
   "source": [
    "# Convolution shape updating function\n",
    "def conv_shape(shape, kernel_size, stride, padding):\n",
    "    H, W = shape[0], shape[1]\n",
    "    H = ((H - kernel_size + 2*padding) // stride) + 1\n",
    "    W = ((W - kernel_size + 2*padding) // stride) + 1\n",
    "    return H, W"
   ]
  },
  {
   "cell_type": "code",
   "execution_count": 23,
   "id": "fd7c2419",
   "metadata": {
    "execution": {
     "iopub.execute_input": "2022-03-01T17:24:05.390770Z",
     "iopub.status.busy": "2022-03-01T17:24:05.389949Z",
     "iopub.status.idle": "2022-03-01T17:24:05.391948Z",
     "shell.execute_reply": "2022-03-01T17:24:05.392329Z",
     "shell.execute_reply.started": "2022-03-01T17:04:13.054394Z"
    },
    "papermill": {
     "duration": 0.064158,
     "end_time": "2022-03-01T17:24:05.392453",
     "exception": false,
     "start_time": "2022-03-01T17:24:05.328295",
     "status": "completed"
    },
    "tags": []
   },
   "outputs": [],
   "source": [
    "class Conv(nn.Module):\n",
    "    \n",
    "    def __init__(self, \n",
    "                   in_channels,\n",
    "                   out_channels,\n",
    "                   kernel_size,\n",
    "                   stride=(1,1),\n",
    "                   padding=(0,0),\n",
    "                   momentum=0.15):\n",
    "        super(Conv, self).__init__()\n",
    "        self.conv_block = nn.Sequential(\n",
    "            nn.BatchNorm2d(in_channels, momentum = momentum),\n",
    "            nn.Conv2d(in_channels, out_channels, kernel_size, stride, padding),\n",
    "            nn.ReLU()\n",
    "        )\n",
    "        \n",
    "    def forward(self, x):\n",
    "        return self.conv_block(x)\n",
    "\n",
    "\n",
    "class CLEFNetwork(nn.Module):\n",
    "    \n",
    "    def __init__(self,\n",
    "                 num_classes,\n",
    "                 in_channels = 1,\n",
    "                 H = 128,\n",
    "                 W = 128,\n",
    "                 num_downs = 3):\n",
    "        super(CLEFNetwork, self).__init__()\n",
    "        \n",
    "        self.num_C = num_classes\n",
    "        self.num_downs = num_downs\n",
    "        self.in_channels = in_channels\n",
    "        self.C = 8\n",
    "        self.H, self.W = self.calc_HW(H, W)\n",
    "        self.in_conv_block = Conv(self.in_channels, self.C, 7, (2, 2))\n",
    "        self.conv_block = nn.ModuleList(\n",
    "                [\n",
    "                    Conv(self.C * 2**i, self.C * 2**(i+1), 3, (2, 2))\n",
    "                    for i in range(self.num_downs-1)\n",
    "                ]\n",
    "        )\n",
    "        self.fc_block = nn.Sequential(\n",
    "                nn.Linear(self.H * self.W * self.C * 2**(self.num_downs - 1), 1024),\n",
    "                nn.Linear(1024, 1024),\n",
    "                nn.Linear(1024, self.num_C)\n",
    "        )\n",
    "        \n",
    "    def calc_HW(self, H, W):\n",
    "        H, W = conv_shape((H, W), 7, 2, 0)\n",
    "        for num_down in range(self.num_downs - 1):\n",
    "            H, W = conv_shape((H, W), 3, 2, 0)\n",
    "        return H, W\n",
    "        \n",
    "        \n",
    "    def forward(self, x):\n",
    "        x = self.in_conv_block(x)\n",
    "        for block in self.conv_block:\n",
    "            x = block(x)\n",
    "        x = x.view(x.shape[0], -1)\n",
    "        x = self.fc_block(x)\n",
    "        return x"
   ]
  },
  {
   "cell_type": "markdown",
   "id": "5141d2b8",
   "metadata": {
    "papermill": {
     "duration": 0.049048,
     "end_time": "2022-03-01T17:24:05.498007",
     "exception": false,
     "start_time": "2022-03-01T17:24:05.448959",
     "status": "completed"
    },
    "tags": []
   },
   "source": [
    "Now loading the class label dictionary which contains the tital number of classes."
   ]
  },
  {
   "cell_type": "code",
   "execution_count": 24,
   "id": "f91a665c",
   "metadata": {
    "execution": {
     "iopub.execute_input": "2022-03-01T17:24:05.599392Z",
     "iopub.status.busy": "2022-03-01T17:24:05.598637Z",
     "iopub.status.idle": "2022-03-01T17:24:05.601258Z",
     "shell.execute_reply": "2022-03-01T17:24:05.600819Z",
     "shell.execute_reply.started": "2022-03-01T17:04:13.071575Z"
    },
    "papermill": {
     "duration": 0.054482,
     "end_time": "2022-03-01T17:24:05.601363",
     "exception": false,
     "start_time": "2022-03-01T17:24:05.546881",
     "status": "completed"
    },
    "tags": []
   },
   "outputs": [],
   "source": [
    "class_labels_path = \"./class_dict.json\""
   ]
  },
  {
   "cell_type": "code",
   "execution_count": 25,
   "id": "e19999d0",
   "metadata": {
    "execution": {
     "iopub.execute_input": "2022-03-01T17:24:05.705476Z",
     "iopub.status.busy": "2022-03-01T17:24:05.704682Z",
     "iopub.status.idle": "2022-03-01T17:24:05.707629Z",
     "shell.execute_reply": "2022-03-01T17:24:05.708051Z",
     "shell.execute_reply.started": "2022-03-01T17:04:13.083378Z"
    },
    "papermill": {
     "duration": 0.057744,
     "end_time": "2022-03-01T17:24:05.708176",
     "exception": false,
     "start_time": "2022-03-01T17:24:05.650432",
     "status": "completed"
    },
    "tags": []
   },
   "outputs": [
    {
     "name": "stdout",
     "output_type": "stream",
     "text": [
      "Number of class : 152\n"
     ]
    }
   ],
   "source": [
    "class_labels = json.load(open(class_labels_path, \"r\"))\n",
    "num_classes = len(class_labels.keys())\n",
    "print(\"Number of class : {}\".format(num_classes))"
   ]
  },
  {
   "cell_type": "markdown",
   "id": "ba2c9003",
   "metadata": {
    "papermill": {
     "duration": 0.049691,
     "end_time": "2022-03-01T17:24:05.806957",
     "exception": false,
     "start_time": "2022-03-01T17:24:05.757266",
     "status": "completed"
    },
    "tags": []
   },
   "source": [
    "Let's try a simple forward pass with some random data on the model."
   ]
  },
  {
   "cell_type": "code",
   "execution_count": 26,
   "id": "2c898ac7",
   "metadata": {
    "execution": {
     "iopub.execute_input": "2022-03-01T17:24:05.918541Z",
     "iopub.status.busy": "2022-03-01T17:24:05.916063Z",
     "iopub.status.idle": "2022-03-01T17:24:06.044401Z",
     "shell.execute_reply": "2022-03-01T17:24:06.045235Z",
     "shell.execute_reply.started": "2022-03-01T17:04:13.092515Z"
    },
    "papermill": {
     "duration": 0.184782,
     "end_time": "2022-03-01T17:24:06.045392",
     "exception": false,
     "start_time": "2022-03-01T17:24:05.860610",
     "status": "completed"
    },
    "tags": []
   },
   "outputs": [
    {
     "data": {
      "text/plain": [
       "torch.Size([5, 152])"
      ]
     },
     "execution_count": 26,
     "metadata": {},
     "output_type": "execute_result"
    }
   ],
   "source": [
    "model = CLEFNetwork(num_classes)\n",
    "rand_data = torch.rand(5, 1, 128, 128)\n",
    "model(rand_data).shape"
   ]
  },
  {
   "cell_type": "markdown",
   "id": "8b0342ac",
   "metadata": {
    "papermill": {
     "duration": 0.049639,
     "end_time": "2022-03-01T17:24:06.144535",
     "exception": false,
     "start_time": "2022-03-01T17:24:06.094896",
     "status": "completed"
    },
    "tags": []
   },
   "source": [
    "Before starting the training , let's check whether all the layers are passing through the model parameters, otherwise they won't be updated with the gradients on backtracking."
   ]
  },
  {
   "cell_type": "code",
   "execution_count": 27,
   "id": "a5e0a7f8",
   "metadata": {
    "execution": {
     "iopub.execute_input": "2022-03-01T17:24:06.249082Z",
     "iopub.status.busy": "2022-03-01T17:24:06.247712Z",
     "iopub.status.idle": "2022-03-01T17:24:06.252775Z",
     "shell.execute_reply": "2022-03-01T17:24:06.253458Z",
     "shell.execute_reply.started": "2022-03-01T17:04:13.230628Z"
    },
    "papermill": {
     "duration": 0.059894,
     "end_time": "2022-03-01T17:24:06.253624",
     "exception": false,
     "start_time": "2022-03-01T17:24:06.193730",
     "status": "completed"
    },
    "tags": []
   },
   "outputs": [
    {
     "name": "stdout",
     "output_type": "stream",
     "text": [
      "in_conv_block.conv_block.0.weight : torch.Size([1]), requires_grad : True\n",
      "in_conv_block.conv_block.0.bias : torch.Size([1]), requires_grad : True\n",
      "in_conv_block.conv_block.1.weight : torch.Size([8, 1, 7, 7]), requires_grad : True\n",
      "in_conv_block.conv_block.1.bias : torch.Size([8]), requires_grad : True\n",
      "conv_block.0.conv_block.0.weight : torch.Size([8]), requires_grad : True\n",
      "conv_block.0.conv_block.0.bias : torch.Size([8]), requires_grad : True\n",
      "conv_block.0.conv_block.1.weight : torch.Size([16, 8, 3, 3]), requires_grad : True\n",
      "conv_block.0.conv_block.1.bias : torch.Size([16]), requires_grad : True\n",
      "conv_block.1.conv_block.0.weight : torch.Size([16]), requires_grad : True\n",
      "conv_block.1.conv_block.0.bias : torch.Size([16]), requires_grad : True\n",
      "conv_block.1.conv_block.1.weight : torch.Size([32, 16, 3, 3]), requires_grad : True\n",
      "conv_block.1.conv_block.1.bias : torch.Size([32]), requires_grad : True\n",
      "fc_block.0.weight : torch.Size([1024, 6272]), requires_grad : True\n",
      "fc_block.0.bias : torch.Size([1024]), requires_grad : True\n",
      "fc_block.1.weight : torch.Size([1024, 1024]), requires_grad : True\n",
      "fc_block.1.bias : torch.Size([1024]), requires_grad : True\n",
      "fc_block.2.weight : torch.Size([152, 1024]), requires_grad : True\n",
      "fc_block.2.bias : torch.Size([152]), requires_grad : True\n"
     ]
    }
   ],
   "source": [
    "for name, param in model.named_parameters():\n",
    "  print(f\"{name} : {param.shape}, requires_grad : {param.requires_grad}\")"
   ]
  },
  {
   "cell_type": "markdown",
   "id": "11f295bf",
   "metadata": {
    "papermill": {
     "duration": 0.050272,
     "end_time": "2022-03-01T17:24:06.354215",
     "exception": false,
     "start_time": "2022-03-01T17:24:06.303943",
     "status": "completed"
    },
    "tags": []
   },
   "source": [
    "All looks fine. Let's visualize the model"
   ]
  },
  {
   "cell_type": "code",
   "execution_count": 28,
   "id": "81daba3b",
   "metadata": {
    "execution": {
     "iopub.execute_input": "2022-03-01T17:24:06.458188Z",
     "iopub.status.busy": "2022-03-01T17:24:06.457565Z",
     "iopub.status.idle": "2022-03-01T17:24:06.477359Z",
     "shell.execute_reply": "2022-03-01T17:24:06.476829Z",
     "shell.execute_reply.started": "2022-03-01T17:04:13.240565Z"
    },
    "papermill": {
     "duration": 0.073278,
     "end_time": "2022-03-01T17:24:06.477462",
     "exception": false,
     "start_time": "2022-03-01T17:24:06.404184",
     "status": "completed"
    },
    "tags": []
   },
   "outputs": [
    {
     "name": "stdout",
     "output_type": "stream",
     "text": [
      "----------------------------------------------------------------\n",
      "        Layer (type)               Output Shape         Param #\n",
      "================================================================\n",
      "       BatchNorm2d-1          [-1, 1, 128, 128]               2\n",
      "            Conv2d-2            [-1, 8, 61, 61]             400\n",
      "              ReLU-3            [-1, 8, 61, 61]               0\n",
      "              Conv-4            [-1, 8, 61, 61]               0\n",
      "       BatchNorm2d-5            [-1, 8, 61, 61]              16\n",
      "            Conv2d-6           [-1, 16, 30, 30]           1,168\n",
      "              ReLU-7           [-1, 16, 30, 30]               0\n",
      "              Conv-8           [-1, 16, 30, 30]               0\n",
      "       BatchNorm2d-9           [-1, 16, 30, 30]              32\n",
      "           Conv2d-10           [-1, 32, 14, 14]           4,640\n",
      "             ReLU-11           [-1, 32, 14, 14]               0\n",
      "             Conv-12           [-1, 32, 14, 14]               0\n",
      "           Linear-13                 [-1, 1024]       6,423,552\n",
      "           Linear-14                 [-1, 1024]       1,049,600\n",
      "           Linear-15                  [-1, 152]         155,800\n",
      "================================================================\n",
      "Total params: 7,635,210\n",
      "Trainable params: 7,635,210\n",
      "Non-trainable params: 0\n",
      "----------------------------------------------------------------\n",
      "Input size (MB): 0.06\n",
      "Forward/backward pass size (MB): 1.63\n",
      "Params size (MB): 29.13\n",
      "Estimated Total Size (MB): 30.82\n",
      "----------------------------------------------------------------\n"
     ]
    }
   ],
   "source": [
    "\n",
    "torchsummary.summary(model, (1, 128, 128), device = \"cpu\")"
   ]
  },
  {
   "cell_type": "markdown",
   "id": "b51eb9e7",
   "metadata": {
    "papermill": {
     "duration": 0.050252,
     "end_time": "2022-03-01T17:24:06.577883",
     "exception": false,
     "start_time": "2022-03-01T17:24:06.527631",
     "status": "completed"
    },
    "tags": []
   },
   "source": [
    "We need an accuracy counting function for training purpose."
   ]
  },
  {
   "cell_type": "code",
   "execution_count": 29,
   "id": "da52e09b",
   "metadata": {
    "execution": {
     "iopub.execute_input": "2022-03-01T17:24:06.683870Z",
     "iopub.status.busy": "2022-03-01T17:24:06.683065Z",
     "iopub.status.idle": "2022-03-01T17:24:06.685433Z",
     "shell.execute_reply": "2022-03-01T17:24:06.685036Z",
     "shell.execute_reply.started": "2022-03-01T17:04:13.266176Z"
    },
    "papermill": {
     "duration": 0.057166,
     "end_time": "2022-03-01T17:24:06.685537",
     "exception": false,
     "start_time": "2022-03-01T17:24:06.628371",
     "status": "completed"
    },
    "tags": []
   },
   "outputs": [],
   "source": [
    "def accuracy_func(pred, true):\n",
    "    pred = torch.argmax(pred, dim = 1)\n",
    "    acc = sum(true == pred)\n",
    "    return acc"
   ]
  },
  {
   "cell_type": "markdown",
   "id": "fbd489d9",
   "metadata": {
    "papermill": {
     "duration": 0.05032,
     "end_time": "2022-03-01T17:24:06.786257",
     "exception": false,
     "start_time": "2022-03-01T17:24:06.735937",
     "status": "completed"
    },
    "tags": []
   },
   "source": [
    "# Model training and saving best models"
   ]
  },
  {
   "cell_type": "markdown",
   "id": "026db6ff",
   "metadata": {
    "papermill": {
     "duration": 0.052042,
     "end_time": "2022-03-01T17:24:06.889574",
     "exception": false,
     "start_time": "2022-03-01T17:24:06.837532",
     "status": "completed"
    },
    "tags": []
   },
   "source": [
    "The first task in these phase is to set the hyperparameters.\n",
    "\n",
    "Also we need to check whether any distributive device (**GPU** , **TPU**) is present or not as it may be efficient for model training."
   ]
  },
  {
   "cell_type": "code",
   "execution_count": 30,
   "id": "6dbd54b0",
   "metadata": {
    "execution": {
     "iopub.execute_input": "2022-03-01T17:24:07.043580Z",
     "iopub.status.busy": "2022-03-01T17:24:07.041956Z",
     "iopub.status.idle": "2022-03-01T17:24:07.047106Z",
     "shell.execute_reply": "2022-03-01T17:24:07.046615Z",
     "shell.execute_reply.started": "2022-03-01T17:04:13.273336Z"
    },
    "papermill": {
     "duration": 0.104584,
     "end_time": "2022-03-01T17:24:07.047229",
     "exception": false,
     "start_time": "2022-03-01T17:24:06.942645",
     "status": "completed"
    },
    "tags": []
   },
   "outputs": [
    {
     "data": {
      "text/plain": [
       "'cuda:0'"
      ]
     },
     "execution_count": 30,
     "metadata": {},
     "output_type": "execute_result"
    }
   ],
   "source": [
    "EPOCHS = 10\n",
    "optim = Adam(model.parameters(), lr = 1e-4)\n",
    "criterion = CrossEntropyLoss()\n",
    "device = \"cuda:0\" if torch.cuda.is_available() else \"cpu\"\n",
    "device"
   ]
  },
  {
   "cell_type": "markdown",
   "id": "f07f3140",
   "metadata": {
    "papermill": {
     "duration": 0.05118,
     "end_time": "2022-03-01T17:24:07.153281",
     "exception": false,
     "start_time": "2022-03-01T17:24:07.102101",
     "status": "completed"
    },
    "tags": []
   },
   "source": [
    "### Training:\n",
    "\n",
    "Now it is the most important moment of the whole task.\n",
    "\n",
    "The training loop will take the best model on the accuracy and loss metrics."
   ]
  },
  {
   "cell_type": "code",
   "execution_count": 31,
   "id": "3e7664c8",
   "metadata": {
    "execution": {
     "iopub.execute_input": "2022-03-01T17:24:07.273496Z",
     "iopub.status.busy": "2022-03-01T17:24:07.272822Z",
     "iopub.status.idle": "2022-03-01T21:45:49.742293Z",
     "shell.execute_reply": "2022-03-01T21:45:49.742717Z",
     "shell.execute_reply.started": "2022-03-01T17:16:28.737617Z"
    },
    "papermill": {
     "duration": 15702.538672,
     "end_time": "2022-03-01T21:45:49.742880",
     "exception": false,
     "start_time": "2022-03-01T17:24:07.204208",
     "status": "completed"
    },
    "tags": []
   },
   "outputs": [
    {
     "name": "stdout",
     "output_type": "stream",
     "text": [
      "\u001b[34mStarted training...\u001b[0m\n",
      "Model Loaded on GPU...\n",
      "Epoch 1 :\n",
      "      [Step 10] Loss : 4.818160\n",
      "      [Step 20] Loss : 4.583258\n",
      "      [Step 30] Loss : 4.389036\n",
      "      [Step 40] Loss : 3.980569\n",
      "      [Step 50] Loss : 4.243809\n",
      "      [Step 60] Loss : 4.216794\n",
      "      [Step 70] Loss : 4.121332\n",
      "      [Step 80] Loss : 4.277384\n",
      "      [Step 90] Loss : 4.263050\n",
      "      [Step 100] Loss : 3.929511\n",
      "      [Step 110] Loss : 4.155273\n",
      "      [Step 120] Loss : 4.431555\n",
      "      [Step 130] Loss : 4.255734\n",
      "      [Step 140] Loss : 4.092558\n",
      "      [Step 150] Loss : 4.111647\n",
      "      [Step 160] Loss : 4.179440\n",
      "   Train Loss : 690.737953 | Train accuracy : 0.070464\n",
      "   Validation Loss : 163.601886 | Validation Accuracy : 0.094716\n",
      "\u001b[32mLoss Updation : Positive\u001b[0m\n",
      "\u001b[32mAccuracy Updation : Positive\u001b[0m\n",
      "   Execution Time : 1700.411 seconds\n",
      "\n",
      "Epoch 2 :\n",
      "      [Step 10] Loss : 3.883323\n",
      "      [Step 20] Loss : 3.687260\n",
      "      [Step 30] Loss : 3.999615\n",
      "      [Step 40] Loss : 3.846511\n",
      "      [Step 50] Loss : 3.689812\n",
      "      [Step 60] Loss : 3.755176\n",
      "      [Step 70] Loss : 3.850800\n",
      "      [Step 80] Loss : 4.049815\n",
      "      [Step 90] Loss : 3.869044\n",
      "      [Step 100] Loss : 3.561138\n",
      "      [Step 110] Loss : 3.698797\n",
      "      [Step 120] Loss : 3.655159\n",
      "      [Step 130] Loss : 3.564770\n",
      "      [Step 140] Loss : 3.564920\n",
      "      [Step 150] Loss : 3.503113\n",
      "      [Step 160] Loss : 3.721881\n",
      "   Train Loss : 601.360203 | Train accuracy : 0.155021\n",
      "   Validation Loss : 153.570166 | Validation Accuracy : 0.144031\n",
      "\u001b[32mLoss Updation : Positive\u001b[0m\n",
      "\u001b[32mAccuracy Updation : Positive\u001b[0m\n",
      "   Execution Time : 1555.951 seconds\n",
      "\n",
      "Epoch 3 :\n",
      "      [Step 10] Loss : 3.417133\n",
      "      [Step 20] Loss : 3.576157\n",
      "      [Step 30] Loss : 3.659021\n",
      "      [Step 40] Loss : 3.254247\n",
      "      [Step 50] Loss : 3.134959\n",
      "      [Step 60] Loss : 3.397698\n",
      "      [Step 70] Loss : 3.801688\n",
      "      [Step 80] Loss : 3.313821\n",
      "      [Step 90] Loss : 3.558588\n",
      "      [Step 100] Loss : 3.357206\n",
      "      [Step 110] Loss : 3.292169\n",
      "      [Step 120] Loss : 3.288717\n",
      "      [Step 130] Loss : 3.428425\n",
      "      [Step 140] Loss : 3.295355\n",
      "      [Step 150] Loss : 3.279502\n",
      "      [Step 160] Loss : 3.370592\n",
      "   Train Loss : 549.324928 | Train accuracy : 0.217753\n",
      "   Validation Loss : 148.624561 | Validation Accuracy : 0.157730\n",
      "\u001b[32mLoss Updation : Positive\u001b[0m\n",
      "\u001b[32mAccuracy Updation : Positive\u001b[0m\n",
      "   Execution Time : 1537.356 seconds\n",
      "\n",
      "Epoch 4 :\n",
      "      [Step 10] Loss : 3.083175\n",
      "      [Step 20] Loss : 3.241043\n",
      "      [Step 30] Loss : 3.434903\n",
      "      [Step 40] Loss : 3.411023\n",
      "      [Step 50] Loss : 3.065887\n",
      "      [Step 60] Loss : 3.073562\n",
      "      [Step 70] Loss : 2.864428\n",
      "      [Step 80] Loss : 3.232812\n",
      "      [Step 90] Loss : 3.429025\n",
      "      [Step 100] Loss : 2.886760\n",
      "      [Step 110] Loss : 3.404087\n",
      "      [Step 120] Loss : 3.374496\n",
      "      [Step 130] Loss : 3.159073\n",
      "      [Step 140] Loss : 3.350307\n",
      "      [Step 150] Loss : 3.261445\n",
      "      [Step 160] Loss : 3.063313\n",
      "   Train Loss : 507.661319 | Train accuracy : 0.267371\n",
      "   Validation Loss : 148.141543 | Validation Accuracy : 0.173777\n",
      "\u001b[32mLoss Updation : Positive\u001b[0m\n",
      "\u001b[32mAccuracy Updation : Positive\u001b[0m\n",
      "   Execution Time : 1564.197 seconds\n",
      "\n",
      "Epoch 5 :\n",
      "      [Step 10] Loss : 3.231002\n",
      "      [Step 20] Loss : 3.122708\n",
      "      [Step 30] Loss : 3.015423\n",
      "      [Step 40] Loss : 2.699219\n",
      "      [Step 50] Loss : 2.655734\n",
      "      [Step 60] Loss : 3.048543\n",
      "      [Step 70] Loss : 3.184054\n",
      "      [Step 80] Loss : 3.036395\n",
      "      [Step 90] Loss : 2.505432\n",
      "      [Step 100] Loss : 3.055926\n",
      "      [Step 110] Loss : 2.745740\n",
      "      [Step 120] Loss : 2.700223\n",
      "      [Step 130] Loss : 2.951861\n",
      "      [Step 140] Loss : 3.195516\n",
      "      [Step 150] Loss : 3.096486\n",
      "      [Step 160] Loss : 2.684317\n",
      "   Train Loss : 472.720637 | Train accuracy : 0.320121\n",
      "   Validation Loss : 146.574227 | Validation Accuracy : 0.175342\n",
      "\u001b[32mLoss Updation : Positive\u001b[0m\n",
      "\u001b[32mAccuracy Updation : Positive\u001b[0m\n",
      "   Execution Time : 1556.439 seconds\n",
      "\n",
      "Epoch 6 :\n",
      "      [Step 10] Loss : 3.176891\n",
      "      [Step 20] Loss : 2.489390\n",
      "      [Step 30] Loss : 2.640387\n",
      "      [Step 40] Loss : 2.326789\n",
      "      [Step 50] Loss : 2.909131\n",
      "      [Step 60] Loss : 2.906374\n",
      "      [Step 70] Loss : 2.698418\n",
      "      [Step 80] Loss : 2.622261\n",
      "      [Step 90] Loss : 2.714675\n",
      "      [Step 100] Loss : 3.043567\n",
      "      [Step 110] Loss : 2.475677\n",
      "      [Step 120] Loss : 2.994394\n",
      "      [Step 130] Loss : 2.607421\n",
      "      [Step 140] Loss : 2.647546\n",
      "      [Step 150] Loss : 2.855321\n",
      "      [Step 160] Loss : 3.334312\n",
      "   Train Loss : 441.223079 | Train accuracy : 0.360834\n",
      "   Validation Loss : 149.210047 | Validation Accuracy : 0.199609\n",
      "\u001b[32mAccuracy Updation : Positive\u001b[0m\n",
      "   Execution Time : 1548.635 seconds\n",
      "\n",
      "Epoch 7 :\n",
      "      [Step 10] Loss : 2.612339\n",
      "      [Step 20] Loss : 2.053265\n",
      "      [Step 30] Loss : 2.994884\n",
      "      [Step 40] Loss : 2.584040\n",
      "      [Step 50] Loss : 3.039873\n",
      "      [Step 60] Loss : 2.503629\n",
      "      [Step 70] Loss : 3.070773\n",
      "      [Step 80] Loss : 2.821165\n",
      "      [Step 90] Loss : 3.030419\n",
      "      [Step 100] Loss : 2.482870\n",
      "      [Step 110] Loss : 2.244897\n",
      "      [Step 120] Loss : 2.274706\n",
      "      [Step 130] Loss : 2.133249\n",
      "      [Step 140] Loss : 2.308438\n",
      "      [Step 150] Loss : 3.188555\n",
      "      [Step 160] Loss : 1.911582\n",
      "   Train Loss : 408.781018 | Train accuracy : 0.403601\n",
      "   Validation Loss : 150.809152 | Validation Accuracy : 0.183170\n",
      "\u001b[31mModel Updation : Negative\n",
      "\u001b[0m\n",
      "   Execution Time : 1549.404 seconds\n",
      "\n",
      "Epoch 8 :\n",
      "      [Step 10] Loss : 2.124572\n",
      "      [Step 20] Loss : 2.487719\n",
      "      [Step 30] Loss : 2.411463\n",
      "      [Step 40] Loss : 2.223781\n",
      "      [Step 50] Loss : 2.108820\n",
      "      [Step 60] Loss : 2.465884\n",
      "      [Step 70] Loss : 2.655228\n",
      "      [Step 80] Loss : 2.678592\n",
      "      [Step 90] Loss : 2.413463\n",
      "      [Step 100] Loss : 1.913248\n",
      "      [Step 110] Loss : 2.708352\n",
      "      [Step 120] Loss : 2.242707\n",
      "      [Step 130] Loss : 2.516445\n",
      "      [Step 140] Loss : 2.112400\n",
      "      [Step 150] Loss : 2.585274\n",
      "      [Step 160] Loss : 2.216635\n",
      "   Train Loss : 386.828170 | Train accuracy : 0.427383\n",
      "   Validation Loss : 158.175153 | Validation Accuracy : 0.188258\n",
      "\u001b[31mModel Updation : Negative\n",
      "\u001b[0m\n",
      "   Execution Time : 1554.308 seconds\n",
      "\n",
      "Epoch 9 :\n",
      "      [Step 10] Loss : 2.365997\n",
      "      [Step 20] Loss : 2.337635\n",
      "      [Step 30] Loss : 2.456467\n",
      "      [Step 40] Loss : 2.457956\n",
      "      [Step 50] Loss : 2.346507\n",
      "      [Step 60] Loss : 2.360312\n",
      "      [Step 70] Loss : 2.295748\n",
      "      [Step 80] Loss : 2.109158\n",
      "      [Step 90] Loss : 2.249575\n",
      "      [Step 100] Loss : 2.660530\n",
      "      [Step 110] Loss : 1.921100\n",
      "      [Step 120] Loss : 1.857855\n",
      "      [Step 130] Loss : 2.019644\n",
      "      [Step 140] Loss : 1.922792\n",
      "      [Step 150] Loss : 2.478792\n",
      "      [Step 160] Loss : 1.854181\n",
      "   Train Loss : 356.232453 | Train accuracy : 0.475436\n",
      "   Validation Loss : 159.967937 | Validation Accuracy : 0.197652\n",
      "\u001b[31mModel Updation : Negative\n",
      "\u001b[0m\n",
      "   Execution Time : 1561.122 seconds\n",
      "\n",
      "Epoch 10 :\n",
      "      [Step 10] Loss : 1.834813\n",
      "      [Step 20] Loss : 2.176023\n",
      "      [Step 30] Loss : 1.851547\n",
      "      [Step 40] Loss : 2.000951\n",
      "      [Step 50] Loss : 2.171583\n",
      "      [Step 60] Loss : 1.877212\n",
      "      [Step 70] Loss : 1.911517\n",
      "      [Step 80] Loss : 1.953131\n",
      "      [Step 90] Loss : 2.193660\n",
      "      [Step 100] Loss : 1.919443\n",
      "      [Step 110] Loss : 2.328221\n",
      "      [Step 120] Loss : 1.907485\n",
      "      [Step 130] Loss : 1.951773\n",
      "      [Step 140] Loss : 2.096617\n",
      "      [Step 150] Loss : 2.067644\n",
      "      [Step 160] Loss : 2.156143\n",
      "   Train Loss : 333.074003 | Train accuracy : 0.505089\n",
      "   Validation Loss : 162.084568 | Validation Accuracy : 0.191781\n",
      "\u001b[31mModel Updation : Negative\n",
      "\u001b[0m\n",
      "   Execution Time : 1571.716 seconds\n",
      "\n",
      "\u001b[34mTraining finished...\u001b[0m\n",
      "\u001b[34mExceution Time : 15702.360 seconds\u001b[0m\n"
     ]
    }
   ],
   "source": [
    "train_init = time.time()\n",
    "cprint(\"Started training...\", \"blue\")\n",
    "best_loss = np.inf\n",
    "best_acc = 0.0\n",
    "if device == \"cuda:0\":\n",
    "    print(\"Model Loaded on GPU...\")\n",
    "    model = model.cuda()\n",
    "update = 0\n",
    "TL, VL, TA, VA = [], [], [], []\n",
    "for epoch in range(EPOCHS):\n",
    "    print(f\"Epoch {epoch + 1} :\")\n",
    "    epoch_init = time.time()\n",
    "    train_loss = val_loss = 0.0\n",
    "    train_acc = val_acc = 0\n",
    "    tot_val_data_point = 0\n",
    "    model.train()\n",
    "    for train_index, (patch, labels) in enumerate(train_dl):\n",
    "        optim.zero_grad()\n",
    "        if device == \"cuda:0\":\n",
    "            dev_patch = patch.cuda()\n",
    "            dev_labels = labels.cuda()\n",
    "        else:\n",
    "            dev_patch = patch\n",
    "            dev_labels = labels\n",
    "        output = model(dev_patch)\n",
    "        acc = accuracy_func(output, dev_labels)\n",
    "        train_acc += acc\n",
    "        loss = criterion(output, dev_labels)\n",
    "        train_loss += loss.item()\n",
    "        TL.append(loss.item())\n",
    "        TA.append(acc / dev_patch.shape[0])\n",
    "        if train_index % 10 == 9:\n",
    "            print(f\"      [Step {train_index + 1}] Loss : {'%.6f'%loss.item()}\")\n",
    "        loss.backward()\n",
    "        optim.step()\n",
    "        \n",
    "    model.eval()\n",
    "    with torch.no_grad():\n",
    "        for val_index, (patch, labels) in enumerate(val_dl):\n",
    "            if device == \"cuda:0\":\n",
    "                dev_patch = patch.cuda()\n",
    "                dev_labels = labels.cuda()\n",
    "            else:\n",
    "              dev_patch = patch\n",
    "              dev_labels = labels\n",
    "            output = model(dev_patch)\n",
    "            acc = accuracy_func(output, dev_labels)\n",
    "            val_acc += acc\n",
    "            loss = criterion(output, dev_labels)\n",
    "            val_loss += loss.item()\n",
    "            VL.append(loss.item())\n",
    "            VA.append(acc / dev_patch.shape[0])\n",
    "    TRAIN_ACC = train_acc / len(train_ds)\n",
    "    VAL_ACC = val_acc / len(val_ds)\n",
    "    print(f\"   Train Loss : {'%.6f'%train_loss} | Train accuracy : {'%.6f'%TRAIN_ACC}\")\n",
    "    print(f\"   Validation Loss : {'%.6f'%val_loss} | Validation Accuracy : {'%.6f'%VAL_ACC}\")\n",
    "    updation_flag = False\n",
    "    if val_loss < best_loss:\n",
    "      update = 0\n",
    "      updation_flag = True\n",
    "      best_loss = val_loss\n",
    "      cprint(\"Loss Updation : Positive\", \"green\")\n",
    "      torch.save({\n",
    "          \"model\" : model.state_dict(),\n",
    "          \"optim\" : optim.state_dict(),\n",
    "          \"epoch\" : epoch + 1\n",
    "      }, \"best_loss_model.pt\")\n",
    "    if VAL_ACC > best_acc:\n",
    "      update = 0\n",
    "      updation_flag = True\n",
    "      best_acc = VAL_ACC\n",
    "      cprint(\"Accuracy Updation : Positive\", \"green\")\n",
    "      torch.save({\n",
    "          \"model\" : model.state_dict(),\n",
    "          \"optim\" : optim.state_dict(),\n",
    "          \"epoch\" : epoch + 1\n",
    "      }, \"best_accuracy_model.pt\")\n",
    "    if updation_flag == False:\n",
    "        cprint(\"Model Updation : Negative\\n\", \"red\")\n",
    "        update += 1\n",
    "    print(f\"   Execution Time : {'%.3f'%(time.time() - epoch_init)} seconds\\n\")\n",
    "    if update >= 5:\n",
    "      cprint(\"Model Stopped due to continuous model learning degradation\\n\", \"red\")\n",
    "      break\n",
    "cprint(\"Training finished...\", \"blue\")\n",
    "cprint(f\"Exceution Time : {'%.3f'%(time.time() - train_init)} seconds\", \"blue\")"
   ]
  },
  {
   "cell_type": "markdown",
   "id": "d3ee1110",
   "metadata": {
    "papermill": {
     "duration": 0.105888,
     "end_time": "2022-03-01T21:45:49.955409",
     "exception": false,
     "start_time": "2022-03-01T21:45:49.849521",
     "status": "completed"
    },
    "tags": []
   },
   "source": [
    "# Visualization: \n",
    "\n",
    "Now that the training has been completed, we can plot the loss and accuracy curves to see the model performances."
   ]
  },
  {
   "cell_type": "code",
   "execution_count": 32,
   "id": "4531f68a",
   "metadata": {
    "execution": {
     "iopub.execute_input": "2022-03-01T21:45:50.185759Z",
     "iopub.status.busy": "2022-03-01T21:45:50.180659Z",
     "iopub.status.idle": "2022-03-01T21:45:50.465380Z",
     "shell.execute_reply": "2022-03-01T21:45:50.465804Z",
     "shell.execute_reply.started": "2022-03-01T17:17:41.342554Z"
    },
    "papermill": {
     "duration": 0.401896,
     "end_time": "2022-03-01T21:45:50.465950",
     "exception": false,
     "start_time": "2022-03-01T21:45:50.064054",
     "status": "completed"
    },
    "tags": []
   },
   "outputs": [
    {
     "data": {
      "image/png": "[encoded data removed]",
      "text/plain": [
       "<Figure size 1440x432 with 1 Axes>"
      ]
     },
     "metadata": {
      "needs_background": "light"
     },
     "output_type": "display_data"
    }
   ],
   "source": [
    "plt.figure(figsize = (20, 6))\n",
    "plt.plot(TL, label = \"training loss\")\n",
    "plt.plot(VL, label = \"validation loss\")\n",
    "plt.xlabel(\"Steps\")\n",
    "plt.ylabel(\"Loss\")\n",
    "plt.title(\"Loss Curves\", size = 20)\n",
    "plt.legend()\n",
    "plt.show()"
   ]
  },
  {
   "cell_type": "markdown",
   "id": "ecefb16b",
   "metadata": {
    "papermill": {
     "duration": 0.109171,
     "end_time": "2022-03-01T21:45:50.684402",
     "exception": false,
     "start_time": "2022-03-01T21:45:50.575231",
     "status": "completed"
    },
    "tags": []
   },
   "source": [
    "The accuracies are stored as GPU tensors , so we have make them ordinary float variables for plotting."
   ]
  },
  {
   "cell_type": "code",
   "execution_count": 33,
   "id": "c368382d",
   "metadata": {
    "execution": {
     "iopub.execute_input": "2022-03-01T21:45:50.906323Z",
     "iopub.status.busy": "2022-03-01T21:45:50.905502Z",
     "iopub.status.idle": "2022-03-01T21:45:50.949823Z",
     "shell.execute_reply": "2022-03-01T21:45:50.949323Z",
     "shell.execute_reply.started": "2022-03-01T17:17:45.444017Z"
    },
    "papermill": {
     "duration": 0.157288,
     "end_time": "2022-03-01T21:45:50.949936",
     "exception": false,
     "start_time": "2022-03-01T21:45:50.792648",
     "status": "completed"
    },
    "tags": []
   },
   "outputs": [],
   "source": [
    "for index in range(len(TA)):\n",
    "    TA[index] = float(TA[index].cpu().detach())\n",
    "for index in range(len(VA)):\n",
    "    VA[index] = float(VA[index].cpu().detach())"
   ]
  },
  {
   "cell_type": "code",
   "execution_count": 34,
   "id": "5c957105",
   "metadata": {
    "execution": {
     "iopub.execute_input": "2022-03-01T21:45:51.190841Z",
     "iopub.status.busy": "2022-03-01T21:45:51.173613Z",
     "iopub.status.idle": "2022-03-01T21:45:51.426590Z",
     "shell.execute_reply": "2022-03-01T21:45:51.426182Z",
     "shell.execute_reply.started": "2022-03-01T17:17:48.477295Z"
    },
    "papermill": {
     "duration": 0.368472,
     "end_time": "2022-03-01T21:45:51.426702",
     "exception": false,
     "start_time": "2022-03-01T21:45:51.058230",
     "status": "completed"
    },
    "tags": []
   },
   "outputs": [
    {
     "data": {
      "image/png": "[encoded data removed]",
      "text/plain": [
       "<Figure size 1440x432 with 1 Axes>"
      ]
     },
     "metadata": {
      "needs_background": "light"
     },
     "output_type": "display_data"
    }
   ],
   "source": [
    "plt.figure(figsize = (20, 6))\n",
    "plt.plot(TA, label = \"training accuracy score\")\n",
    "plt.plot(VA, label = \"validation accuracy score\")\n",
    "plt.xlabel(\"Steps\")\n",
    "plt.ylabel(\"Accuracy\")\n",
    "plt.title(\"Accuracy Curves\", size = 20)\n",
    "plt.legend()\n",
    "plt.show()"
   ]
  },
  {
   "cell_type": "markdown",
   "id": "31869ac5",
   "metadata": {
    "papermill": {
     "duration": 0.111455,
     "end_time": "2022-03-01T21:45:51.650563",
     "exception": false,
     "start_time": "2022-03-01T21:45:51.539108",
     "status": "completed"
    },
    "tags": []
   },
   "source": [
    "# Thanks for visiting :)\n",
    "\n",
    "# Do UPVOTE if you like the notebook :)\n",
    "## Also follow me on [kaggle](https://www.kaggle.com/sagnik1511) , [GitHub](https://github.com/sagnik1511) and on [LinkedIn](https://www.linkedin.com/in/sagnik1511)"
   ]
  }
 ],
 "metadata": {
  "kernelspec": {
   "display_name": "Python 3",
   "language": "python",
   "name": "python3"
  },
  "language_info": {
   "codemirror_mode": {
    "name": "ipython",
    "version": 3
   },
   "file_extension": ".py",
   "mimetype": "text/x-python",
   "name": "python",
   "nbconvert_exporter": "python",
   "pygments_lexer": "ipython3",
   "version": "3.7.12"
  },
  "papermill": {
   "default_parameters": {},
   "duration": 15745.79478,
   "end_time": "2022-03-01T21:45:53.297940",
   "environment_variables": {},
   "exception": null,
   "input_path": "__notebook__.ipynb",
   "output_path": "__notebook__.ipynb",
   "parameters": {},
   "start_time": "2022-03-01T17:23:27.503160",
   "version": "2.3.3"
  }
 },
 "nbformat": 4,
 "nbformat_minor": 5
}
